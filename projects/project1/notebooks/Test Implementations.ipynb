{
 "cells": [
  {
   "cell_type": "code",
   "execution_count": 1,
   "metadata": {},
   "outputs": [],
   "source": [
    "%matplotlib inline\n",
    "%load_ext autoreload\n",
    "%autoreload 2"
   ]
  },
  {
   "cell_type": "code",
   "execution_count": 2,
   "metadata": {},
   "outputs": [],
   "source": [
    "import numpy as np\n",
    "\n",
    "import sys\n",
    "sys.path.append('../scripts/')\n",
    "\n",
    "from proj1_helpers import *\n",
    "from implementations import *\n",
    "from costs import *\n",
    "from plots import *\n",
    "\n",
    "SEED = 42\n",
    "DATA_PATH = '/Users/tstadler/Documents/Studies/CS-433/labs/ex05/template/height_weight_genders.csv'"
   ]
  },
  {
   "cell_type": "code",
   "execution_count": 3,
   "metadata": {},
   "outputs": [],
   "source": [
    "def load_data(data_path, sample_size=500, seed=1):\n",
    "    \"\"\"Load data and convert it to the metric system.\"\"\"\n",
    "    data = np.genfromtxt(data_path, delimiter=\",\", skip_header=1, usecols=[1, 2])\n",
    "\n",
    "    height = data[:, 0]\n",
    "    weight = data[:, 1]\n",
    "    gender = np.genfromtxt(data_path, delimiter=\",\", skip_header=1, usecols=[0], \n",
    "                           converters={0: lambda x: 0 if b\"Male\" in x else 1})\n",
    "    \n",
    "    # Convert to metric system\n",
    "    height *= 0.025\n",
    "    weight *= 0.454\n",
    "    \n",
    "    # Cast into arrays\n",
    "    y = gender\n",
    "    x = np.c_[height.reshape(-1), weight.reshape(-1)]\n",
    "    \n",
    "    # Subsample\n",
    "    np.random.seed(seed)\n",
    "    num_observations = y.shape[0]\n",
    "    random_permuted_indices = np.random.permutation(num_observations)\n",
    "    y = y[random_permuted_indices]\n",
    "    x = x[random_permuted_indices]\n",
    "    y = y[:sample_size]\n",
    "    x = x[:sample_size]\n",
    "    \n",
    "    x, mean_x, std_x = standardise(x)\n",
    "    \n",
    "    return y, x"
   ]
  },
  {
   "cell_type": "code",
   "execution_count": 10,
   "metadata": {},
   "outputs": [],
   "source": [
    "def encode_data_lr(y,x):\n",
    "    ty = y.copy()\n",
    "    ty[ty == -1] = 0\n",
    "    \n",
    "    tx = np.c_[np.ones(len(y)), x]\n",
    "    \n",
    "    return ty, tx"
   ]
  },
  {
   "cell_type": "code",
   "execution_count": 5,
   "metadata": {},
   "outputs": [],
   "source": [
    "def eval_model(y, x, w, thresh=0):\n",
    "    y_pred = predict_labels(w, x, thresh)\n",
    "    acc = get_accuracy(y_pred, y)\n",
    "    \n",
    "    return acc"
   ]
  },
  {
   "cell_type": "code",
   "execution_count": 4,
   "metadata": {},
   "outputs": [],
   "source": [
    "y, x = load_data(DATA_PATH, seed=SEED)\n",
    "\n",
    "# Split into train and evaluation set\n",
    "(x_train, y_train), (x_eval, y_eval) = train_eval_split(y, x, split_ratio=.7, seed=SEED)"
   ]
  },
  {
   "cell_type": "markdown",
   "metadata": {},
   "source": [
    "# Least-Squares"
   ]
  },
  {
   "cell_type": "code",
   "execution_count": 16,
   "metadata": {},
   "outputs": [
    {
     "name": "stdout",
     "output_type": "stream",
     "text": [
      "Training loss: 0.18097245052318214\n",
      "Training accuracy: 0.8942857142857142\n",
      "Testing accuracy: 0.9066666666666666\n"
     ]
    }
   ],
   "source": [
    "def test_least_squares():\n",
    "    # Get optimal weights under MSE loss\n",
    "    w, loss = least_squares(y_train, x_train)\n",
    "    print(f'Training loss: {loss}')\n",
    "    \n",
    "    acc_train = eval_model(y_train, x_train, w, thresh=0)\n",
    "    print(f'Training accuracy: {acc_train}')\n",
    "    \n",
    "    acc_test = eval_model(y_eval, x_eval, w, thresh=0)\n",
    "    print(f'Testing accuracy: {acc_test}')\n",
    "\n",
    "test_least_squares()"
   ]
  },
  {
   "cell_type": "markdown",
   "metadata": {},
   "source": [
    "# Least-Squares Gradient Descent "
   ]
  },
  {
   "cell_type": "code",
   "execution_count": 31,
   "metadata": {},
   "outputs": [
    {
     "name": "stdout",
     "output_type": "stream",
     "text": [
      "Gradient Descent: Initial loss=0.25\n",
      "Gradient Descent(0/9999): loss=0.2293952577035611, gradient=0.4752856747626021\n",
      "Gradient Descent(100/9999): loss=0.1820473237630378, gradient=0.01303343893540376\n",
      "Gradient Descent(200/9999): loss=0.18119787616811756, gradient=0.005968731688410253\n",
      "Gradient Descent(300/9999): loss=0.18101972746664882, gradient=0.0027334119678468047\n",
      "Gradient Descent(400/9999): loss=0.18098236558579264, gradient=0.001251780340616725\n",
      "Gradient Descent(500/9999): loss=0.18097452993989907, gradient=0.0005732593694571731\n",
      "Gradient Descent(600/9999): loss=0.18097288662470284, gradient=0.00026252713356126326\n",
      "Gradient Descent(700/9999): loss=0.18097254198370313, gradient=0.00012022567711567387\n",
      "Loss convergence: Terminate because loss did not change by more than threshold.\n",
      "\n",
      "Training loss: 0.18097251339104944\n",
      "Training accuracy: 0.8942857142857142\n",
      "Testing accuracy: 0.9066666666666666\n"
     ]
    }
   ],
   "source": [
    "def test_ls_gd(gamma):\n",
    "    \n",
    "    max_iters = 10000\n",
    "    w_initial = np.zeros(x_train.shape[1])\n",
    "\n",
    "    # Run gradient descent under MSE loss to find optimal weights\n",
    "    w, loss = least_squares_GD(y_train, x_train, w_initial, max_iters, gamma, verbose=True)\n",
    "    print(f'\\nTraining loss: {loss}')\n",
    "    \n",
    "    acc_train = eval_model(y_train, x_train, w, thresh=0)\n",
    "    print(f'Training accuracy: {acc_train}')\n",
    "    \n",
    "    ty_eval, tx_eval = encode_data_lr(y_eval, x_eval)\n",
    "    acc_test = eval_model(y_eval, x_eval, w, thresh=0)\n",
    "    print(f'Testing accuracy: {acc_test}')\n",
    "\n",
    "test_ls_gd(0.1)"
   ]
  },
  {
   "cell_type": "markdown",
   "metadata": {},
   "source": [
    "# Least-Squares Stochastic Gradient Descent"
   ]
  },
  {
   "cell_type": "code",
   "execution_count": 32,
   "metadata": {},
   "outputs": [
    {
     "name": "stdout",
     "output_type": "stream",
     "text": [
      "Gradient Descent: Initial loss=0.25\n",
      "Gradient Descent(0/9999): loss=0.2293952577035611, gradient=0.4752856747626021\n",
      "Gradient Descent(100/9999): loss=0.1820473237630378, gradient=0.01303343893540376\n",
      "Gradient Descent(200/9999): loss=0.18119787616811756, gradient=0.005968731688410253\n",
      "Gradient Descent(300/9999): loss=0.18101972746664882, gradient=0.0027334119678468047\n",
      "Gradient Descent(400/9999): loss=0.18098236558579264, gradient=0.001251780340616725\n",
      "Gradient Descent(500/9999): loss=0.18097452993989907, gradient=0.0005732593694571731\n",
      "Gradient Descent(600/9999): loss=0.18097288662470284, gradient=0.00026252713356126326\n",
      "Gradient Descent(700/9999): loss=0.18097254198370313, gradient=0.00012022567711567387\n",
      "Loss convergence: Terminate because loss did not change by more than threshold.\n",
      "\n",
      "Training loss: 0.18097251339104944\n",
      "Training accuracy: 0.8942857142857142\n",
      "Testing accuracy: 0.9066666666666666\n"
     ]
    }
   ],
   "source": [
    "def test_ls_sgd(gamma):\n",
    "    \n",
    "    max_iters = 10000\n",
    "    w_initial = np.zeros(x_train.shape[1])\n",
    "\n",
    "    # Run gradient descent under MSE loss to find optimal weights\n",
    "    w, loss = least_squares_SGD(y_train, x_train, w_initial, max_iters, gamma, verbose=True)\n",
    "    print(f'\\nTraining loss: {loss}')\n",
    "    \n",
    "    acc_train = eval_model(y_train, x_train, w, thresh=0)\n",
    "    print(f'Training accuracy: {acc_train}')\n",
    "    \n",
    "    ty_eval, tx_eval = encode_data_lr(y_eval, x_eval)\n",
    "    acc_test = eval_model(y_eval, x_eval, w, thresh=0)\n",
    "    print(f'Testing accuracy: {acc_test}')\n",
    "\n",
    "test_ls_gd(0.1)"
   ]
  },
  {
   "cell_type": "markdown",
   "metadata": {},
   "source": [
    "# Ridge Regression"
   ]
  },
  {
   "cell_type": "code",
   "execution_count": 18,
   "metadata": {},
   "outputs": [
    {
     "name": "stdout",
     "output_type": "stream",
     "text": [
      "Maximum test accuracy 0.9051724137931034 with lambda 0.006158482110660254\n",
      "\n",
      "Training loss: 0.18107278351177972\n",
      "Training accuracy: 0.9028571428571428\n",
      "Test accuracy: 0.9066666666666666\n"
     ]
    },
    {
     "data": {
      "image/png": "[encoded data removed]",
      "text/plain": [
       "<Figure size 720x432 with 1 Axes>"
      ]
     },
     "metadata": {},
     "output_type": "display_data"
    }
   ],
   "source": [
    "def test_ridge(lambdas, k_fold):\n",
    "    \n",
    "    # Hyperparameter optimisation\n",
    "    acc_train = np.empty((len(lambdas), k_fold), float)\n",
    "    acc_test = np.empty((len(lambdas), k_fold), float)\n",
    "\n",
    "    for l, lambda_ in enumerate(lambdas):\n",
    "        k = 0\n",
    "        for train_split, test_split in k_fold_iter(y_train, x_train, k_fold):\n",
    "            # Train\n",
    "            w, loss = ridge_regression(train_split[1], train_split[0], lambda_)\n",
    "            acc_tr = eval_model(train_split[1], train_split[0], w)\n",
    "            acc_train[l, k] = acc_tr\n",
    "\n",
    "            # Test\n",
    "            acc_te = eval_model(test_split[1], test_split[0], w)\n",
    "            acc_test[l, k] = acc_te\n",
    "\n",
    "            k += 1\n",
    "    fig = cross_validation_visualization(lambdas, 1-acc_train, 1-acc_test)\n",
    "\n",
    "    avg_acc_test = np.mean(acc_test, axis=1)\n",
    "    lambda_opt = lambdas[np.argmax(avg_acc_test)]\n",
    "\n",
    "    print('Maximum test accuracy {} with lambda {}\\n'.format(np.max(avg_acc_test), lambda_opt))\n",
    "    \n",
    "    # Run training\n",
    "    w, loss = ridge_regression(y_train, x_train, lambda_opt)\n",
    "    print(f'Training loss: {loss}')\n",
    "    \n",
    "    acc = eval_model(y_train, x_train, w)\n",
    "    print(f'Training accuracy: {acc}')\n",
    "    \n",
    "    acc = eval_model(y_eval, x_eval, w)\n",
    "    print(f'Test accuracy: {acc}')\n",
    "\n",
    "lambdas = np.logspace(-7, 0, 20)\n",
    "k_fold = 4\n",
    "\n",
    "test_ridge(lambdas, k_fold)"
   ]
  },
  {
   "cell_type": "markdown",
   "metadata": {},
   "source": [
    "# Logistic Regression"
   ]
  },
  {
   "cell_type": "code",
   "execution_count": 20,
   "metadata": {},
   "outputs": [
    {
     "name": "stdout",
     "output_type": "stream",
     "text": [
      "Gradient Descent (0/9999): loss=106.89876336417497, gradient=175.9176996867318\n",
      "Gradient Descent (100/9999): loss=81.51151634925893, gradient=1.2400871335835708\n",
      "Gradient Descent (200/9999): loss=81.02306893735451, gradient=0.30718557811386427\n",
      "Gradient Descent (300/9999): loss=80.98984843736767, gradient=0.08603496182477562\n",
      "Gradient Descent (400/9999): loss=80.9871724034297, gradient=0.024873396154775743\n",
      "Gradient Descent (500/9999): loss=80.98694704589076, gradient=0.0072559360974283164\n",
      "Gradient Descent (600/9999): loss=80.98692782676474, gradient=0.0021221777225474314\n",
      "Gradient Descent (700/9999): loss=80.98692618168845, gradient=0.0006211549033304769\n",
      "Loss convergence:Terminate because loss did not change by more than threshold.\n",
      "\n",
      "Training loss: 80.9869260674312\n",
      "Training accuracy: 0.8914285714285715\n",
      "Testing accuracy: 0.9066666666666666\n"
     ]
    }
   ],
   "source": [
    "def test_logistic(gamma):\n",
    "    \n",
    "    max_iters = 10000\n",
    "    \n",
    "    ty_train, tx_train = encode_data_lr(y_train, x_train)\n",
    "    w_initial = np.zeros(tx_train.shape[1])\n",
    "\n",
    "    # Run gradient descent under MSE loss to find optimal weights\n",
    "    w, loss = logistic_regression(ty_train, tx_train, w_initial, max_iters, gamma, verbose=True)\n",
    "    print(f'\\nTraining loss: {loss}')\n",
    "    \n",
    "    acc_train = eval_model(y_train, tx_train, w, thresh=0.5)\n",
    "    print(f'Training accuracy: {acc_train}')\n",
    "    \n",
    "    ty_eval, tx_eval = encode_data_lr(y_eval, x_eval)\n",
    "    acc_test = eval_model(y_eval, tx_eval, w, thresh=0.5)\n",
    "    print(f'Testing accuracy: {acc_test}')\n",
    "\n",
    "test_logistic(0.01)"
   ]
  },
  {
   "cell_type": "markdown",
   "metadata": {},
   "source": [
    "# Regularised Logistic Regression"
   ]
  },
  {
   "cell_type": "code",
   "execution_count": 23,
   "metadata": {},
   "outputs": [
    {
     "name": "stdout",
     "output_type": "stream",
     "text": [
      "Maximum test accuracy 0.896551724137931 with lambda 0.03359818286283781\n",
      "\n",
      "Gradient Descent (0/4999): loss=89.33187899433241, gradient=2.2758144636929023\n",
      "Gradient Descent (100/4999): loss=87.0660437926858, gradient=0.02013094465451561\n",
      "Gradient Descent (200/4999): loss=87.04696541309573, gradient=0.00021222489965424718\n",
      "Gradient Descent (300/4999): loss=87.04676443950089, gradient=2.2383573799459e-06\n",
      "Loss convergence:Terminate because loss did not change by more than threshold.\n",
      "\n",
      "Training loss: 87.04676250745378\n",
      "Training accuracy: 0.9057142857142857\n",
      "Test accuracy: 0.9\n"
     ]
    },
    {
     "data": {
      "image/png": "[encoded data removed]",
      "text/plain": [
       "<Figure size 720x432 with 1 Axes>"
      ]
     },
     "metadata": {},
     "output_type": "display_data"
    }
   ],
   "source": [
    "def test_logreg_reg(lambdas, k_fold, gamma):\n",
    "    max_iters = 5000\n",
    "    # Hyperparameter optimisation\n",
    "    acc_train = np.empty((len(lambdas), k_fold), float)\n",
    "    acc_test = np.empty((len(lambdas), k_fold), float)\n",
    "    \n",
    "    ty_train, tx_train = encode_data_lr(y_train, x_train)\n",
    "    w_initial = np.zeros(tx_train.shape[1])\n",
    "    \n",
    "    for l, lambda_ in enumerate(lambdas):\n",
    "        k = 0\n",
    "        for train_split, test_split in k_fold_iter(ty_train, tx_train, k_fold):\n",
    "            # Train\n",
    "            w, loss = reg_logistic_regression(train_split[1], train_split[0], lambda_, \n",
    "                                          w_initial, max_iters, gamma, verbose=False)\n",
    "            acc_tr = eval_model(train_split[1], train_split[0], w, thresh=0.5)\n",
    "            acc_train[l, k] = acc_tr\n",
    "\n",
    "            # Test\n",
    "            acc_te = eval_model(test_split[1], test_split[0], w, thresh=0.5)\n",
    "            acc_test[l, k] = acc_te\n",
    "\n",
    "            k += 1\n",
    "    fig = cross_validation_visualization(lambdas, 1-acc_train, 1-acc_test)\n",
    "\n",
    "    avg_acc_test = np.mean(acc_test, axis=1)\n",
    "    lambda_opt = lambdas[np.argmax(avg_acc_test)]\n",
    "\n",
    "    print('Maximum test accuracy {} with lambda {}\\n'.format(np.max(avg_acc_test), lambda_opt))\n",
    "    \n",
    "    # Run training\n",
    "    w, loss = reg_logistic_regression(ty_train, tx_train, lambda_, \n",
    "                                          w_initial, max_iters, gamma, verbose=True)\n",
    "    print(f'\\nTraining loss: {loss}')\n",
    "    \n",
    "    acc = eval_model(ty_train, tx_train, w)\n",
    "    print(f'Training accuracy: {acc}')\n",
    "    \n",
    "    ty_eval, tx_eval = encode_data_lr(y_eval, x_eval)\n",
    "    acc = eval_model(ty_eval, tx_eval, w)\n",
    "    print(f'Test accuracy: {acc}')\n",
    "\n",
    "lambdas = np.logspace(-7, 0, 20)\n",
    "k_fold = 4\n",
    "\n",
    "test_logreg_reg(lambdas, k_fold, gamma=0.01)"
   ]
  }
 ],
 "metadata": {
  "kernelspec": {
   "display_name": "Python 3",
   "language": "python",
   "name": "python3"
  },
  "language_info": {
   "codemirror_mode": {
    "name": "ipython",
    "version": 3
   },
   "file_extension": ".py",
   "mimetype": "text/x-python",
   "name": "python",
   "nbconvert_exporter": "python",
   "pygments_lexer": "ipython3",
   "version": "3.6.8"
  }
 },
 "nbformat": 4,
 "nbformat_minor": 4
}
