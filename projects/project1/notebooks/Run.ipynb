{
 "cells": [
  {
   "cell_type": "code",
   "execution_count": 1,
   "metadata": {},
   "outputs": [],
   "source": [
    "%matplotlib inline\n",
    "%load_ext autoreload\n",
    "%autoreload 2"
   ]
  },
  {
   "cell_type": "code",
   "execution_count": 151,
   "metadata": {},
   "outputs": [],
   "source": [
    "import numpy as np\n",
    "import pandas as pd\n",
    "\n",
    "import sys\n",
    "sys.path.append('../scripts/')\n",
    "\n",
    "from proj1_helpers import *\n",
    "from implementations import *\n",
    "from implementation_variants import *\n",
    "from plots import *\n",
    "\n",
    "SEED = 42\n",
    "DATA_PATH = '../data/'"
   ]
  },
  {
   "cell_type": "markdown",
   "metadata": {},
   "source": [
    "# 0 Load data"
   ]
  },
  {
   "cell_type": "code",
   "execution_count": 3,
   "metadata": {},
   "outputs": [],
   "source": [
    "df_train = pd.read_csv('../data/train.csv')\n",
    "df_train = df_train.set_index('Id')\n",
    "df_train_x = df_train[list(filter(lambda c: c != 'Prediction', list(df_train)))]\n",
    "\n",
    "FEATURE_NAMES = list(df_train_x)"
   ]
  },
  {
   "cell_type": "code",
   "execution_count": 115,
   "metadata": {},
   "outputs": [
    {
     "name": "stdout",
     "output_type": "stream",
     "text": [
      " # train samples: 175000\n",
      " # eval samples: 75000\n"
     ]
    }
   ],
   "source": [
    " # Load train data\n",
    "y, x, ids = load_csv_data(path.join(DATA_PATH, 'train.csv'))\n",
    "\n",
    "# Split into train and evaluation set\n",
    "(x_train, y_train), (x_eval, y_eval) = train_eval_split(y, x, split_ratio=.7, seed=1)\n",
    "\n",
    "print(f' # train samples: {len(y_train)}\\n # eval samples: {len(y_eval)}')\n",
    "\n",
    "num_dim = x_train.shape[1]"
   ]
  },
  {
   "cell_type": "code",
   "execution_count": 6,
   "metadata": {},
   "outputs": [],
   "source": [
    "def generate_mask(features_to_remove):\n",
    "    feat_idx = [FEATURE_NAMES.index(f) for f in features_to_remove]\n",
    "    mask = np.ones(len(FEATURE_NAMES)).astype(bool)\n",
    "    mask[feat_idx] = False\n",
    "    \n",
    "    return mask"
   ]
  },
  {
   "cell_type": "code",
   "execution_count": 208,
   "metadata": {},
   "outputs": [],
   "source": [
    "LEAST_INFO = ['DER_mass_vis', 'DER_deltar_tau_lep','DER_pt_tot','PRI_tau_eta','PRI_tau_phi',\n",
    "              'PRI_lep_pt','PRI_lep_eta','PRI_lep_phi','PRI_met','PRI_met_phi']\n",
    "\n",
    "JET_NOT_DEFINED = ['DER_lep_eta_centrality', 'DER_prodeta_jet_jet', 'DER_mass_jet_jet', 'DER_deltaeta_jet_jet', \n",
    "                      'PRI_jet_subleading_eta', 'PRI_jet_subleading_phi', 'PRI_jet_subleading_pt']\n",
    "\n",
    "DER_FEATURES = list(filter(lambda c: 'DER' in c, list(FEATURE_NAMES)))\n",
    "\n",
    "feature_masks = [generate_mask([]), generate_mask(LEAST_INFO)]\n",
    "\n",
    "labels = ['Raw', 'MostInfo', 'ImputeJet', 'DeCorrelate']"
   ]
  },
  {
   "cell_type": "code",
   "execution_count": 225,
   "metadata": {},
   "outputs": [],
   "source": [
    "def compare_features_visualisation(acc_train, acc_test, labels, model):\n",
    "    arr_train = acc_train.flatten()\n",
    "    arr_test = acc_test.flatten()\n",
    "\n",
    "    arr_features = np.concatenate([np.repeat(labels, acc_train.shape[1]), np.repeat(labels, acc_train.shape[1])])\n",
    "    arr_labels = np.concatenate([np.repeat('Train', len(arr_train)), np.repeat('Test', len(arr_test))])\n",
    "    arr_acc = np.concatenate([arr_train, arr_test])\n",
    "\n",
    "    plt_data = pd.DataFrame({'Feature Set':arr_features, 'Accuracy':arr_acc, 'Set':arr_labels})\n",
    "\n",
    "    fig, ax = plt.subplots(figsize=(8,3.5))\n",
    "    ax = sns.boxplot(x='Feature Set', y='Accuracy', hue='Set', data=plt_data)\n",
    "    ax.set(ylabel='$\\mathtt{Accuracy}$', title=f'{model}');\n",
    "    \n",
    "    return fig"
   ]
  },
  {
   "cell_type": "markdown",
   "metadata": {},
   "source": [
    "# 1 Least-Squares"
   ]
  },
  {
   "cell_type": "code",
   "execution_count": 95,
   "metadata": {},
   "outputs": [],
   "source": [
    "def run_least_squares(y_train, x_train, y_eval, x_eval, feature_mask):\n",
    "    # Remove unwanted features\n",
    "    x_train = x_train[:, feature_mask]\n",
    "    x_eval = x_eval[:, feature_mask]\n",
    "    \n",
    "    # Standardise to training mean and s.d.\n",
    "    x_train, mean_x, std_x = standardise(x_train)\n",
    "    x_eval = standardise_to_fixed(x_eval, mean_x, std_x)\n",
    "    \n",
    "    # Run training\n",
    "    w, loss = least_squares(y_train, x_train)\n",
    "#     print(f'Training loss: {loss}')\n",
    "\n",
    "    # Get training accuracy\n",
    "    acc_tr  = eval_model(y_train, x_train, w, thresh=0)\n",
    "#     print(f'Training accuracy: {acc_tr}')\n",
    "\n",
    "    # Get accuracy on evaluation set\n",
    "    acc_te = eval_model(y_eval, x_eval, w, thresh=0)\n",
    "    print(f'Test Accuracy: {acc_te}')\n",
    "    \n",
    "    return w, loss, acc_tr, acc_te"
   ]
  },
  {
   "cell_type": "code",
   "execution_count": 209,
   "metadata": {},
   "outputs": [
    {
     "name": "stdout",
     "output_type": "stream",
     "text": [
      "Feature Set:  Raw\n",
      "Test Accuracy: 0.7192457142857143\n",
      "Test Accuracy: 0.7175542857142857\n",
      "Test Accuracy: 0.7191314285714285\n",
      "Test Accuracy: 0.7180342857142857\n",
      "Feature Set:  MostInfo\n",
      "Test Accuracy: 0.7092114285714286\n",
      "Test Accuracy: 0.7069485714285715\n",
      "Test Accuracy: 0.7116114285714286\n",
      "Test Accuracy: 0.7067885714285714\n",
      "Feature Set: Impute\n",
      "Test Accuracy: 0.71952\n",
      "Test Accuracy: 0.7175542857142857\n",
      "Test Accuracy: 0.7188571428571429\n",
      "Test Accuracy: 0.7179428571428571\n",
      "Feature Set: Indicator\n",
      "Test Accuracy: 0.7205714285714285\n",
      "Test Accuracy: 0.7192685714285715\n",
      "Test Accuracy: 0.7202514285714285\n",
      "Test Accuracy: 0.7194514285714285\n"
     ]
    },
    {
     "data": {
      "image/png": "[encoded data removed]",
      "text/plain": [
       "<Figure size 576x288 with 1 Axes>"
      ]
     },
     "metadata": {},
     "output_type": "display_data"
    }
   ],
   "source": [
    "k_fold = 4\n",
    "\n",
    "# Hyperparameter optimisation\n",
    "acc_train = np.empty((len(feature_masks)+2, k_fold), float)\n",
    "acc_test = np.empty((len(feature_masks)+2, k_fold), float)\n",
    "    \n",
    "for i, features in enumerate(feature_masks):\n",
    "    print('Feature Set: ', labels[i])\n",
    "    k = 0\n",
    "    for train_split, test_split in k_fold_iter(y_train, x_train, k_fold):\n",
    "            # Run evaluation\n",
    "            w, loss, acc_tr, acc_te = run_least_squares(train_split[1], train_split[0], \n",
    "                                                        test_split[1], test_split[0], features)\n",
    "            acc_train[i, k] = acc_tr\n",
    "            acc_test[i, k] = acc_te\n",
    "            \n",
    "            k+=1\n",
    "            \n",
    "print('Feature Set: Impute')\n",
    "col_index = [FEATURE_NAMES.index(i) for i in JET_NOT_DEFINED]\n",
    "x_train_imp = x_train.copy()\n",
    "x_train_imp[x_train_imp == -999] = -100\n",
    "\n",
    "x_eval_imp = x_eval.copy()\n",
    "x_eval_imp[x_eval_imp == -999] = -100\n",
    "\n",
    "features = generate_mask([])\n",
    "\n",
    "k = 0\n",
    "for train_split, test_split in k_fold_iter(y_train, x_train_imp, k_fold):\n",
    "        # Run evaluation\n",
    "        w, loss, acc_tr, acc_te = run_least_squares(train_split[1], train_split[0], \n",
    "                                                    test_split[1], test_split[0], features)\n",
    "        acc_train[-2, k] = acc_tr\n",
    "        acc_test[-2, k] = acc_te\n",
    "\n",
    "        k+=1\n",
    "        \n",
    "print('Feature Set: Indicator')\n",
    "JET_NUM_IDX = FEATURE_NAMES.index('PRI_jet_num')\n",
    "\n",
    "x_ind = (x_train[:, JET_NUM_IDX] > 1).astype(int)\n",
    "# x_train_imp = np.delete(x_train, JET_NUM_IDX, axis=1)\n",
    "x_train_imp = np.concatenate([x_train, np.expand_dims(x_ind, axis=1)], axis=1)\n",
    "\n",
    "features = generate_mask(['DER_deltaeta_jet_jet', 'DER_prodeta_jet_jet'])\n",
    "features = np.concatenate([features, [True]])\n",
    "\n",
    "k = 0\n",
    "for train_split, test_split in k_fold_iter(y_train, x_train_imp, k_fold):\n",
    "        # Run evaluation\n",
    "        w, loss, acc_tr, acc_te = run_least_squares(train_split[1], train_split[0], \n",
    "                                                    test_split[1], test_split[0], features)\n",
    "        acc_train[-1, k] = acc_tr\n",
    "        acc_test[-1, k] = acc_te\n",
    "\n",
    "        k+=1\n",
    "            \n",
    "fig = compare_features_visualisation(acc_train, acc_test, labels, '$\\mathtt{LeastSquares}$')\n",
    "fig.savefig('../report/compare_features_ls.pdf', bbox_inches='tight')"
   ]
  },
  {
   "cell_type": "markdown",
   "metadata": {},
   "source": [
    "# 2 Ridge Regresion"
   ]
  },
  {
   "cell_type": "code",
   "execution_count": 146,
   "metadata": {},
   "outputs": [],
   "source": [
    "def run_ridge(y_train, x_train, y_eval, x_eval, feature_mask):\n",
    "    # Remove unwanted features\n",
    "    x_train = x_train[:, feature_mask]\n",
    "    x_eval = x_eval[:, feature_mask]\n",
    "    \n",
    "    # Standardise to training mean and s.d.\n",
    "    x_train, mean_x, std_x = standardise(x_train)\n",
    "    x_eval = standardise_to_fixed(x_eval, mean_x, std_x)\n",
    "    \n",
    "    lambdas = np.logspace(-8, -1, 10)\n",
    "    k_fold = 4\n",
    "\n",
    "    # Hyperparameter optimisation\n",
    "    acc_train = np.empty((len(lambdas), k_fold), float)\n",
    "    acc_test = np.empty((len(lambdas), k_fold), float)\n",
    "\n",
    "    for l, lambda_ in enumerate(lambdas):\n",
    "        k = 0\n",
    "        for train_split, test_split in k_fold_iter(y_train, x_train, k_fold):\n",
    "            # Train\n",
    "            w, loss = ridge_regression(train_split[1], train_split[0], lambda_)\n",
    "            acc_tr = eval_model(train_split[1], train_split[0], w)\n",
    "            acc_train[l, k] = acc_tr\n",
    "\n",
    "            # Test\n",
    "            acc_te = eval_model(test_split[1], test_split[0], w)\n",
    "            acc_test[l, k] = acc_te\n",
    "\n",
    "            k += 1\n",
    "#     fig = cross_validation_visualization(lambdas, 1-acc_train, 1-acc_test)\n",
    "\n",
    "    avg_acc_test = np.mean(acc_test, axis=1)\n",
    "    lambda_opt_ridge = lambdas[np.argmax(avg_acc_test)]\n",
    "\n",
    "    print('Maximum test accuracy {} with lambda {}'.format(np.max(avg_acc_test), lambda_opt_ridge))\n",
    "    \n",
    "    # Run training\n",
    "    w, loss = ridge_regression(y_train, x_train, lambda_opt_ridge)\n",
    "#     print(f'Training loss: {loss_ridge}')\n",
    "\n",
    "    acc_tr = eval_model(y_train, x_train, w)\n",
    "#     print(f'Training accuracy: {acc}')\n",
    "\n",
    "    acc_te = eval_model(y_eval, x_eval, w)\n",
    "    print(f'Test accuracy: {acc_te}')\n",
    "    \n",
    "    \n",
    "    return w, loss, acc_tr, acc_te\n",
    "    "
   ]
  },
  {
   "cell_type": "code",
   "execution_count": 210,
   "metadata": {
    "scrolled": false
   },
   "outputs": [
    {
     "name": "stdout",
     "output_type": "stream",
     "text": [
      "\n",
      "Feature Set Raw\n",
      "Maximum test accuracy 0.7186928562720956 with lambda 5.99484250318941e-08\n",
      "Test accuracy: 0.7196342857142857\n",
      "Maximum test accuracy 0.7184947580153602 with lambda 1e-08\n",
      "Test accuracy: 0.7175314285714286\n",
      "Maximum test accuracy 0.7182966597586249 with lambda 1e-08\n",
      "Test accuracy: 0.7194742857142857\n",
      "Maximum test accuracy 0.7182357064488601 with lambda 3.5938136638046254e-07\n",
      "Test accuracy: 0.71792\n",
      "\n",
      "Feature Set MostInfo\n",
      "Maximum test accuracy 0.7093212848957698 with lambda 5.99484250318941e-08\n",
      "Test accuracy: 0.7092114285714286\n",
      "Maximum test accuracy 0.7091612824576374 with lambda 5.99484250318941e-08\n",
      "Test accuracy: 0.7069257142857143\n",
      "Maximum test accuracy 0.7077898329879312 with lambda 1e-08\n",
      "Test accuracy: 0.71168\n",
      "Maximum test accuracy 0.7090850908204315 with lambda 1e-08\n",
      "Test accuracy: 0.7068342857142857\n",
      "\n",
      "Feature Set: ImputeJet\n",
      "Maximum test accuracy 0.7187995245641838 with lambda 2.1544346900318865e-06\n",
      "Test accuracy: 0.7196342857142857\n",
      "Maximum test accuracy 0.7186776179446545 with lambda 1.2915496650148827e-05\n",
      "Test accuracy: 0.7177371428571429\n",
      "Maximum test accuracy 0.7185023771790808 with lambda 2.1544346900318865e-06\n",
      "Test accuracy: 0.71936\n",
      "Maximum test accuracy 0.7183728513958308 with lambda 1.2915496650148827e-05\n",
      "Test accuracy: 0.7179428571428571\n",
      "\n",
      "Feature Set: DeCorrelate\n",
      "Maximum test accuracy 0.7200795440692429 with lambda 1e-08\n",
      "Test accuracy: 0.7208\n",
      "Maximum test accuracy 0.7195157259539193 with lambda 1e-08\n",
      "Test accuracy: 0.7191542857142857\n",
      "Maximum test accuracy 0.7191804827502134 with lambda 1e-08\n",
      "Test accuracy: 0.7201828571428571\n",
      "Maximum test accuracy 0.7196528709008899 with lambda 1e-08\n",
      "Test accuracy: 0.7189257142857143\n"
     ]
    },
    {
     "data": {
      "image/png": "[encoded data removed]",
      "text/plain": [
       "<Figure size 576x288 with 1 Axes>"
      ]
     },
     "metadata": {},
     "output_type": "display_data"
    }
   ],
   "source": [
    "k_fold = 4\n",
    "\n",
    "# Hyperparameter optimisation\n",
    "acc_train = np.empty((len(labels), k_fold), float)\n",
    "acc_test = np.empty((len(labels), k_fold), float)\n",
    "    \n",
    "for i, features in enumerate(feature_masks):\n",
    "    print('\\nFeature Set', labels[i])\n",
    "    k = 0\n",
    "    for train_split, test_split in k_fold_iter(y_train, x_train, k_fold):\n",
    "            # Run evaluation\n",
    "            w, loss, acc_tr, acc_te = run_ridge(train_split[1], train_split[0], \n",
    "                                                        test_split[1], test_split[0], features)\n",
    "            acc_train[i, k] = acc_tr\n",
    "            acc_test[i, k] = acc_te\n",
    "            \n",
    "            k+=1\n",
    "            \n",
    "print('\\nFeature Set: ImputeJet')\n",
    "col_index = [FEATURE_NAMES.index(i) for i in JET_NOT_DEFINED]\n",
    "x_train_imp = x_train.copy()\n",
    "x_train_imp[x_train_imp == -999] = -100\n",
    "\n",
    "x_eval_imp = x_eval.copy()\n",
    "x_eval_imp[x_eval_imp == -999] = -100\n",
    "\n",
    "features = generate_mask([])\n",
    "\n",
    "k = 0\n",
    "for train_split, test_split in k_fold_iter(y_train, x_train_imp, k_fold):\n",
    "        # Run evaluation\n",
    "        w, loss, acc_tr, acc_te = run_ridge(train_split[1], train_split[0], \n",
    "                                                    test_split[1], test_split[0], features)\n",
    "        acc_train[-2, k] = acc_tr\n",
    "        acc_test[-2, k] = acc_te\n",
    "\n",
    "        k+=1\n",
    "        \n",
    "print('\\nFeature Set: DeCorrelate')\n",
    "JET_NUM_IDX = FEATURE_NAMES.index('PRI_jet_num')\n",
    "\n",
    "x_ind = (x_train[:, JET_NUM_IDX] > 1).astype(int)\n",
    "# x_train_imp = np.delete(x_train, JET_NUM_IDX, axis=1)\n",
    "x_train_imp = np.concatenate([x_train, np.expand_dims(x_ind, axis=1)], axis=1)\n",
    "\n",
    "features = generate_mask(['DER_deltaeta_jet_jet', 'DER_prodeta_jet_jet'])\n",
    "features = np.concatenate([features, [True]])\n",
    "\n",
    "k = 0\n",
    "for train_split, test_split in k_fold_iter(y_train, x_train_imp, k_fold):\n",
    "        # Run evaluation\n",
    "        w, loss, acc_tr, acc_te = run_ridge(train_split[1], train_split[0], \n",
    "                                                    test_split[1], test_split[0], features)\n",
    "        acc_train[-1, k] = acc_tr\n",
    "        acc_test[-1, k] = acc_te\n",
    "\n",
    "        k+=1\n",
    "            \n",
    "fig = compare_features_visualisation(acc_train, acc_test, labels, '$\\mathtt{Ridge}$')\n",
    "fig.savefig('../report/compare_features_ridge.pdf', bbox_inches='tight')"
   ]
  },
  {
   "cell_type": "markdown",
   "metadata": {},
   "source": [
    "# 3 Logistic Regression"
   ]
  },
  {
   "cell_type": "code",
   "execution_count": 222,
   "metadata": {},
   "outputs": [],
   "source": [
    "def run_logistic(y_train, x_train, y_eval, x_eval, feature_mask):\n",
    "    # Remove unwanted features\n",
    "    x_train = x_train[:, feature_mask]\n",
    "    x_eval = x_eval[:, feature_mask]\n",
    "    \n",
    "    # Standardise to training mean and s.d.\n",
    "    x_train, mean_x, std_x = standardise(x_train)\n",
    "    x_eval = standardise_to_fixed(x_eval, mean_x, std_x)\n",
    "\n",
    "    tx_train = np.c_[np.ones(x_train.shape[0]), x_train]\n",
    "    tx_eval = np.c_[np.ones(x_eval.shape[0]), x_eval]\n",
    "    \n",
    "    gamma = 0.01\n",
    "    max_iters = 10000\n",
    "    w_initial = np.ones(tx_train.shape[1])\n",
    "\n",
    "    # Run gradient descent \n",
    "    w, loss = logistic_regression_mean(y_train, tx_train, w_initial, max_iters, gamma, threshold=1e-6)\n",
    "#     print(f'Training loss: {loss_lr}')\n",
    "\n",
    "    acc_tr = eval_model(y_train, tx_train, w, thresh=0.5)\n",
    "#     print(f'Training accuracy: {acc}')\n",
    "\n",
    "    acc_te = eval_model(y_eval, tx_eval, w, thresh=0.5)\n",
    "    print(f'Testing accuracy: {acc_te}')\n",
    "    \n",
    "    return w, loss, acc_tr, acc_te"
   ]
  },
  {
   "cell_type": "code",
   "execution_count": 223,
   "metadata": {},
   "outputs": [
    {
     "name": "stdout",
     "output_type": "stream",
     "text": [
      "\n",
      "Feature Set:  Raw\n",
      "Loss convergence:Terminate because loss did not change by more than threshold.\n",
      "Testing accuracy: 0.7266514285714286\n",
      "Loss convergence:Terminate because loss did not change by more than threshold.\n",
      "Testing accuracy: 0.7224914285714286\n",
      "Loss convergence:Terminate because loss did not change by more than threshold.\n",
      "Testing accuracy: 0.7216685714285714\n",
      "Loss convergence:Terminate because loss did not change by more than threshold.\n",
      "Testing accuracy: 0.72128\n",
      "\n",
      "Feature Set:  MostInfo\n",
      "Loss convergence:Terminate because loss did not change by more than threshold.\n",
      "Testing accuracy: 0.71216\n",
      "Loss convergence:Terminate because loss did not change by more than threshold.\n",
      "Testing accuracy: 0.7082285714285714\n",
      "Loss convergence:Terminate because loss did not change by more than threshold.\n",
      "Testing accuracy: 0.7070171428571429\n",
      "Loss convergence:Terminate because loss did not change by more than threshold.\n",
      "Testing accuracy: 0.7064457142857142\n",
      "\n",
      "Feature Set: Impute\n",
      "Loss convergence:Terminate because loss did not change by more than threshold.\n",
      "Testing accuracy: 0.7281142857142857\n",
      "Loss convergence:Terminate because loss did not change by more than threshold.\n",
      "Testing accuracy: 0.7244114285714286\n",
      "Loss convergence:Terminate because loss did not change by more than threshold.\n",
      "Testing accuracy: 0.72336\n",
      "Loss convergence:Terminate because loss did not change by more than threshold.\n",
      "Testing accuracy: 0.7226742857142857\n",
      "\n",
      "Feature Set: Indicator\n",
      "Loss convergence:Terminate because loss did not change by more than threshold.\n",
      "Testing accuracy: 0.7266057142857143\n",
      "Loss convergence:Terminate because loss did not change by more than threshold.\n",
      "Testing accuracy: 0.72256\n",
      "Loss convergence:Terminate because loss did not change by more than threshold.\n",
      "Testing accuracy: 0.7216685714285714\n",
      "Loss convergence:Terminate because loss did not change by more than threshold.\n",
      "Testing accuracy: 0.7212114285714286\n"
     ]
    },
    {
     "data": {
      "image/png": "[encoded data removed]",
      "text/plain": [
       "<Figure size 576x288 with 1 Axes>"
      ]
     },
     "metadata": {},
     "output_type": "display_data"
    }
   ],
   "source": [
    "k_fold = 4\n",
    "\n",
    "# Hyperparameter optimisation\n",
    "acc_train = np.empty((len(feature_masks)+2, k_fold), float)\n",
    "acc_test = np.empty((len(feature_masks)+2, k_fold), float)\n",
    "    \n",
    "for i, features in enumerate(feature_masks):\n",
    "    print('\\nFeature Set: ', labels[i])\n",
    "    k = 0\n",
    "    for train_split, test_split in k_fold_iter(y_train, x_train, k_fold):\n",
    "            # Run evaluation\n",
    "            w, loss, acc_tr, acc_te = run_logistic(train_split[1], train_split[0], \n",
    "                                                        test_split[1], test_split[0], features)\n",
    "            acc_train[i, k] = acc_tr\n",
    "            acc_test[i, k] = acc_te\n",
    "            \n",
    "            k+=1\n",
    "            \n",
    "print('\\nFeature Set: Impute')\n",
    "col_index = [FEATURE_NAMES.index(i) for i in JET_NOT_DEFINED]\n",
    "x_train_imp = x_train.copy()\n",
    "x_train_imp[x_train_imp == -999] = -100\n",
    "\n",
    "x_eval_imp = x_eval.copy()\n",
    "x_eval_imp[x_eval_imp == -999] = -100\n",
    "\n",
    "features = generate_mask([])\n",
    "\n",
    "k = 0\n",
    "for train_split, test_split in k_fold_iter(y_train, x_train_imp, k_fold):\n",
    "        # Run evaluation\n",
    "        w, loss, acc_tr, acc_te = run_logistic(train_split[1], train_split[0], \n",
    "                                                    test_split[1], test_split[0], features)\n",
    "        acc_train[-2, k] = acc_tr\n",
    "        acc_test[-2, k] = acc_te\n",
    "\n",
    "        k+=1\n",
    "        \n",
    "print('\\nFeature Set: Indicator')\n",
    "JET_NUM_IDX = FEATURE_NAMES.index('PRI_jet_num')\n",
    "\n",
    "x_ind = (x_train[:, JET_NUM_IDX] > 1).astype(int)\n",
    "# x_train_imp = np.delete(x_train, JET_NUM_IDX, axis=1)\n",
    "x_train_imp = np.concatenate([x_train, np.expand_dims(x_ind, axis=1)], axis=1)\n",
    "\n",
    "features = generate_mask(['DER_deltaeta_jet_jet', 'DER_prodeta_jet_jet'])\n",
    "features = np.concatenate([features, [True]])\n",
    "\n",
    "k = 0\n",
    "for train_split, test_split in k_fold_iter(y_train, x_train_imp, k_fold):\n",
    "        # Run evaluation\n",
    "        w, loss, acc_tr, acc_te = run_logistic(train_split[1], train_split[0], \n",
    "                                                    test_split[1], test_split[0], features)\n",
    "        acc_train[-1, k] = acc_tr\n",
    "        acc_test[-1, k] = acc_te\n",
    "\n",
    "        k+=1\n",
    "            \n",
    "fig = compare_features_visualisation(acc_train, acc_test, labels, '$\\mathtt{LogReg}$')\n",
    "fig.savefig('../report/compare_features_logreg.pdf', bbox_inches='tight')"
   ]
  },
  {
   "cell_type": "code",
   "execution_count": 226,
   "metadata": {},
   "outputs": [
    {
     "data": {
      "image/png": "[encoded data removed]",
      "text/plain": [
       "<Figure size 576x252 with 1 Axes>"
      ]
     },
     "metadata": {},
     "output_type": "display_data"
    }
   ],
   "source": [
    "fig = compare_features_visualisation(acc_train, acc_test, labels, '$\\mathtt{LogReg}$')\n",
    "fig.savefig('../report/compare_features_logreg.pdf', bbox_inches='tight')"
   ]
  },
  {
   "cell_type": "markdown",
   "metadata": {},
   "source": [
    "# -------------"
   ]
  },
  {
   "cell_type": "markdown",
   "metadata": {},
   "source": [
    "# Compare model performance on best performing feature set "
   ]
  },
  {
   "cell_type": "markdown",
   "metadata": {},
   "source": [
    "##### Data Processing"
   ]
  },
  {
   "cell_type": "code",
   "execution_count": 172,
   "metadata": {},
   "outputs": [],
   "source": [
    "JET_NUM_IDX = FEATURE_NAMES.index('PRI_jet_num')\n",
    "\n",
    "def feature_transform(x):\n",
    "    x_ind = (x[:, JET_NUM_IDX] > 1).astype(int)\n",
    "    x = np.concatenate([x, np.expand_dims(x_ind, axis=1)], axis=1)\n",
    "\n",
    "    features = generate_mask(['DER_deltaeta_jet_jet', 'DER_prodeta_jet_jet'])\n",
    "    features = np.concatenate([features, [True]])\n",
    "\n",
    "    x = x[:, features]\n",
    "    \n",
    "    return x\n",
    "\n",
    "fx_train = feature_transform(x_train)\n",
    "fx_eval = feature_transform(x_eval)\n",
    "\n",
    "fx_train, mu_x, sigma_x = standardise(fx_train)\n",
    "fx_eval = standardise_to_fixed(fx_eval, mu_x, sigma_x)\n",
    "\n",
    "tx_train = np.c_[np.ones(fx_train.shape[0]), fx_train]\n",
    "tx_eval = np.c_[np.ones(fx_eval.shape[0]), fx_eval]"
   ]
  },
  {
   "cell_type": "markdown",
   "metadata": {},
   "source": [
    "##### Baseline"
   ]
  },
  {
   "cell_type": "code",
   "execution_count": 183,
   "metadata": {},
   "outputs": [
    {
     "name": "stdout",
     "output_type": "stream",
     "text": [
      "Testing Accuracy: 0.5495733333333334\n"
     ]
    }
   ],
   "source": [
    "# Get baseline frequency of the two classes in training data\n",
    "prior_probs = [sum(y_train == 1)/len(y_train), sum(y_train == 0)/len(y_train)]\n",
    "\n",
    "# Test error on evaluation set\n",
    "y_eval_pred = np.random.choice([1., 0], size=len(y_eval), p=prior_probs)\n",
    "\n",
    "acc_baseline = get_accuracy(y_eval_pred, y_eval)\n",
    "\n",
    "print(f'Testing Accuracy: {acc_baseline}')"
   ]
  },
  {
   "cell_type": "markdown",
   "metadata": {},
   "source": [
    "##### Train LeastSquares"
   ]
  },
  {
   "cell_type": "code",
   "execution_count": 184,
   "metadata": {},
   "outputs": [
    {
     "name": "stdout",
     "output_type": "stream",
     "text": [
      "Training loss: 0.14301235921139813\n",
      "Training accuracy: 0.7197485714285714\n",
      "Test Accuracy: 0.719\n"
     ]
    }
   ],
   "source": [
    "# Get linear least-squares model\n",
    "w_ls, loss_ls = least_squares(y_train, fx_train)\n",
    "print(f'Training loss: {loss_ls}')\n",
    "\n",
    "# Get training accuracy\n",
    "acc_tr  = eval_model(y_train, fx_train, w_ls, thresh=0)\n",
    "print(f'Training accuracy: {acc_tr}')\n",
    "\n",
    "# Get accuracy on evaluation set\n",
    "acc_ls = eval_model(y_eval, fx_eval, w_ls, thresh=0)\n",
    "print(f'Test Accuracy: {acc_ls}')"
   ]
  },
  {
   "cell_type": "markdown",
   "metadata": {},
   "source": [
    "##### Train Ridge"
   ]
  },
  {
   "cell_type": "code",
   "execution_count": 185,
   "metadata": {},
   "outputs": [
    {
     "name": "stdout",
     "output_type": "stream",
     "text": [
      "lambda: 1e-09\n",
      "lambda: 2.9763514416313133e-09\n",
      "lambda: 8.858667904100832e-09\n",
      "lambda: 2.6366508987303555e-08\n",
      "lambda: 7.847599703514607e-08\n",
      "lambda: 2.3357214690901212e-07\n",
      "lambda: 6.951927961775605e-07\n",
      "lambda: 2.06913808111479e-06\n",
      "lambda: 6.158482110660255e-06\n",
      "lambda: 1.8329807108324338e-05\n",
      "lambda: 5.4555947811685143e-05\n",
      "lambda: 0.0001623776739188721\n",
      "lambda: 0.0004832930238571752\n",
      "lambda: 0.0014384498882876629\n",
      "lambda: 0.004281332398719387\n",
      "lambda: 0.012742749857031322\n",
      "lambda: 0.03792690190732246\n",
      "lambda: 0.11288378916846883\n",
      "lambda: 0.33598182862837744\n",
      "lambda: 1.0\n"
     ]
    }
   ],
   "source": [
    "# Run cross val\n",
    "lambdas = np.logspace(-9, 0, 20)\n",
    "k_fold = 4\n",
    "\n",
    "# Hyperparameter optimisation\n",
    "acc_train = np.empty((len(lambdas), k_fold), float)\n",
    "acc_test = np.empty((len(lambdas), k_fold), float)\n",
    "\n",
    "for l, lambda_ in enumerate(lambdas):\n",
    "    print(f'lambda: {lambda_}')\n",
    "    k = 0\n",
    "    for train_split, test_split in k_fold_iter(y_train, fx_train, k_fold):\n",
    "        # Train\n",
    "        w, loss = ridge_regression(train_split[1], train_split[0], lambda_)\n",
    "        acc_tr = eval_model(train_split[1], train_split[0], w)\n",
    "        acc_train[l, k] = acc_tr\n",
    "\n",
    "        # Test\n",
    "        acc_te = eval_model(test_split[1], test_split[0], w)\n",
    "        acc_test[l, k] = acc_te\n",
    "\n",
    "        k += 1"
   ]
  },
  {
   "cell_type": "code",
   "execution_count": 186,
   "metadata": {},
   "outputs": [
    {
     "name": "stdout",
     "output_type": "stream",
     "text": [
      "Maximum test accuracy 0.7199542857142858 with lambda 2.9763514416313133e-09\n"
     ]
    },
    {
     "data": {
      "image/png": "[encoded data removed]",
      "text/plain": [
       "<Figure size 720x432 with 1 Axes>"
      ]
     },
     "metadata": {},
     "output_type": "display_data"
    }
   ],
   "source": [
    "fig = cross_validation_visualization(lambdas, 1-acc_train, 1-acc_test)\n",
    "\n",
    "avg_acc_test = np.mean(acc_test, axis=1)\n",
    "lambda_opt_ridge = lambdas[np.argmax(avg_acc_test)]\n",
    "\n",
    "print('Maximum test accuracy {} with lambda {}'.format(np.max(avg_acc_test), lambda_opt_ridge))\n",
    "\n",
    "fig.savefig('../report/ridge_crossval.pdf', bbox_inches='tight')"
   ]
  },
  {
   "cell_type": "code",
   "execution_count": 187,
   "metadata": {},
   "outputs": [
    {
     "name": "stdout",
     "output_type": "stream",
     "text": [
      "Training loss: 0.14301609682144178\n",
      "Training accuracy: 0.7197657142857142\n",
      "Test accuracy: 0.7188533333333333\n"
     ]
    }
   ],
   "source": [
    "# Run training\n",
    "w_ridge, loss_ridge = ridge_regression(y_train, fx_train, lambda_opt_ridge)\n",
    "print(f'Training loss: {loss_ridge}')\n",
    "\n",
    "acc = eval_model(y_train, fx_train, w_ridge)\n",
    "print(f'Training accuracy: {acc}')\n",
    "\n",
    "acc_ridge = eval_model(y_eval, fx_eval, w_ridge)\n",
    "print(f'Test accuracy: {acc_ridge}')"
   ]
  },
  {
   "cell_type": "markdown",
   "metadata": {},
   "source": [
    "##### Train LogReg"
   ]
  },
  {
   "cell_type": "code",
   "execution_count": 179,
   "metadata": {},
   "outputs": [
    {
     "name": "stdout",
     "output_type": "stream",
     "text": [
      "Loss convergence:Terminate because loss did not change by more than threshold.\n",
      "Loss convergence:Terminate because loss did not change by more than threshold.\n",
      "Loss convergence:Terminate because loss did not change by more than threshold.\n",
      "Loss convergence:Terminate because loss did not change by more than threshold.\n",
      "Loss convergence:Terminate because loss did not change by more than threshold.\n",
      "Loss convergence:Terminate because loss did not change by more than threshold.\n",
      "Loss convergence:Terminate because loss did not change by more than threshold.\n"
     ]
    }
   ],
   "source": [
    "# Run cross-validation to find optimal step-size\n",
    "gammas = np.logspace(-7, -2, 5)\n",
    "k_fold = 4\n",
    "\n",
    "max_iters = 5000\n",
    "w_initial = np.ones(tx_train.shape[1])\n",
    "\n",
    "# Hyperparameter optimisation\n",
    "acc_train = np.empty((len(gammas), k_fold), float)\n",
    "acc_test = np.empty((len(gammas), k_fold), float)\n",
    "\n",
    "for g, gamma in enumerate(gammas):\n",
    "    k = 0\n",
    "    for train_split, test_split in k_fold_iter(y_train, tx_train, k_fold):\n",
    "        # Train\n",
    "        w, loss = logistic_regression_mean(train_split[1], train_split[0], w_initial, \n",
    "                                           max_iters, gamma, threshold=1e-6, verbose=False)\n",
    "        \n",
    "        acc_tr = eval_model(train_split[1], train_split[0], w, thresh=0.5)\n",
    "        acc_train[g, k] = acc_tr\n",
    "\n",
    "        # Test\n",
    "        acc_te = eval_model(test_split[1], test_split[0], w, thresh=0.5)\n",
    "        acc_test[g, k] = acc_te\n",
    "\n",
    "        k += 1"
   ]
  },
  {
   "cell_type": "code",
   "execution_count": 181,
   "metadata": {},
   "outputs": [
    {
     "name": "stdout",
     "output_type": "stream",
     "text": [
      "Maximum test accuracy 0.7230571428571428 with gamma 0.01\n"
     ]
    },
    {
     "data": {
      "image/png": "[encoded data removed]",
      "text/plain": [
       "<Figure size 720x432 with 1 Axes>"
      ]
     },
     "metadata": {},
     "output_type": "display_data"
    }
   ],
   "source": [
    "fig = cross_validation_visualization(gammas, 1-acc_train, 1-acc_test)\n",
    "fig.savefig('../report/crossval_lr.pdf', bbox_inches='tight')\n",
    "avg_acc_test = np.mean(acc_test, axis=1)\n",
    "gamma_opt_lr = gammas[np.argmax(avg_acc_test)]\n",
    "\n",
    "print('Maximum test accuracy {} with gamma {}'.format(np.max(avg_acc_test), gamma_opt_lr))"
   ]
  },
  {
   "cell_type": "code",
   "execution_count": 182,
   "metadata": {
    "scrolled": true
   },
   "outputs": [
    {
     "name": "stdout",
     "output_type": "stream",
     "text": [
      "Gradient Descent (0/14999): loss=4.9399464656485925, gradient=1.1070150667360843\n",
      "Gradient Descent (100/14999): loss=3.744638955603192, gradient=1.0757625234785748\n",
      "Gradient Descent (200/14999): loss=2.660183871882455, gradient=0.9939685748542625\n",
      "Gradient Descent (300/14999): loss=1.8358315281073783, gradient=0.8008442314450439\n",
      "Gradient Descent (400/14999): loss=1.373341534216789, gradient=0.5664264578414981\n",
      "Gradient Descent (500/14999): loss=1.1283284058888108, gradient=0.4414843709133819\n",
      "Gradient Descent (600/14999): loss=0.9608052299096556, gradient=0.3813570647365515\n",
      "Gradient Descent (700/14999): loss=0.834100959239845, gradient=0.33095041231472316\n",
      "Gradient Descent (800/14999): loss=0.7403573840109454, gradient=0.2818153614972203\n",
      "Gradient Descent (900/14999): loss=0.6735010928901823, gradient=0.23613902384085597\n",
      "Gradient Descent (1000/14999): loss=0.6270053126903851, gradient=0.19614762202692698\n",
      "Gradient Descent (1100/14999): loss=0.5950191683662266, gradient=0.16260812861450613\n",
      "Gradient Descent (1200/14999): loss=0.5729789948998237, gradient=0.1352718223081525\n",
      "Gradient Descent (1300/14999): loss=0.5576363695049985, gradient=0.11327327997296995\n",
      "Gradient Descent (1400/14999): loss=0.5467934531249612, gradient=0.09565434975145502\n",
      "Gradient Descent (1500/14999): loss=0.5389923063535039, gradient=0.0815362735522871\n",
      "Gradient Descent (1600/14999): loss=0.5332700941306313, gradient=0.07019321279257965\n",
      "Gradient Descent (1700/14999): loss=0.528987489186593, gradient=0.06104532180738103\n",
      "Gradient Descent (1800/14999): loss=0.5257161139205274, gradient=0.05363487686138744\n",
      "Gradient Descent (1900/14999): loss=0.5231657282822834, gradient=0.047602496364440736\n",
      "Gradient Descent (2000/14999): loss=0.5211372603256591, gradient=0.04266620588522998\n",
      "Gradient Descent (2100/14999): loss=0.5194924021346482, gradient=0.03860460839301821\n",
      "Gradient Descent (2200/14999): loss=0.5181337794978406, gradient=0.03524368361349481\n",
      "Gradient Descent (2300/14999): loss=0.5169919067042482, gradient=0.03244637204180193\n",
      "Gradient Descent (2400/14999): loss=0.5160165282005124, gradient=0.03010437242163754\n",
      "Gradient Descent (2500/14999): loss=0.5151708154757387, gradient=0.028131749840285093\n",
      "Gradient Descent (2600/14999): loss=0.5144274352597575, gradient=0.026460001737582003\n",
      "Gradient Descent (2700/14999): loss=0.5137658544404596, gradient=0.025034267275724272\n",
      "Gradient Descent (2800/14999): loss=0.5131704702971358, gradient=0.023810415873717974\n",
      "Gradient Descent (2900/14999): loss=0.5126292974326444, gradient=0.02275280425400025\n",
      "Gradient Descent (3000/14999): loss=0.5121330344757822, gradient=0.02183253955021163\n",
      "Gradient Descent (3100/14999): loss=0.5116743928682533, gradient=0.021026125654577104\n",
      "Gradient Descent (3200/14999): loss=0.5112476086336527, gradient=0.02031440094711704\n",
      "Gradient Descent (3300/14999): loss=0.5108480833805242, gradient=0.019681699006761175\n",
      "Gradient Descent (3400/14999): loss=0.5104721176146044, gradient=0.019115181333074965\n",
      "Gradient Descent (3500/14999): loss=0.5101167107104211, gradient=0.018604303907318626\n",
      "Gradient Descent (3600/14999): loss=0.5097794095274673, gradient=0.018140388775425544\n",
      "Gradient Descent (3700/14999): loss=0.5094581928807719, gradient=0.017716278677444568\n",
      "Gradient Descent (3800/14999): loss=0.5091513826887157, gradient=0.017326057783237283\n",
      "Gradient Descent (3900/14999): loss=0.5088575751458738, gradient=0.016964825337528196\n",
      "Gradient Descent (4000/14999): loss=0.5085755870516259, gradient=0.016628511835618608\n",
      "Gradient Descent (4100/14999): loss=0.5083044136971903, gradient=0.016313729501718093\n",
      "Gradient Descent (4200/14999): loss=0.5080431956300867, gradient=0.016017650504586953\n",
      "Gradient Descent (4300/14999): loss=0.5077911922815553, gradient=0.015737907645667824\n",
      "Gradient Descent (4400/14999): loss=0.5075477609316904, gradient=0.015472513281868456\n",
      "Gradient Descent (4500/14999): loss=0.5073123398492723, gradient=0.0152197930623364\n",
      "Gradient Descent (4600/14999): loss=0.5070844347136689, gradient=0.014978331712545707\n",
      "Gradient Descent (4700/14999): loss=0.5068636076295454, gradient=0.014746928624593278\n",
      "Gradient Descent (4800/14999): loss=0.5066494681991954, gradient=0.014524561436263754\n",
      "Gradient Descent (4900/14999): loss=0.5064416662347906, gradient=0.014310356123658228\n",
      "Gradient Descent (5000/14999): loss=0.5062398857829953, gradient=0.014103562409060823\n",
      "Gradient Descent (5100/14999): loss=0.5060438402039401, gradient=0.013903533509964467\n",
      "Gradient Descent (5200/14999): loss=0.5058532681005028, gradient=0.01370970943694577\n",
      "Gradient Descent (5300/14999): loss=0.5056679299358833, gradient=0.013521603195512698\n",
      "Gradient Descent (5400/14999): loss=0.5054876052103755, gradient=0.013338789366700236\n",
      "Gradient Descent (5500/14999): loss=0.5053120900941066, gradient=0.013160894638344477\n",
      "Gradient Descent (5600/14999): loss=0.5051411954329209, gradient=0.012987589937894515\n",
      "Gradient Descent (5700/14999): loss=0.5049747450607517, gradient=0.012818583881777479\n",
      "Gradient Descent (5800/14999): loss=0.5048125743646604, gradient=0.012653617308507118\n",
      "Gradient Descent (5900/14999): loss=0.5046545290589476, gradient=0.012492458705183881\n",
      "Gradient Descent (6000/14999): loss=0.5045004641329291, gradient=0.012334900371603676\n",
      "Gradient Descent (6100/14999): loss=0.5043502429435164, gradient=0.01218075519435839\n",
      "Gradient Descent (6200/14999): loss=0.5042037364290073, gradient=0.01202985392627424\n",
      "Gradient Descent (6300/14999): loss=0.504060822424754, gradient=0.011882042885269629\n",
      "Gradient Descent (6400/14999): loss=0.5039213850647852, gradient=0.011737182002011294\n",
      "Gradient Descent (6500/14999): loss=0.5037853142562604, gradient=0.011595143158248094\n",
      "Gradient Descent (6600/14999): loss=0.5036525052158792, gradient=0.011455808767924259\n",
      "Gradient Descent (6700/14999): loss=0.5035228580592154, gradient=0.011319070561542738\n",
      "Gradient Descent (6800/14999): loss=0.5033962774354476, gradient=0.011184828541104997\n",
      "Gradient Descent (6900/14999): loss=0.5032726722011835, gradient=0.011052990078576993\n",
      "Gradient Descent (7000/14999): loss=0.5031519551280974, gradient=0.01092346913544768\n",
      "Gradient Descent (7100/14999): loss=0.5030340426399182, gradient=0.010796185584740802\n",
      "Gradient Descent (7200/14999): loss=0.5029188545750056, gradient=0.01067106461996333\n",
      "Gradient Descent (7300/14999): loss=0.5028063139713154, gradient=0.010548036238046735\n",
      "Gradient Descent (7400/14999): loss=0.5026963468710287, gradient=0.010427034785459973\n",
      "Gradient Descent (7500/14999): loss=0.5025888821425176, gradient=0.010307998558426875\n",
      "Gradient Descent (7600/14999): loss=0.5024838513176467, gradient=0.010190869449632175\n",
      "Gradient Descent (7700/14999): loss=0.5023811884426881, gradient=0.010075592635002998\n",
      "Gradient Descent (7800/14999): loss=0.5022808299413614, gradient=0.009962116295151762\n",
      "Gradient Descent (7900/14999): loss=0.502182714488708, gradient=0.009850391366896739\n",
      "Gradient Descent (8000/14999): loss=0.5020867828946726, gradient=0.00974037132096912\n",
      "Gradient Descent (8100/14999): loss=0.5019929779964086, gradient=0.00963201196259346\n",
      "Gradient Descent (8200/14999): loss=0.501901244558449, gradient=0.009525271252111943\n",
      "Gradient Descent (8300/14999): loss=0.5018115291799811, gradient=0.009420109143229017\n",
      "Gradient Descent (8400/14999): loss=0.5017237802085585, gradient=0.009316487436793728\n",
      "Gradient Descent (8500/14999): loss=0.5016379476596586, gradient=0.00921436964832477\n",
      "Gradient Descent (8600/14999): loss=0.5015539831415583, gradient=0.00911372088772599\n",
      "Gradient Descent (8700/14999): loss=0.5014718397850639, gradient=0.009014507749846027\n",
      "Gradient Descent (8800/14999): loss=0.5013914721776752, gradient=0.008916698214710328\n",
      "Gradient Descent (8900/14999): loss=0.501312836301811, gradient=0.008820261556402977\n",
      "Gradient Descent (9000/14999): loss=0.5012358894767639, gradient=0.008725168259702654\n",
      "Gradient Descent (9100/14999): loss=0.5011605903040794, gradient=0.008631389943686325\n",
      "Gradient Descent (9200/14999): loss=0.5010868986160928, gradient=0.008538899291607761\n",
      "Gradient Descent (9300/14999): loss=0.501014775427375, gradient=0.008447669986438896\n",
      "Gradient Descent (9400/14999): loss=0.5009441828888691, gradient=0.008357676651531715\n",
      "Gradient Descent (9500/14999): loss=0.500875084244516, gradient=0.008268894795919106\n",
      "Gradient Descent (9600/14999): loss=0.5008074437901863, gradient=0.008181300763825679\n"
     ]
    },
    {
     "name": "stdout",
     "output_type": "stream",
     "text": [
      "Gradient Descent (9700/14999): loss=0.5007412268347543, gradient=0.008094871688005649\n",
      "Gradient Descent (9800/14999): loss=0.5006763996631624, gradient=0.008009585446565057\n",
      "Gradient Descent (9900/14999): loss=0.5006129295013376, gradient=0.007925420622961078\n",
      "Gradient Descent (10000/14999): loss=0.5005507844828353, gradient=0.007842356468902077\n",
      "Gradient Descent (10100/14999): loss=0.5004899336170957, gradient=0.007760372869899766\n",
      "Gradient Descent (10200/14999): loss=0.500430346759205, gradient=0.007679450313249064\n",
      "Gradient Descent (10300/14999): loss=0.500371994581067, gradient=0.00759956985823273\n",
      "Gradient Descent (10400/14999): loss=0.5003148485438939, gradient=0.007520713108367252\n",
      "Gradient Descent (10500/14999): loss=0.5002588808719375, gradient=0.007442862185523497\n",
      "Gradient Descent (10600/14999): loss=0.5002040645273809, gradient=0.007365999705770883\n",
      "Gradient Descent (10700/14999): loss=0.5001503731863235, gradient=0.007290108756807825\n",
      "Gradient Descent (10800/14999): loss=0.5000977812157974, gradient=0.0072151728768530795\n",
      "Gradient Descent (10900/14999): loss=0.5000462636517494, gradient=0.007141176034884269\n",
      "Gradient Descent (11000/14999): loss=0.49999579617794004, gradient=0.007068102612119192\n",
      "Gradient Descent (11100/14999): loss=0.49994635510570334, gradient=0.006995937384645254\n",
      "Gradient Descent (11200/14999): loss=0.49989791735452427, gradient=0.006924665507109805\n",
      "Gradient Descent (11300/14999): loss=0.4998504604333852, gradient=0.006854272497392133\n",
      "Gradient Descent (11400/14999): loss=0.49980396242284625, gradient=0.006784744222184129\n",
      "Gradient Descent (11500/14999): loss=0.4997584019578137, gradient=0.006716066883412921\n",
      "Gradient Descent (11600/14999): loss=0.49971375821096964, gradient=0.006648227005444264\n",
      "Gradient Descent (11700/14999): loss=0.4996700108768213, gradient=0.0065812114230104635\n",
      "Gradient Descent (11800/14999): loss=0.4996271401563453, gradient=0.006515007269811104\n",
      "Gradient Descent (11900/14999): loss=0.4995851267421951, gradient=0.0064496019677392335\n",
      "Gradient Descent (12000/14999): loss=0.49954395180444283, gradient=0.006384983216689175\n",
      "Gradient Descent (12100/14999): loss=0.49950359697683483, gradient=0.006321138984905885\n",
      "Gradient Descent (12200/14999): loss=0.49946404434353286, gradient=0.006258057499838709\n",
      "Gradient Descent (12300/14999): loss=0.4994252764263187, gradient=0.006195727239465415\n",
      "Gradient Descent (12400/14999): loss=0.4993872761722451, gradient=0.006134136924055117\n",
      "Gradient Descent (12500/14999): loss=0.4993500269417079, gradient=0.006073275508340784\n",
      "Gradient Descent (12600/14999): loss=0.49931351249692363, gradient=0.006013132174074832\n",
      "Gradient Descent (12700/14999): loss=0.49927771699079637, gradient=0.0059536963229426644\n",
      "Gradient Descent (12800/14999): loss=0.499242624956153, gradient=0.005894957569811553\n",
      "Gradient Descent (12900/14999): loss=0.49920822129533576, gradient=0.0058369057362933395\n",
      "Gradient Descent (13000/14999): loss=0.4991744912701327, gradient=0.005779530844601613\n",
      "Gradient Descent (13100/14999): loss=0.4991414204920372, gradient=0.005722823111685022\n",
      "Gradient Descent (13200/14999): loss=0.49910899491281924, gradient=0.005666772943619881\n",
      "Gradient Descent (13300/14999): loss=0.4990772008153964, gradient=0.005611370930246562\n",
      "Gradient Descent (13400/14999): loss=0.49904602480499555, gradient=0.0055566078400350275\n",
      "Gradient Descent (13500/14999): loss=0.4990154538005897, gradient=0.00550247461516613\n",
      "Gradient Descent (13600/14999): loss=0.49898547502660306, gradient=0.00544896236681623\n",
      "Gradient Descent (13700/14999): loss=0.49895607600487096, gradient=0.0053960623706333696\n",
      "Gradient Descent (13800/14999): loss=0.49892724454684834, gradient=0.005343766062394298\n",
      "Gradient Descent (13900/14999): loss=0.4988989687460536, gradient=0.005292065033832256\n",
      "Gradient Descent (14000/14999): loss=0.4988712369707427, gradient=0.005240951028626163\n",
      "Gradient Descent (14100/14999): loss=0.4988440378568027, gradient=0.005190415938542428\n",
      "Gradient Descent (14200/14999): loss=0.49881736030085755, gradient=0.005140451799721291\n",
      "Gradient Descent (14300/14999): loss=0.4987911934535784, gradient=0.0050910507891000515\n",
      "Gradient Descent (14400/14999): loss=0.49876552671319213, gradient=0.00504220522096611\n",
      "Gradient Descent (14500/14999): loss=0.4987403497191788, gradient=0.00499390754363309\n",
      "Gradient Descent (14600/14999): loss=0.49871565234615434, gradient=0.004946150336234122\n",
      "Gradient Descent (14700/14999): loss=0.4986914246979293, gradient=0.004898926305626006\n",
      "Gradient Descent (14800/14999): loss=0.49866765710173905, gradient=0.004852228283399279\n",
      "Gradient Descent (14900/14999): loss=0.4986443401026408, gradient=0.004806049222988788\n",
      "Training loss: 0.49862169105964604\n",
      "Training accuracy: 0.7255085714285714\n",
      "Testing accuracy: 0.72516\n"
     ]
    }
   ],
   "source": [
    "max_iters = 15000\n",
    "w_initial = np.ones(tx_train.shape[1])\n",
    "\n",
    "# Run gradient descent \n",
    "w_lr, loss_lr = logistic_regression_mean(y_train, tx_train, w_initial, max_iters, gamma_opt_lr, \n",
    "                                    threshold=1e-7, verbose=True)\n",
    "print(f'Training loss: {loss_lr}')\n",
    "\n",
    "acc = eval_model(y_train, tx_train, w_lr, thresh=0.5)\n",
    "print(f'Training accuracy: {acc}')\n",
    "\n",
    "acc_lr = eval_model(y_eval, tx_eval, w_lr, thresh=0.5)\n",
    "print(f'Testing accuracy: {acc_lr}')"
   ]
  },
  {
   "cell_type": "markdown",
   "metadata": {},
   "source": [
    "# Compare model performance "
   ]
  },
  {
   "cell_type": "code",
   "execution_count": 204,
   "metadata": {},
   "outputs": [
    {
     "data": {
      "image/png": "[encoded data removed]",
      "text/plain": [
       "<Figure size 720x288 with 1 Axes>"
      ]
     },
     "metadata": {},
     "output_type": "display_data"
    }
   ],
   "source": [
    "accuracy = [acc_baseline, acc_ls, acc_ridge, acc_lr]\n",
    "labels = ['$\\mathtt{Base}$', '$\\mathtt{LeastSquares}$', '$\\mathtt{Ridge}$',  \n",
    "          '$\\mathtt{Logistic}$']\n",
    "\n",
    "fig = model_comparison_visualization(accuracy, labels, acc_baseline)\n",
    "fig.savefig('../report/model_comparison_basic.pdf', bbox_inches='tight')"
   ]
  },
  {
   "cell_type": "markdown",
   "metadata": {},
   "source": [
    "# Final training and test set prediction "
   ]
  },
  {
   "cell_type": "code",
   "execution_count": 216,
   "metadata": {},
   "outputs": [],
   "source": [
    "# Get all labelled records\n",
    "y, x, ids = load_csv_data(path.join(DATA_PATH, 'train.csv'))\n",
    "\n",
    "# Apply feature transform\n",
    "fx = feature_transform(x)\n",
    "\n",
    "# Standardise to mean and s.d.\n",
    "fx, mu_x, sigma_x = standardise(fx)\n",
    "\n",
    "# Add offset term\n",
    "tx = np.c_[np.ones(len(y)), fx]"
   ]
  },
  {
   "cell_type": "code",
   "execution_count": 219,
   "metadata": {},
   "outputs": [
    {
     "name": "stdout",
     "output_type": "stream",
     "text": [
      "Gradient Descent (0/49999): loss=4.937179834027508, gradient=1.1057032757809109\n",
      "Gradient Descent (100/49999): loss=3.744651344356511, gradient=1.074530152458014\n",
      "Gradient Descent (200/49999): loss=2.6625209561537275, gradient=0.9930436773298132\n",
      "Gradient Descent (300/49999): loss=1.8391322601491726, gradient=0.8008420436238565\n",
      "Gradient Descent (400/49999): loss=1.3759000604068077, gradient=0.5674103365634904\n",
      "Gradient Descent (500/49999): loss=1.1298178639043017, gradient=0.4425791156981762\n",
      "Gradient Descent (600/49999): loss=0.9614391836172442, gradient=0.3823393411947238\n",
      "Gradient Descent (700/49999): loss=0.8341217604025565, gradient=0.3316461954351393\n",
      "Gradient Descent (800/49999): loss=0.7400726067579017, gradient=0.28212048731935746\n",
      "Gradient Descent (900/49999): loss=0.6731399833234895, gradient=0.23613549073400175\n",
      "Gradient Descent (1000/49999): loss=0.6266968086927045, gradient=0.19592817035617188\n",
      "Gradient Descent (1100/49999): loss=0.5948062093381714, gradient=0.16230632570947698\n",
      "Gradient Descent (1200/49999): loss=0.572859450736896, gradient=0.13494946627332677\n",
      "Gradient Descent (1300/49999): loss=0.5575957335788568, gradient=0.11295980209848905\n",
      "Gradient Descent (1400/49999): loss=0.5468161640564956, gradient=0.09535897386082616\n",
      "Gradient Descent (1500/49999): loss=0.5390651330430358, gradient=0.08126369829867003\n",
      "Gradient Descent (1600/49999): loss=0.5333821067594365, gradient=0.06994719249471709\n",
      "Gradient Descent (1700/49999): loss=0.5291297534196053, gradient=0.06082843634665185\n",
      "Gradient Descent (1800/49999): loss=0.5258814141305459, gradient=0.0534482815223064\n",
      "Gradient Descent (1900/49999): loss=0.5233483187555711, gradient=0.047445935024168516\n",
      "Gradient Descent (2000/49999): loss=0.5213326251704915, gradient=0.042538350472412646\n",
      "Gradient Descent (2100/49999): loss=0.5196970240405254, gradient=0.038503474337845504\n",
      "Gradient Descent (2200/49999): loss=0.5183449330162619, gradient=0.03516693652808362\n",
      "Gradient Descent (2300/49999): loss=0.5172074865713217, gradient=0.032391514458377284\n",
      "Gradient Descent (2400/49999): loss=0.5162349129796971, gradient=0.030068859850014982\n",
      "Gradient Descent (2500/49999): loss=0.5153907613212865, gradient=0.028113072707192505\n",
      "Gradient Descent (2600/49999): loss=0.5146479935125154, gradient=0.02645574876006599\n",
      "Gradient Descent (2700/49999): loss=0.513986307554489, gradient=0.025042174542263863\n",
      "Gradient Descent (2800/49999): loss=0.5133902817834183, gradient=0.023828402239567024\n",
      "Gradient Descent (2900/49999): loss=0.5128480725641686, gradient=0.022778993428690462\n",
      "Gradient Descent (3000/49999): loss=0.512350489316751, gradient=0.02186527003306795\n",
      "Gradient Descent (3100/49999): loss=0.5118903297938948, gradient=0.021063950421823355\n",
      "Gradient Descent (3200/49999): loss=0.5114618969474343, gradient=0.020356079192676433\n",
      "Gradient Descent (3300/49999): loss=0.5110606439581318, gradient=0.01972618227936925\n",
      "Gradient Descent (3400/49999): loss=0.5106829107430987, gradient=0.019161596194441317\n",
      "Gradient Descent (3500/49999): loss=0.5103257264706417, gradient=0.018651932875862403\n",
      "Gradient Descent (3600/49999): loss=0.5099866602047444, gradient=0.018188650912957946\n",
      "Gradient Descent (3700/49999): loss=0.5096637069948396, gradient=0.017764710786578982\n",
      "Gradient Descent (3800/49999): loss=0.5093552003164277, gradient=0.017374296847116517\n",
      "Gradient Descent (3900/49999): loss=0.509059744275549, gradient=0.0170125925647695\n",
      "Gradient Descent (4000/49999): loss=0.5087761607596745, gradient=0.0166755984721463\n",
      "Gradient Descent (4100/49999): loss=0.5085034479790309, gradient=0.016359984429564503\n",
      "Gradient Descent (4200/49999): loss=0.5082407477505342, gradient=0.016062969554777016\n",
      "Gradient Descent (4300/49999): loss=0.5079873195364811, gradient=0.015782224496599682\n",
      "Gradient Descent (4400/49999): loss=0.5077425197341946, gradient=0.015515791785980499\n",
      "Gradient Descent (4500/49999): loss=0.5075057850708543, gradient=0.015262020833933656\n",
      "Gradient Descent (4600/49999): loss=0.5072766192247805, gradient=0.015019514811954965\n",
      "Gradient Descent (4700/49999): loss=0.5070545819951011, gradient=0.014787087183537526\n",
      "Gradient Descent (4800/49999): loss=0.506839280493625, gradient=0.014563726083101173\n",
      "Gradient Descent (4900/49999): loss=0.5066303619484692, gradient=0.014348565082617216\n",
      "Gradient Descent (5000/49999): loss=0.5064275077977075, gradient=0.01414085916332717\n",
      "Gradient Descent (5100/49999): loss=0.5062304288197225, gradient=0.013939964933526795\n",
      "Gradient Descent (5200/49999): loss=0.5060388610999553, gradient=0.013745324313970912\n",
      "Gradient Descent (5300/49999): loss=0.5058525626750501, gradient=0.013556451058461849\n",
      "Gradient Descent (5400/49999): loss=0.5056713107276972, gradient=0.013372919595342665\n",
      "Gradient Descent (5500/49999): loss=0.5054948992308614, gradient=0.013194355771317853\n",
      "Gradient Descent (5600/49999): loss=0.5053231369601031, gradient=0.013020429156599674\n",
      "Gradient Descent (5700/49999): loss=0.5051558458085442, gradient=0.012850846633310759\n",
      "Gradient Descent (5800/49999): loss=0.504992859351617, gradient=0.012685347040167624\n",
      "Gradient Descent (5900/49999): loss=0.5048340216187609, gradient=0.01252369668798505\n",
      "Gradient Descent (6000/49999): loss=0.5046791860372528, gradient=0.012365685594300777\n",
      "Gradient Descent (6100/49999): loss=0.5045282145197709, gradient=0.01221112431289599\n",
      "Gradient Descent (6200/49999): loss=0.5043809766724691, gradient=0.012059841256366206\n",
      "Gradient Descent (6300/49999): loss=0.5042373491044948, gradient=0.011911680428142904\n",
      "Gradient Descent (6400/49999): loss=0.5040972148232523, gradient=0.01176649949525313\n",
      "Gradient Descent (6500/49999): loss=0.5039604627024393, gradient=0.011624168145263273\n",
      "Gradient Descent (6600/49999): loss=0.5038269870121094, gradient=0.011484566680793052\n",
      "Gradient Descent (6700/49999): loss=0.5036966870018128, gradient=0.01134758481311937\n",
      "Gradient Descent (6800/49999): loss=0.503569466529348, gradient=0.011213120623052733\n",
      "Gradient Descent (6900/49999): loss=0.503445233728869, gradient=0.011081079662732793\n",
      "Gradient Descent (7000/49999): loss=0.5033239007130913, gradient=0.010951374176475338\n",
      "Gradient Descent (7100/49999): loss=0.5032053833051516, gradient=0.010823922422490282\n",
      "Gradient Descent (7200/49999): loss=0.5030896007963658, gradient=0.01069864808032471\n",
      "Gradient Descent (7300/49999): loss=0.502976475726682, gradient=0.010575479731386265\n",
      "Gradient Descent (7400/49999): loss=0.5028659336851067, gradient=0.010454350401965748\n",
      "Gradient Descent (7500/49999): loss=0.5027579031277583, gradient=0.010335197159884187\n",
      "Gradient Descent (7600/49999): loss=0.5026523152115457, gradient=0.010217960757301728\n",
      "Gradient Descent (7700/49999): loss=0.502549103641728, gradient=0.010102585313396936\n",
      "Gradient Descent (7800/49999): loss=0.5024482045318615, gradient=0.009989018031598084\n",
      "Gradient Descent (7900/49999): loss=0.5023495562748199, gradient=0.009877208946857846\n",
      "Gradient Descent (8000/49999): loss=0.5022530994237542, gradient=0.00976711069913816\n",
      "Gradient Descent (8100/49999): loss=0.5021587765819905, gradient=0.009658678329836407\n",
      "Gradient Descent (8200/49999): loss=0.5020665323009904, gradient=0.00955186909835705\n",
      "Gradient Descent (8300/49999): loss=0.5019763129856064, gradient=0.00944664231642944\n",
      "Gradient Descent (8400/49999): loss=0.5018880668059434, gradient=0.009342959198106925\n",
      "Gradient Descent (8500/49999): loss=0.5018017436152279, gradient=0.009240782723663896\n",
      "Gradient Descent (8600/49999): loss=0.5017172948731445, gradient=0.009140077515846024\n",
      "Gradient Descent (8700/49999): loss=0.5016346735741621, gradient=0.009040809727131135\n",
      "Gradient Descent (8800/49999): loss=0.5015538341804218, gradient=0.008942946936830223\n",
      "Gradient Descent (8900/49999): loss=0.5014747325588028, gradient=0.008846458057004663\n",
      "Gradient Descent (9000/49999): loss=0.5013973259218232, gradient=0.00875131324630167\n",
      "Gradient Descent (9100/49999): loss=0.5013215727720665, gradient=0.008657483830917441\n",
      "Gradient Descent (9200/49999): loss=0.5012474328498525, gradient=0.008564942231990376\n",
      "Gradient Descent (9300/49999): loss=0.5011748670839032, gradient=0.008473661898806887\n",
      "Gradient Descent (9400/49999): loss=0.5011038375447737, gradient=0.008383617247271692\n",
      "Gradient Descent (9500/49999): loss=0.5010343074008416, gradient=0.0082947836031547\n",
      "Gradient Descent (9600/49999): loss=0.5009662408766673, gradient=0.008207137149679397\n"
     ]
    },
    {
     "name": "stdout",
     "output_type": "stream",
     "text": [
      "Gradient Descent (9700/49999): loss=0.5008996032135524, gradient=0.008120654879063261\n",
      "Gradient Descent (9800/49999): loss=0.5008343606321438, gradient=0.008035314547661298\n",
      "Gradient Descent (9900/49999): loss=0.5007704802969359, gradient=0.00795109463439915\n",
      "Gradient Descent (10000/49999): loss=0.5007079302825467, gradient=0.007867974302213395\n",
      "Gradient Descent (10100/49999): loss=0.500646679541642, gradient=0.00778593336224445\n",
      "Gradient Descent (10200/49999): loss=0.500586697874406, gradient=0.0077049522405518685\n",
      "Gradient Descent (10300/49999): loss=0.5005279558994524, gradient=0.007625011947143799\n",
      "Gradient Descent (10400/49999): loss=0.5004704250260839, gradient=0.007546094047131525\n",
      "Gradient Descent (10500/49999): loss=0.5004140774278208, gradient=0.007468180633837798\n",
      "Gradient Descent (10600/49999): loss=0.500358886017114, gradient=0.007391254303702702\n",
      "Gradient Descent (10700/49999): loss=0.5003048244211744, gradient=0.0073152981328452275\n",
      "Gradient Descent (10800/49999): loss=0.5002518669588507, gradient=0.007240295655150957\n",
      "Gradient Descent (10900/49999): loss=0.5001999886184948, gradient=0.00716623084176771\n",
      "Gradient Descent (11000/49999): loss=0.5001491650367571, gradient=0.007093088081901179\n",
      "Gradient Descent (11100/49999): loss=0.5000993724782595, gradient=0.0070208521648117824\n",
      "Gradient Descent (11200/49999): loss=0.5000505878160961, gradient=0.006949508262922363\n",
      "Gradient Descent (11300/49999): loss=0.5000027885131194, gradient=0.006879041915953863\n",
      "Gradient Descent (11400/49999): loss=0.49995595260396475, gradient=0.006809439016013033\n",
      "Gradient Descent (11500/49999): loss=0.49991005867777705, gradient=0.006740685793562483\n",
      "Gradient Descent (11600/49999): loss=0.499865085861605, gradient=0.006672768804209019\n",
      "Gradient Descent (11700/49999): loss=0.49982101380442084, gradient=0.006605674916251547\n",
      "Gradient Descent (11800/49999): loss=0.4997778226617452, gradient=0.006539391298934203\n",
      "Gradient Descent (11900/49999): loss=0.49973549308083676, gradient=0.006473905411355162\n",
      "Gradient Descent (12000/49999): loss=0.49969400618642396, gradient=0.006409204991985154\n",
      "Gradient Descent (12100/49999): loss=0.4996533435669544, gradient=0.006345278048753446\n",
      "Gradient Descent (12200/49999): loss=0.49961348726133165, gradient=0.00628211284966234\n",
      "Gradient Descent (12300/49999): loss=0.4995744197461219, gradient=0.0062196979138942786\n",
      "Gradient Descent (12400/49999): loss=0.49953612392320657, gradient=0.006158022003378413\n",
      "Gradient Descent (12500/49999): loss=0.49949858310786105, gradient=0.00609707411478596\n",
      "Gradient Descent (12600/49999): loss=0.49946178101724004, gradient=0.0060368434719261215\n",
      "Gradient Descent (12700/49999): loss=0.4994257017592524, gradient=0.005977319518516331\n",
      "Gradient Descent (12800/49999): loss=0.4993903298218085, gradient=0.0059184919113027335\n",
      "Gradient Descent (12900/49999): loss=0.49935565006242316, gradient=0.005860350513508403\n",
      "Gradient Descent (13000/49999): loss=0.49932164769815973, gradient=0.005802885388588635\n",
      "Gradient Descent (13100/49999): loss=0.4992883082959026, gradient=0.005746086794274144\n",
      "Gradient Descent (13200/49999): loss=0.4992556177629419, gradient=0.0056899451768842365\n",
      "Gradient Descent (13300/49999): loss=0.4992235623378593, gradient=0.005634451165893585\n",
      "Gradient Descent (13400/49999): loss=0.4991921285817028, gradient=0.0055795955687372055\n",
      "Gradient Descent (13500/49999): loss=0.4991613033694394, gradient=0.0055253693658394\n",
      "Gradient Descent (13600/49999): loss=0.4991310738816729, gradient=0.0054717637058535875\n",
      "Gradient Descent (13700/49999): loss=0.4991014275966192, gradient=0.0054187699011005366\n",
      "Gradient Descent (13800/49999): loss=0.49907235228232805, gradient=0.005366379423193766\n",
      "Gradient Descent (13900/49999): loss=0.4990438359891407, gradient=0.005314583898841338\n",
      "Gradient Descent (14000/49999): loss=0.4990158670423772, gradient=0.005263375105814263\n",
      "Gradient Descent (14100/49999): loss=0.49898843403524223, gradient=0.00521274496907223\n",
      "Gradient Descent (14200/49999): loss=0.4989615258219438, gradient=0.005162685557038107\n",
      "Gradient Descent (14300/49999): loss=0.498935131511016, gradient=0.0051131890780131365\n",
      "Gradient Descent (14400/49999): loss=0.49890924045883783, gradient=0.005064247876725461\n",
      "Gradient Descent (14500/49999): loss=0.49888384226334204, gradient=0.005015854431004838\n",
      "Gradient Descent (14600/49999): loss=0.49885892675790827, gradient=0.0049680013485771165\n",
      "Gradient Descent (14700/49999): loss=0.49883448400543096, gradient=0.004920681363972398\n",
      "Gradient Descent (14800/49999): loss=0.4988105042925601, gradient=0.004873887335541041\n",
      "Gradient Descent (14900/49999): loss=0.4987869781241052, gradient=0.004827612242572262\n",
      "Gradient Descent (15000/49999): loss=0.49876389621759887, gradient=0.004781849182510354\n",
      "Gradient Descent (15100/49999): loss=0.4987412494980155, gradient=0.004736591368263664\n",
      "Gradient Descent (15200/49999): loss=0.4987190290926367, gradient=0.004691832125602081\n",
      "Gradient Descent (15300/49999): loss=0.49869722632606245, gradient=0.004647564890638842\n",
      "Gradient Descent (15400/49999): loss=0.4986758327153598, gradient=0.004603783207392697\n",
      "Gradient Descent (15500/49999): loss=0.4986548399653477, gradient=0.0045604807254269256\n",
      "Gradient Descent (15600/49999): loss=0.4986342399640112, gradient=0.004517651197561618\n",
      "Gradient Descent (15700/49999): loss=0.49861402477804084, gradient=0.00447528847765604\n",
      "Gradient Descent (15800/49999): loss=0.4985941866484963, gradient=0.004433386518458078\n",
      "Gradient Descent (15900/49999): loss=0.49857471798658654, gradient=0.004391939369517813\n",
      "Gradient Descent (16000/49999): loss=0.4985556113695648, gradient=0.004350941175162537\n",
      "Gradient Descent (16100/49999): loss=0.4985368595367336, gradient=0.004310386172530741\n",
      "Gradient Descent (16200/49999): loss=0.49851845538555994, gradient=0.004270268689662371\n",
      "Gradient Descent (16300/49999): loss=0.4985003919678912, gradient=0.0042305831436435124\n",
      "Gradient Descent (16400/49999): loss=0.4984826624862742, gradient=0.0041913240388028895\n",
      "Gradient Descent (16500/49999): loss=0.49846526029037097, gradient=0.004152485964958421\n",
      "Gradient Descent (16600/49999): loss=0.4984481788734711, gradient=0.004114063595711801\n",
      "Gradient Descent (16700/49999): loss=0.4984314118690921, gradient=0.004076051686789227\n",
      "Gradient Descent (16800/49999): loss=0.49841495304767525, gradient=0.004038445074426608\n",
      "Gradient Descent (16900/49999): loss=0.4983987963133619, gradient=0.004001238673797494\n",
      "Gradient Descent (17000/49999): loss=0.49838293570085773, gradient=0.003964427477482294\n",
      "Gradient Descent (17100/49999): loss=0.49836736537237647, gradient=0.00392800655397714\n",
      "Gradient Descent (17200/49999): loss=0.49835207961466443, gradient=0.003891971046241056\n",
      "Gradient Descent (17300/49999): loss=0.4983370728361005, gradient=0.003856316170280059\n",
      "Gradient Descent (17400/49999): loss=0.49832233956387134, gradient=0.0038210372137669393\n",
      "Gradient Descent (17500/49999): loss=0.49830787444121855, gradient=0.003786129534695379\n",
      "Gradient Descent (17600/49999): loss=0.4982936722247571, gradient=0.0037515885600673993\n",
      "Gradient Descent (17700/49999): loss=0.4982797277818617, gradient=0.003717409784612855\n",
      "Gradient Descent (17800/49999): loss=0.4982660360881183, gradient=0.0036835887695400417\n",
      "Gradient Descent (17900/49999): loss=0.49825259222484225, gradient=0.003650121141316272\n",
      "Gradient Descent (18000/49999): loss=0.4982393913766576, gradient=0.0036170025904776006\n",
      "Gradient Descent (18100/49999): loss=0.4982264288291386, gradient=0.0035842288704665912\n",
      "Gradient Descent (18200/49999): loss=0.4982136999665075, gradient=0.003551795796497361\n",
      "Gradient Descent (18300/49999): loss=0.49820120026939413, gradient=0.0035196992444469885\n",
      "Gradient Descent (18400/49999): loss=0.4981889253126479, gradient=0.0034879351497725006\n",
      "Gradient Descent (18500/49999): loss=0.4981768707632062, gradient=0.003456499506452602\n",
      "Gradient Descent (18600/49999): loss=0.49816503237801496, gradient=0.003425388365953464\n",
      "Gradient Descent (18700/49999): loss=0.49815340600199964, gradient=0.0033945978362177696\n",
      "Gradient Descent (18800/49999): loss=0.49814198756608813, gradient=0.0033641240806764456\n",
      "Gradient Descent (18900/49999): loss=0.49813077308528175, gradient=0.003333963317282207\n",
      "Gradient Descent (19000/49999): loss=0.49811975865677227, gradient=0.003304111817564515\n"
     ]
    },
    {
     "name": "stdout",
     "output_type": "stream",
     "text": [
      "Gradient Descent (19100/49999): loss=0.498108940458106, gradient=0.0032745659057052093\n",
      "Gradient Descent (19200/49999): loss=0.4980983147453938, gradient=0.0032453219576341254\n",
      "Gradient Descent (19300/49999): loss=0.4980878778515619, gradient=0.00321637640014441\n",
      "Gradient Descent (19400/49999): loss=0.4980776261846476, gradient=0.003187725710026665\n",
      "Loss convergence:Terminate because loss did not change by more than threshold.\n",
      "Training loss: 0.4980685551438945\n",
      "Training accuracy: 0.726596\n"
     ]
    }
   ],
   "source": [
    "max_iters = 50000\n",
    "w_initial = np.ones(tx.shape[1])\n",
    "\n",
    "# Run gradient descent \n",
    "w, loss = logistic_regression_mean(y, tx, w_initial, max_iters, gamma_opt_lr, \n",
    "                                    threshold=1e-7, verbose=True)\n",
    "print(f'Training loss: {loss}')\n",
    "\n",
    "acc = eval_model(y, tx, w, thresh=0.5)\n",
    "print(f'Training accuracy: {acc}')"
   ]
  },
  {
   "cell_type": "code",
   "execution_count": 220,
   "metadata": {},
   "outputs": [],
   "source": [
    "# Load test data\n",
    "y_test, x_test, ids_test = load_csv_data(path.join(DATA_PATH, 'test.csv'))\n",
    "fx_test = feature_transform(x_test)\n",
    "\n",
    "# Standardise to mean and s.d. of training data\n",
    "fx_test = standardise_to_fixed(fx_test, mu_x, sigma_x)\n",
    "\n",
    "# Add offset term\n",
    "tx_test = np.c_[np.ones(fx_test.shape[0]), fx_test]"
   ]
  },
  {
   "cell_type": "code",
   "execution_count": 221,
   "metadata": {},
   "outputs": [],
   "source": [
    "# Get predictions on test set\n",
    "y_pred = predict_labels(w, tx_test, thresh=0.5)\n",
    "create_csv_submission(ids_test, y_pred, '../data/final_submission.csv')"
   ]
  }
 ],
 "metadata": {
  "kernelspec": {
   "display_name": "Python 3",
   "language": "python",
   "name": "python3"
  },
  "language_info": {
   "codemirror_mode": {
    "name": "ipython",
    "version": 3
   },
   "file_extension": ".py",
   "mimetype": "text/x-python",
   "name": "python",
   "nbconvert_exporter": "python",
   "pygments_lexer": "ipython3",
   "version": "3.6.8"
  }
 },
 "nbformat": 4,
 "nbformat_minor": 4
}
