{
 "cells": [
  {
   "cell_type": "code",
   "execution_count": 1,
   "metadata": {},
   "outputs": [],
   "source": [
    "%matplotlib inline\n",
    "%load_ext autoreload\n",
    "%autoreload 2"
   ]
  },
  {
   "cell_type": "code",
   "execution_count": 15,
   "metadata": {},
   "outputs": [],
   "source": [
    "import numpy as np\n",
    "\n",
    "import sys\n",
    "sys.path.append('../scripts/')\n",
    "\n",
    "from utils import *\n",
    "from data_utils import *\n",
    "from implementations import *\n",
    "from implementation_variants import *\n",
    "from plots import *\n",
    "\n",
    "DATA_PATH = '../data/'"
   ]
  },
  {
   "cell_type": "markdown",
   "metadata": {},
   "source": [
    "# 0 Load data"
   ]
  },
  {
   "cell_type": "code",
   "execution_count": 3,
   "metadata": {},
   "outputs": [
    {
     "name": "stdout",
     "output_type": "stream",
     "text": [
      " # train samples: 175000\n",
      " # eval samples: 75000\n"
     ]
    }
   ],
   "source": [
    " # Load train data\n",
    "y, x, ids = load_csv_data(path.join(DATA_PATH, 'train.csv'))\n",
    "\n",
    "# Split into train and evaluation set\n",
    "(x_train, y_train), (x_eval, y_eval) = train_eval_split(y, x, split_ratio=.7, seed=1)\n",
    "\n",
    "print(f' # train samples: {len(y_train)}\\n # eval samples: {len(y_eval)}')\n",
    "\n",
    "num_dim = x_train.shape[1]"
   ]
  },
  {
   "cell_type": "markdown",
   "metadata": {},
   "source": [
    "# 1 Define feature transforms to test"
   ]
  },
  {
   "cell_type": "markdown",
   "metadata": {},
   "source": [
    "`feature_transform_mostinfo` removes features with the lowest linear correlation with the target variable. These features were selected in the notebook `Data Exploration.ipynb`"
   ]
  },
  {
   "cell_type": "code",
   "execution_count": 6,
   "metadata": {},
   "outputs": [],
   "source": [
    "LEAST_INFO = ['DER_mass_vis', 'DER_deltar_tau_lep','DER_pt_tot','PRI_tau_eta','PRI_tau_phi',\n",
    "              'PRI_lep_pt','PRI_lep_eta','PRI_lep_phi','PRI_met','PRI_met_phi']\n",
    "\n",
    "def feature_transform_mostinfo(x):\n",
    "    # Generate feature mask\n",
    "    feature_mask = generate_mask(LEAST_INFO)\n",
    "    \n",
    "    # Remove unwanted features\n",
    "    x = x[:, feature_mask]\n",
    "    \n",
    "    return x"
   ]
  },
  {
   "cell_type": "markdown",
   "metadata": {},
   "source": [
    "`feature_transform_imputejet` imputes undefined values (originally encoded as -999) for all columns which are expected to be undefined if `PRI-jet_num` $\\leq 1$ see CERN Open Data [documentation](http://opendata.cern.ch/record/328)."
   ]
  },
  {
   "cell_type": "code",
   "execution_count": 4,
   "metadata": {},
   "outputs": [],
   "source": [
    "JET_NOT_DEFINED = ['DER_lep_eta_centrality', 'DER_prodeta_jet_jet', 'DER_mass_jet_jet', 'DER_deltaeta_jet_jet', \n",
    "                      'PRI_jet_subleading_eta', 'PRI_jet_subleading_phi', 'PRI_jet_subleading_pt']\n",
    "\n",
    "def feature_transform_imputejet(x):\n",
    "    feature_idx = generate_feature_idx(JET_NOT_DEFINED)\n",
    "    for i in feature_idx:\n",
    "        impute_val = np.mean(x[:, i][x[:, i] != -999.])\n",
    "        x[:,i][x[:, i] == -999.] = impute_val\n",
    "    \n",
    "    return x"
   ]
  },
  {
   "cell_type": "markdown",
   "metadata": {},
   "source": [
    "`feature_transform_polybasis` expands each feature with a polynomial basis up to the maximum degree given. Undefined value are always replaced with $-999$."
   ]
  },
  {
   "cell_type": "code",
   "execution_count": 45,
   "metadata": {},
   "outputs": [],
   "source": [
    "def build_poly(x, degree):\n",
    "    \"\"\"polynomial basis functions for input data x, for j=1 up to j=degree.\"\"\"\n",
    "    if len(x.shape) == 1:\n",
    "        x = np.expand_dims(x, axis=1)\n",
    "    phi = np.hstack([x**i for i in range(1, degree+1)])\n",
    "\n",
    "    return phi\n",
    "\n",
    "def feature_transform_polybasis(x, degree=4):\n",
    "    \n",
    "    fx_list = []\n",
    "    # Expand polynomial basis for DEFINED values\n",
    "    for i in range(x.shape[1]):\n",
    "        # Build poly basis\n",
    "        fx_poly = build_poly(x[:, i], degree)\n",
    "        # Replace undefined value with same value for all polys\n",
    "        fx_poly[x[:, i] == -999.] = -999\n",
    "\n",
    "        fx_list.append(fx_poly)\n",
    "\n",
    "    fx = np.hstack(fx_list)\n",
    "    \n",
    "    return fx"
   ]
  },
  {
   "cell_type": "code",
   "execution_count": 48,
   "metadata": {},
   "outputs": [],
   "source": [
    "labels = ['Raw', 'MostInfo', 'ImputeJet', 'ExpandPoly']"
   ]
  },
  {
   "cell_type": "code",
   "execution_count": 49,
   "metadata": {},
   "outputs": [],
   "source": [
    "def compare_features_visualisation(acc_train, acc_test, labels, model):\n",
    "    arr_train = acc_train.flatten()\n",
    "    arr_test = acc_test.flatten()\n",
    "\n",
    "    arr_features = np.concatenate([np.repeat(labels, acc_train.shape[1]), np.repeat(labels, acc_train.shape[1])])\n",
    "    arr_labels = np.concatenate([np.repeat('Train', len(arr_train)), np.repeat('Test', len(arr_test))])\n",
    "    arr_acc = np.concatenate([arr_train, arr_test])\n",
    "\n",
    "    plt_data = pd.DataFrame({'Feature Set':arr_features, 'Accuracy':arr_acc, 'Set':arr_labels})\n",
    "\n",
    "    fig, ax = plt.subplots(figsize=(8,3.5))\n",
    "    ax = sns.boxplot(x='Feature Set', y='Accuracy', hue='Set', data=plt_data)\n",
    "    ax.set(ylabel='$\\mathtt{Accuracy}$', title=f'{model}');\n",
    "    \n",
    "    return fig"
   ]
  },
  {
   "cell_type": "markdown",
   "metadata": {},
   "source": [
    "# 2 Least-Squares"
   ]
  },
  {
   "cell_type": "code",
   "execution_count": 34,
   "metadata": {},
   "outputs": [],
   "source": [
    "def run_least_squares(y_train, x_train, y_eval, x_eval):\n",
    "    # Standardise to training mean and s.d.\n",
    "    x_train, mean_x, std_x = standardise(x_train)\n",
    "    x_eval = standardise_to_fixed(x_eval, mean_x, std_x)\n",
    "    \n",
    "    # Run training\n",
    "    w, loss = least_squares(y_train, x_train)\n",
    "\n",
    "    # Get training accuracy\n",
    "    acc_tr  = eval_model(y_train, x_train, w, thresh=0)\n",
    "\n",
    "    # Get accuracy on evaluation set\n",
    "    acc_te = eval_model(y_eval, x_eval, w, thresh=0)\n",
    "    print(f'Test Accuracy: {acc_te}')\n",
    "    \n",
    "    return w, loss, acc_tr, acc_te"
   ]
  },
  {
   "cell_type": "code",
   "execution_count": 50,
   "metadata": {},
   "outputs": [
    {
     "name": "stdout",
     "output_type": "stream",
     "text": [
      "\n",
      "Feature Set: Raw\n",
      "Test Accuracy: 0.7192914285714286\n",
      "Test Accuracy: 0.7192457142857143\n",
      "Test Accuracy: 0.7180342857142857\n",
      "Test Accuracy: 0.7168\n",
      "\n",
      "Feature Set: MostInfo\n",
      "Test Accuracy: 0.7092342857142857\n",
      "Test Accuracy: 0.7072457142857143\n",
      "Test Accuracy: 0.7091657142857143\n",
      "Test Accuracy: 0.7037714285714286\n",
      "\n",
      "Feature Set: ImputeJet\n",
      "Test Accuracy: 0.7192914285714286\n",
      "Test Accuracy: 0.7192457142857143\n",
      "Test Accuracy: 0.7180342857142857\n",
      "Test Accuracy: 0.7168\n",
      "\n",
      "Feature Set: Poly\n",
      "Test Accuracy: 0.7415314285714286\n",
      "Test Accuracy: 0.7404114285714286\n",
      "Test Accuracy: 0.7414628571428571\n",
      "Test Accuracy: 0.7408685714285714\n"
     ]
    }
   ],
   "source": [
    "k_fold = 4\n",
    "\n",
    "# Store train and test accuracy \n",
    "acc_train = np.empty((len(labels), k_fold), float)\n",
    "acc_test = np.empty((len(labels), k_fold), float)\n",
    "\n",
    "print('\\nFeature Set: Raw')\n",
    "fx_train = x_train\n",
    "\n",
    "i = 0\n",
    "k = 0\n",
    "for train_split, test_split in k_fold_iter(y_train, fx_train, k_fold):\n",
    "    # Run evaluation\n",
    "    w, loss, acc_tr, acc_te = run_least_squares(train_split[1], train_split[0], \n",
    "                                                test_split[1], test_split[0])\n",
    "    acc_train[i, k] = acc_tr\n",
    "    acc_test[i, k] = acc_te\n",
    "\n",
    "    k+=1\n",
    "\n",
    "print('\\nFeature Set: MostInfo')\n",
    "fx_train = feature_transform_mostinfo(x_train)\n",
    "\n",
    "i = 1\n",
    "k = 0\n",
    "for train_split, test_split in k_fold_iter(y_train, fx_train, k_fold):\n",
    "    # Run evaluation\n",
    "    w, loss, acc_tr, acc_te = run_least_squares(train_split[1], train_split[0], \n",
    "                                                test_split[1], test_split[0])\n",
    "    acc_train[i, k] = acc_tr\n",
    "    acc_test[i, k] = acc_te\n",
    "\n",
    "    k+=1\n",
    "        \n",
    "print('\\nFeature Set: ImputeJet')\n",
    "fx_train = feature_transform_imputejet(x_train)\n",
    "\n",
    "i = 2\n",
    "k = 0\n",
    "for train_split, test_split in k_fold_iter(y_train, fx_train, k_fold):\n",
    "    # Run evaluation\n",
    "    w, loss, acc_tr, acc_te = run_least_squares(train_split[1], train_split[0], \n",
    "                                                test_split[1], test_split[0])\n",
    "    acc_train[i, k] = acc_tr\n",
    "    acc_test[i, k] = acc_te\n",
    "\n",
    "    k+=1\n",
    "    \n",
    "\n",
    "print('\\nFeature Set: Poly')\n",
    "fx_train = feature_transform_polybasis(x_train)\n",
    "\n",
    "i = 3\n",
    "k = 0\n",
    "for train_split, test_split in k_fold_iter(y_train, fx_train, k_fold):\n",
    "    # Run evaluation\n",
    "    w, loss, acc_tr, acc_te = run_least_squares(train_split[1], train_split[0], \n",
    "                                                test_split[1], test_split[0])\n",
    "    acc_train[i, k] = acc_tr\n",
    "    acc_test[i, k] = acc_te\n",
    "\n",
    "    k+=1"
   ]
  },
  {
   "cell_type": "code",
   "execution_count": 51,
   "metadata": {},
   "outputs": [
    {
     "data": {
      "image/png": "[encoded data removed]",
      "text/plain": [
       "<Figure size 576x252 with 1 Axes>"
      ]
     },
     "metadata": {},
     "output_type": "display_data"
    }
   ],
   "source": [
    "fig = compare_features_visualisation(acc_train, acc_test, labels, '$\\mathtt{LeastSquares}$')\n",
    "fig.savefig('../report/compare_features_ls.pdf', bbox_inches='tight')"
   ]
  },
  {
   "cell_type": "markdown",
   "metadata": {},
   "source": [
    "# 3 Ridge Regresion"
   ]
  },
  {
   "cell_type": "code",
   "execution_count": 52,
   "metadata": {},
   "outputs": [],
   "source": [
    "def run_ridge(y_train, x_train, y_eval, x_eval):\n",
    "    # Standardise to training mean and s.d.\n",
    "    x_train, mean_x, std_x = standardise(x_train)\n",
    "    x_eval = standardise_to_fixed(x_eval, mean_x, std_x)\n",
    "    \n",
    "    lambdas = np.logspace(-8, -1, 10)\n",
    "    k_fold = 4\n",
    "\n",
    "    # Hyperparameter optimisation\n",
    "    acc_train = np.empty((len(lambdas), k_fold), float)\n",
    "    acc_test = np.empty((len(lambdas), k_fold), float)\n",
    "\n",
    "    for l, lambda_ in enumerate(lambdas):\n",
    "        k = 0\n",
    "        for train_split, test_split in k_fold_iter(y_train, x_train, k_fold):\n",
    "            # Train\n",
    "            w, loss = ridge_regression(train_split[1], train_split[0], lambda_)\n",
    "            acc_tr = eval_model(train_split[1], train_split[0], w)\n",
    "            acc_train[l, k] = acc_tr\n",
    "\n",
    "            # Test\n",
    "            acc_te = eval_model(test_split[1], test_split[0], w)\n",
    "            acc_test[l, k] = acc_te\n",
    "\n",
    "            k += 1\n",
    "\n",
    "    avg_acc_test = np.mean(acc_test, axis=1)\n",
    "    lambda_opt_ridge = lambdas[np.argmax(avg_acc_test)]\n",
    "\n",
    "    print('Maximum test accuracy {} with lambda {}'.format(np.max(avg_acc_test), lambda_opt_ridge))\n",
    "    \n",
    "    # Run training\n",
    "    w, loss = ridge_regression(y_train, x_train, lambda_opt_ridge)\n",
    "\n",
    "    acc_tr = eval_model(y_train, x_train, w)\n",
    "\n",
    "    acc_te = eval_model(y_eval, x_eval, w)\n",
    "    print(f'Test accuracy: {acc_te}')\n",
    "    \n",
    "    \n",
    "    return w, loss, acc_tr, acc_te\n",
    "    "
   ]
  },
  {
   "cell_type": "code",
   "execution_count": 53,
   "metadata": {
    "scrolled": false
   },
   "outputs": [
    {
     "name": "stdout",
     "output_type": "stream",
     "text": [
      "\n",
      "Feature Set: Raw\n",
      "Maximum test accuracy 0.7186395221260515 with lambda 0.0027825594022071257\n",
      "Test accuracy: 0.7192457142857143\n",
      "Maximum test accuracy 0.7177480799707425 with lambda 3.5938136638046254e-07\n",
      "Test accuracy: 0.7192685714285715\n",
      "Maximum test accuracy 0.7181366573204926 with lambda 1e-08\n",
      "Test accuracy: 0.7179657142857143\n",
      "Maximum test accuracy 0.7184947580153602 with lambda 2.1544346900318865e-06\n",
      "Test accuracy: 0.7168685714285714\n",
      "\n",
      "Feature Set: MostInfo\n",
      "Maximum test accuracy 0.7086355601609168 with lambda 0.0027825594022071257\n",
      "Test accuracy: 0.7104685714285714\n",
      "Maximum test accuracy 0.708536511032549 with lambda 0.0027825594022071257\n",
      "Test accuracy: 0.7077942857142857\n",
      "Maximum test accuracy 0.7075231622577105 with lambda 0.0027825594022071257\n",
      "Test accuracy: 0.7104914285714286\n",
      "Maximum test accuracy 0.7091003291478728 with lambda 0.0027825594022071257\n",
      "Test accuracy: 0.7056228571428571\n",
      "\n",
      "Feature Set: ImputeJet\n",
      "Maximum test accuracy 0.7186395221260515 with lambda 0.0027825594022071257\n",
      "Test accuracy: 0.7192457142857143\n",
      "Maximum test accuracy 0.7177480799707425 with lambda 3.5938136638046254e-07\n",
      "Test accuracy: 0.7192685714285715\n",
      "Maximum test accuracy 0.7181366573204926 with lambda 1e-08\n",
      "Test accuracy: 0.7179657142857143\n",
      "Maximum test accuracy 0.7184947580153602 with lambda 2.1544346900318865e-06\n",
      "Test accuracy: 0.7168685714285714\n",
      "\n",
      "Feature Set: Poly\n",
      "Maximum test accuracy 0.736003596245276 with lambda 0.0004641588833612782\n",
      "Test accuracy: 0.73936\n",
      "Maximum test accuracy 0.7358893087894673 with lambda 0.0004641588833612782\n",
      "Test accuracy: 0.7342171428571429\n",
      "Maximum test accuracy 0.7346778617578935 with lambda 0.0004641588833612782\n",
      "Test accuracy: 0.73712\n",
      "Maximum test accuracy 0.7400112763623065 with lambda 1e-08\n",
      "Test accuracy: 0.7404114285714286\n"
     ]
    },
    {
     "data": {
      "image/png": "[encoded data removed]",
      "text/plain": [
       "<Figure size 576x252 with 1 Axes>"
      ]
     },
     "metadata": {},
     "output_type": "display_data"
    }
   ],
   "source": [
    "k_fold = 4\n",
    "\n",
    "# Store train and test accuracy \n",
    "acc_train = np.empty((len(labels), k_fold), float)\n",
    "acc_test = np.empty((len(labels), k_fold), float)\n",
    "\n",
    "print('\\nFeature Set: Raw')\n",
    "fx_train = x_train\n",
    "\n",
    "i = 0\n",
    "k = 0\n",
    "for train_split, test_split in k_fold_iter(y_train, fx_train, k_fold):\n",
    "    # Run evaluation\n",
    "    w, loss, acc_tr, acc_te = run_ridge(train_split[1], train_split[0], \n",
    "                                                test_split[1], test_split[0])\n",
    "    acc_train[i, k] = acc_tr\n",
    "    acc_test[i, k] = acc_te\n",
    "\n",
    "    k+=1\n",
    "\n",
    "print('\\nFeature Set: MostInfo')\n",
    "fx_train = feature_transform_mostinfo(x_train)\n",
    "\n",
    "i = 1\n",
    "k = 0\n",
    "for train_split, test_split in k_fold_iter(y_train, fx_train, k_fold):\n",
    "    # Run evaluation\n",
    "    w, loss, acc_tr, acc_te = run_ridge(train_split[1], train_split[0], \n",
    "                                                test_split[1], test_split[0])\n",
    "    acc_train[i, k] = acc_tr\n",
    "    acc_test[i, k] = acc_te\n",
    "\n",
    "    k+=1\n",
    "        \n",
    "print('\\nFeature Set: ImputeJet')\n",
    "fx_train = feature_transform_imputejet(x_train)\n",
    "\n",
    "i = 2\n",
    "k = 0\n",
    "for train_split, test_split in k_fold_iter(y_train, fx_train, k_fold):\n",
    "    # Run evaluation\n",
    "    w, loss, acc_tr, acc_te = run_ridge(train_split[1], train_split[0], \n",
    "                                                test_split[1], test_split[0])\n",
    "    acc_train[i, k] = acc_tr\n",
    "    acc_test[i, k] = acc_te\n",
    "\n",
    "    k+=1\n",
    "    \n",
    "\n",
    "print('\\nFeature Set: Poly')\n",
    "fx_train = feature_transform_polybasis(x_train)\n",
    "\n",
    "i = 3\n",
    "k = 0\n",
    "for train_split, test_split in k_fold_iter(y_train, fx_train, k_fold):\n",
    "    # Run evaluation\n",
    "    w, loss, acc_tr, acc_te = run_ridge(train_split[1], train_split[0], \n",
    "                                                test_split[1], test_split[0])\n",
    "    acc_train[i, k] = acc_tr\n",
    "    acc_test[i, k] = acc_te\n",
    "\n",
    "    k+=1\n",
    "            \n",
    "fig = compare_features_visualisation(acc_train, acc_test, labels, '$\\mathtt{Ridge}$')\n",
    "fig.savefig('../report/compare_features_ridge.pdf', bbox_inches='tight')"
   ]
  },
  {
   "cell_type": "markdown",
   "metadata": {},
   "source": [
    "# 4 Logistic Regression"
   ]
  },
  {
   "cell_type": "code",
   "execution_count": 54,
   "metadata": {},
   "outputs": [],
   "source": [
    "def run_logistic(y_train, x_train, y_eval, x_eval):\n",
    "    # Standardise to training mean and s.d.\n",
    "    x_train, mean_x, std_x = standardise(x_train)\n",
    "    x_eval = standardise_to_fixed(x_eval, mean_x, std_x)\n",
    "\n",
    "    tx_train = np.c_[np.ones(x_train.shape[0]), x_train]\n",
    "    tx_eval = np.c_[np.ones(x_eval.shape[0]), x_eval]\n",
    "    \n",
    "    gamma = 0.01\n",
    "    max_iters = 10000\n",
    "    w_initial = np.ones(tx_train.shape[1])\n",
    "\n",
    "    # Run gradient descent \n",
    "    w, loss = logistic_regression_mean(y_train, tx_train, w_initial, max_iters, gamma, threshold=1e-6)\n",
    "\n",
    "    acc_tr = eval_model(y_train, tx_train, w, thresh=0.5)\n",
    "\n",
    "    acc_te = eval_model(y_eval, tx_eval, w, thresh=0.5)\n",
    "    print(f'Testing accuracy: {acc_te}')\n",
    "    \n",
    "    return w, loss, acc_tr, acc_te"
   ]
  },
  {
   "cell_type": "code",
   "execution_count": 55,
   "metadata": {
    "scrolled": false
   },
   "outputs": [
    {
     "name": "stdout",
     "output_type": "stream",
     "text": [
      "\n",
      "Feature Set: Raw\n",
      "Loss convergence:Terminate because loss did not change by more than threshold.\n",
      "Testing accuracy: 0.7306971428571428\n",
      "Loss convergence:Terminate because loss did not change by more than threshold.\n",
      "Testing accuracy: 0.7277942857142857\n",
      "Loss convergence:Terminate because loss did not change by more than threshold.\n",
      "Testing accuracy: 0.7247085714285715\n",
      "Loss convergence:Terminate because loss did not change by more than threshold.\n",
      "Testing accuracy: 0.7246171428571428\n",
      "\n",
      "Feature Set: MostInfo\n",
      "Loss convergence:Terminate because loss did not change by more than threshold.\n",
      "Testing accuracy: 0.71792\n",
      "Loss convergence:Terminate because loss did not change by more than threshold.\n",
      "Testing accuracy: 0.7134628571428572\n",
      "Loss convergence:Terminate because loss did not change by more than threshold.\n",
      "Testing accuracy: 0.7124114285714286\n",
      "Loss convergence:Terminate because loss did not change by more than threshold.\n",
      "Testing accuracy: 0.7127771428571429\n",
      "\n",
      "Feature Set: ImputeJet\n",
      "Loss convergence:Terminate because loss did not change by more than threshold.\n",
      "Testing accuracy: 0.7306971428571428\n",
      "Loss convergence:Terminate because loss did not change by more than threshold.\n",
      "Testing accuracy: 0.7277942857142857\n",
      "Loss convergence:Terminate because loss did not change by more than threshold.\n",
      "Testing accuracy: 0.7247085714285715\n",
      "Loss convergence:Terminate because loss did not change by more than threshold.\n",
      "Testing accuracy: 0.7246171428571428\n",
      "\n",
      "Feature Set: Poly\n"
     ]
    },
    {
     "name": "stderr",
     "output_type": "stream",
     "text": [
      "../scripts/costs.py:49: RuntimeWarning: overflow encountered in exp\n",
      "  return np.sum(np.log(1 + np.exp(z)) - y * z)\n",
      "../scripts/implementation_variants.py:152: RuntimeWarning: invalid value encountered in double_scalars\n",
      "  if len(losses) > 1 and np.abs(losses[-1] - losses[-2]) < threshold:\n"
     ]
    },
    {
     "name": "stdout",
     "output_type": "stream",
     "text": [
      "Testing accuracy: 0.7577142857142857\n",
      "Testing accuracy: 0.7551542857142857\n",
      "Testing accuracy: 0.7534171428571429\n",
      "Testing accuracy: 0.7533028571428572\n"
     ]
    },
    {
     "data": {
      "image/png": "[encoded data removed]",
      "text/plain": [
       "<Figure size 576x252 with 1 Axes>"
      ]
     },
     "metadata": {},
     "output_type": "display_data"
    }
   ],
   "source": [
    "k_fold = 4\n",
    "\n",
    "# Store train and test accuracy \n",
    "acc_train = np.empty((len(labels), k_fold), float)\n",
    "acc_test = np.empty((len(labels), k_fold), float)\n",
    "\n",
    "print('\\nFeature Set: Raw')\n",
    "fx_train = x_train\n",
    "\n",
    "i = 0\n",
    "k = 0\n",
    "for train_split, test_split in k_fold_iter(y_train, fx_train, k_fold):\n",
    "    # Run evaluation\n",
    "    w, loss, acc_tr, acc_te = run_logistic(train_split[1], train_split[0], \n",
    "                                                test_split[1], test_split[0])\n",
    "    acc_train[i, k] = acc_tr\n",
    "    acc_test[i, k] = acc_te\n",
    "\n",
    "    k+=1\n",
    "\n",
    "print('\\nFeature Set: MostInfo')\n",
    "fx_train = feature_transform_mostinfo(x_train)\n",
    "\n",
    "i = 1\n",
    "k = 0\n",
    "for train_split, test_split in k_fold_iter(y_train, fx_train, k_fold):\n",
    "    # Run evaluation\n",
    "    w, loss, acc_tr, acc_te = run_logistic(train_split[1], train_split[0], \n",
    "                                                test_split[1], test_split[0])\n",
    "    acc_train[i, k] = acc_tr\n",
    "    acc_test[i, k] = acc_te\n",
    "\n",
    "    k+=1\n",
    "        \n",
    "print('\\nFeature Set: ImputeJet')\n",
    "fx_train = feature_transform_imputejet(x_train)\n",
    "\n",
    "i = 2\n",
    "k = 0\n",
    "for train_split, test_split in k_fold_iter(y_train, fx_train, k_fold):\n",
    "    # Run evaluation\n",
    "    w, loss, acc_tr, acc_te = run_logistic(train_split[1], train_split[0], \n",
    "                                                test_split[1], test_split[0])\n",
    "    acc_train[i, k] = acc_tr\n",
    "    acc_test[i, k] = acc_te\n",
    "\n",
    "    k+=1\n",
    "    \n",
    "\n",
    "print('\\nFeature Set: Poly')\n",
    "fx_train = feature_transform_polybasis(x_train)\n",
    "\n",
    "i = 3\n",
    "k = 0\n",
    "for train_split, test_split in k_fold_iter(y_train, fx_train, k_fold):\n",
    "    # Run evaluation\n",
    "    w, loss, acc_tr, acc_te = run_logistic(train_split[1], train_split[0], \n",
    "                                                test_split[1], test_split[0])\n",
    "    acc_train[i, k] = acc_tr\n",
    "    acc_test[i, k] = acc_te\n",
    "\n",
    "    k+=1\n",
    "            \n",
    "fig = compare_features_visualisation(acc_train, acc_test, labels, '$\\mathtt{LogReg}$')\n",
    "fig.savefig('../report/compare_features_logreg.pdf', bbox_inches='tight')"
   ]
  },
  {
   "cell_type": "markdown",
   "metadata": {},
   "source": [
    "# 5 Compare model performance on best performing feature set "
   ]
  },
  {
   "cell_type": "markdown",
   "metadata": {},
   "source": [
    "##### Data Processing"
   ]
  },
  {
   "cell_type": "code",
   "execution_count": 56,
   "metadata": {},
   "outputs": [],
   "source": [
    "fx_train = feature_transform_polybasis(x_train)\n",
    "fx_eval = feature_transform_polybasis(x_eval)\n",
    "\n",
    "fx_train, mean_fx, std_fx = standardise(fx_train)\n",
    "fx_eval = standardise_to_fixed(fx_eval, mean_fx, std_fx)\n",
    "\n",
    "tx_train = np.c_[np.ones(fx_train.shape[0]), fx_train]\n",
    "tx_eval = np.c_[np.ones(fx_eval.shape[0]), fx_eval]"
   ]
  },
  {
   "cell_type": "markdown",
   "metadata": {},
   "source": [
    "##### Baseline"
   ]
  },
  {
   "cell_type": "code",
   "execution_count": 57,
   "metadata": {},
   "outputs": [
    {
     "name": "stdout",
     "output_type": "stream",
     "text": [
      "Testing Accuracy: 0.5495733333333334\n"
     ]
    }
   ],
   "source": [
    "# Get baseline frequency of the two classes in training data\n",
    "prior_probs = [sum(y_train == 1)/len(y_train), sum(y_train == 0)/len(y_train)]\n",
    "\n",
    "# Test error on evaluation set\n",
    "y_eval_pred = np.random.choice([1., 0], size=len(y_eval), p=prior_probs)\n",
    "\n",
    "acc_baseline = get_accuracy(y_eval_pred, y_eval)\n",
    "\n",
    "print(f'Testing Accuracy: {acc_baseline}')"
   ]
  },
  {
   "cell_type": "markdown",
   "metadata": {},
   "source": [
    "##### LeastSquares"
   ]
  },
  {
   "cell_type": "code",
   "execution_count": 58,
   "metadata": {},
   "outputs": [
    {
     "name": "stdout",
     "output_type": "stream",
     "text": [
      "Training loss: 0.13507315799556574\n",
      "Training accuracy: 0.7412857142857143\n",
      "Test Accuracy: 0.7017466666666666\n"
     ]
    }
   ],
   "source": [
    "# Get linear least-squares model\n",
    "w_ls, loss_ls = least_squares(y_train, fx_train)\n",
    "print(f'Training loss: {loss_ls}')\n",
    "\n",
    "# Get training accuracy\n",
    "acc_tr  = eval_model(y_train, fx_train, w_ls, thresh=0)\n",
    "print(f'Training accuracy: {acc_tr}')\n",
    "\n",
    "# Get accuracy on evaluation set\n",
    "acc_ls = eval_model(y_eval, fx_eval, w_ls, thresh=0)\n",
    "print(f'Test Accuracy: {acc_ls}')"
   ]
  },
  {
   "cell_type": "markdown",
   "metadata": {},
   "source": [
    "##### Train Ridge"
   ]
  },
  {
   "cell_type": "code",
   "execution_count": 59,
   "metadata": {},
   "outputs": [
    {
     "name": "stdout",
     "output_type": "stream",
     "text": [
      "lambda: 1e-09\n",
      "lambda: 2.9763514416313133e-09\n",
      "lambda: 8.858667904100832e-09\n",
      "lambda: 2.6366508987303555e-08\n",
      "lambda: 7.847599703514607e-08\n",
      "lambda: 2.3357214690901212e-07\n",
      "lambda: 6.951927961775605e-07\n",
      "lambda: 2.06913808111479e-06\n",
      "lambda: 6.158482110660255e-06\n",
      "lambda: 1.8329807108324338e-05\n",
      "lambda: 5.4555947811685143e-05\n",
      "lambda: 0.0001623776739188721\n",
      "lambda: 0.0004832930238571752\n",
      "lambda: 0.0014384498882876629\n",
      "lambda: 0.004281332398719387\n",
      "lambda: 0.012742749857031322\n",
      "lambda: 0.03792690190732246\n",
      "lambda: 0.11288378916846883\n",
      "lambda: 0.33598182862837744\n",
      "lambda: 1.0\n"
     ]
    }
   ],
   "source": [
    "# Run cross val\n",
    "lambdas = np.logspace(-9, 0, 20)\n",
    "k_fold = 4\n",
    "\n",
    "# Hyperparameter optimisation\n",
    "acc_train = np.empty((len(lambdas), k_fold), float)\n",
    "acc_test = np.empty((len(lambdas), k_fold), float)\n",
    "\n",
    "for l, lambda_ in enumerate(lambdas):\n",
    "    print(f'lambda: {lambda_}')\n",
    "    k = 0\n",
    "    for train_split, test_split in k_fold_iter(y_train, fx_train, k_fold):\n",
    "        # Train\n",
    "        w, loss = ridge_regression(train_split[1], train_split[0], lambda_)\n",
    "        acc_tr = eval_model(train_split[1], train_split[0], w)\n",
    "        acc_train[l, k] = acc_tr\n",
    "\n",
    "        # Test\n",
    "        acc_te = eval_model(test_split[1], test_split[0], w)\n",
    "        acc_test[l, k] = acc_te\n",
    "\n",
    "        k += 1"
   ]
  },
  {
   "cell_type": "code",
   "execution_count": 60,
   "metadata": {},
   "outputs": [
    {
     "name": "stdout",
     "output_type": "stream",
     "text": [
      "Maximum test accuracy 0.7355485714285714 with lambda 0.0004832930238571752\n"
     ]
    },
    {
     "data": {
      "image/png": "[encoded data removed]",
      "text/plain": [
       "<Figure size 720x288 with 1 Axes>"
      ]
     },
     "metadata": {},
     "output_type": "display_data"
    }
   ],
   "source": [
    "fig = cross_validation_visualization(lambdas, 1-acc_train, 1-acc_test)\n",
    "\n",
    "avg_acc_test = np.mean(acc_test, axis=1)\n",
    "lambda_opt_ridge = lambdas[np.argmax(avg_acc_test)]\n",
    "\n",
    "print('Maximum test accuracy {} with lambda {}'.format(np.max(avg_acc_test), lambda_opt_ridge))\n",
    "\n",
    "fig.savefig('../report/ridge_crossval.pdf', bbox_inches='tight')"
   ]
  },
  {
   "cell_type": "code",
   "execution_count": 61,
   "metadata": {},
   "outputs": [
    {
     "name": "stdout",
     "output_type": "stream",
     "text": [
      "Training loss: 0.13594442402363963\n",
      "Training accuracy: 0.7369542857142857\n",
      "Test accuracy: 0.70048\n"
     ]
    }
   ],
   "source": [
    "# Run training\n",
    "w_ridge, loss_ridge = ridge_regression(y_train, fx_train, lambda_opt_ridge)\n",
    "print(f'Training loss: {loss_ridge}')\n",
    "\n",
    "acc = eval_model(y_train, fx_train, w_ridge)\n",
    "print(f'Training accuracy: {acc}')\n",
    "\n",
    "acc_ridge = eval_model(y_eval, fx_eval, w_ridge)\n",
    "print(f'Test accuracy: {acc_ridge}')"
   ]
  },
  {
   "cell_type": "markdown",
   "metadata": {},
   "source": [
    "##### Train LogReg"
   ]
  },
  {
   "cell_type": "code",
   "execution_count": null,
   "metadata": {
    "scrolled": true
   },
   "outputs": [],
   "source": [
    "# Run cross-validation to find optimal step-size\n",
    "gammas = np.logspace(-7, -1, 5)\n",
    "k_fold = 4\n",
    "\n",
    "max_iters = 5000\n",
    "w_initial = np.zeros(tx_train.shape[1])\n",
    "\n",
    "# Hyperparameter optimisation\n",
    "acc_train = np.empty((len(gammas), k_fold), float)\n",
    "acc_test = np.empty((len(gammas), k_fold), float)\n",
    "\n",
    "for g, gamma in enumerate(gammas):\n",
    "    k = 0\n",
    "    for train_split, test_split in k_fold_iter(y_train, tx_train, k_fold):\n",
    "        # Train\n",
    "        w, loss = logistic_regression_mean(train_split[1], train_split[0], w_initial, \n",
    "                                           max_iters, gamma, threshold=1e-6, verbose=False)\n",
    "        \n",
    "        acc_tr = eval_model(train_split[1], train_split[0], w, thresh=0.5)\n",
    "        acc_train[g, k] = acc_tr\n",
    "\n",
    "        # Test\n",
    "        acc_te = eval_model(test_split[1], test_split[0], w, thresh=0.5)\n",
    "        acc_test[g, k] = acc_te\n",
    "\n",
    "        k += 1"
   ]
  },
  {
   "cell_type": "code",
   "execution_count": 181,
   "metadata": {},
   "outputs": [
    {
     "name": "stdout",
     "output_type": "stream",
     "text": [
      "Maximum test accuracy 0.7230571428571428 with gamma 0.01\n"
     ]
    },
    {
     "data": {
      "image/png": "[encoded data removed]",
      "text/plain": [
       "<Figure size 720x432 with 1 Axes>"
      ]
     },
     "metadata": {},
     "output_type": "display_data"
    }
   ],
   "source": [
    "fig = cross_validation_visualization(gammas, 1-acc_train, 1-acc_test)\n",
    "fig.savefig('../report/crossval_lr.pdf', bbox_inches='tight')\n",
    "avg_acc_test = np.mean(acc_test, axis=1)\n",
    "gamma_opt_lr = gammas[np.argmax(avg_acc_test)]\n",
    "\n",
    "print('Maximum test accuracy {} with gamma {}'.format(np.max(avg_acc_test), gamma_opt_lr))"
   ]
  },
  {
   "cell_type": "code",
   "execution_count": null,
   "metadata": {
    "scrolled": true
   },
   "outputs": [
    {
     "name": "stdout",
     "output_type": "stream",
     "text": [
      "Gradient Descent (0/14999): loss=0.6895007360657128, gradient=0.6084223990299961\n",
      "Gradient Descent (100/14999): loss=0.5838132631611054, gradient=0.20969821015110743\n",
      "Gradient Descent (200/14999): loss=0.5538412238487147, gradient=0.1449446746323065\n",
      "Gradient Descent (300/14999): loss=0.5375199179397461, gradient=0.11338004421997025\n",
      "Gradient Descent (400/14999): loss=0.5269008836277951, gradient=0.0940440916288098\n",
      "Gradient Descent (500/14999): loss=0.5193360900277314, gradient=0.08063832041172769\n",
      "Gradient Descent (600/14999): loss=0.5136624896142911, gradient=0.0705010355387076\n",
      "Gradient Descent (700/14999): loss=0.5092519115952263, gradient=0.06266691638284683\n",
      "Gradient Descent (800/14999): loss=0.5057249205981087, gradient=0.05637169927326273\n",
      "Gradient Descent (900/14999): loss=0.5028385296535001, gradient=0.05129925197216875\n",
      "Gradient Descent (1000/14999): loss=0.5004216577493653, gradient=0.04719651982646345\n",
      "Gradient Descent (1100/14999): loss=0.49835670990294745, gradient=0.04382184560174078\n",
      "Gradient Descent (1200/14999): loss=0.49656240557575804, gradient=0.041005151586717296\n",
      "Gradient Descent (1300/14999): loss=0.49498063601839437, gradient=0.038626351588226505\n",
      "Gradient Descent (1400/14999): loss=0.4935688062579092, gradient=0.03659526373349293\n",
      "Gradient Descent (1500/14999): loss=0.49229512179948176, gradient=0.03484291522633469\n",
      "Gradient Descent (1600/14999): loss=0.4911354415043151, gradient=0.033316323765218564\n",
      "Gradient Descent (1700/14999): loss=0.4900711436652017, gradient=0.03197413772759198\n",
      "Gradient Descent (1800/14999): loss=0.489087673344047, gradient=0.030783505812356726\n",
      "Gradient Descent (1900/14999): loss=0.48817352412966447, gradient=0.029718124620650502\n",
      "Gradient Descent (2000/14999): loss=0.48731949862602325, gradient=0.028756935559905654\n",
      "Gradient Descent (2100/14999): loss=0.48651816035094936, gradient=0.027883109681582616\n",
      "Gradient Descent (2200/14999): loss=0.4857634247579677, gradient=0.027083200209414585\n",
      "Gradient Descent (2300/14999): loss=0.48505025341842334, gradient=0.026346438859364874\n",
      "Gradient Descent (2400/14999): loss=0.4843744247520285, gradient=0.025664164924951112\n",
      "Gradient Descent (2500/14999): loss=0.483732361425588, gradient=0.025029370282011517\n",
      "Gradient Descent (2600/14999): loss=0.4831209997133263, gradient=0.024436340329837682\n",
      "Gradient Descent (2700/14999): loss=0.4825376900172818, gradient=0.02388037211115065\n",
      "Gradient Descent (2800/14999): loss=0.4819801206126848, gradient=0.02335755398178379\n",
      "Gradient Descent (2900/14999): loss=0.4814462587589986, gradient=0.022864594334526697\n",
      "Gradient Descent (3000/14999): loss=0.48093430482660954, gradient=0.02239868930679593\n",
      "Gradient Descent (3100/14999): loss=0.480442656203293, gradient=0.02195742114296071\n",
      "Gradient Descent (3200/14999): loss=0.47996987858073753, gradient=0.021538680170910058\n"
     ]
    }
   ],
   "source": [
    "max_iters = 15000\n",
    "w_initial = np.zeros(tx_train.shape[1])\n",
    "\n",
    "# Run gradient descent \n",
    "w_lr, loss_lr = logistic_regression_mean(y_train, tx_train, w_initial, max_iters, gamma_opt_lr, \n",
    "                                    threshold=1e-7, verbose=True)\n",
    "print(f'Training loss: {loss_lr}')\n",
    "\n",
    "acc = eval_model(y_train, tx_train, w_lr, thresh=0.5)\n",
    "print(f'Training accuracy: {acc}')\n",
    "\n",
    "acc_lr = eval_model(y_eval, tx_eval, w_lr, thresh=0.5)\n",
    "print(f'Testing accuracy: {acc_lr}')"
   ]
  },
  {
   "cell_type": "markdown",
   "metadata": {},
   "source": [
    "#### Compare model performance "
   ]
  },
  {
   "cell_type": "code",
   "execution_count": 204,
   "metadata": {},
   "outputs": [
    {
     "data": {
      "image/png": "[encoded data removed]",
      "text/plain": [
       "<Figure size 720x288 with 1 Axes>"
      ]
     },
     "metadata": {},
     "output_type": "display_data"
    }
   ],
   "source": [
    "accuracy = [acc_baseline, acc_ls, acc_ridge, acc_lr]\n",
    "labels = ['$\\mathtt{Base}$', '$\\mathtt{LeastSquares}$', '$\\mathtt{Ridge}$',  \n",
    "          '$\\mathtt{Logistic}$']\n",
    "\n",
    "fig = model_comparison_visualization(accuracy, labels, acc_baseline)\n",
    "fig.savefig('../report/model_comparison_basic.pdf', bbox_inches='tight')"
   ]
  },
  {
   "cell_type": "markdown",
   "metadata": {},
   "source": [
    "# 7 Final training and test set prediction "
   ]
  },
  {
   "cell_type": "code",
   "execution_count": 216,
   "metadata": {},
   "outputs": [],
   "source": [
    "# Load train data\n",
    "y_train, x_train, _ = load_csv_data(path.join(DATA_PATH, 'train.csv'))\n",
    "\n",
    "# Apply feature transform\n",
    "fx_train = feature_transform_polybasis(x_train)\n",
    "\n",
    "# Standardise to mean and s.d.\n",
    "fx_train, mu_train, sigma_train = standardise(fx_train)\n",
    "\n",
    "# Add offset term\n",
    "tx_train = np.c_[np.ones(len(y_train)), fx_train]"
   ]
  },
  {
   "cell_type": "code",
   "execution_count": 219,
   "metadata": {},
   "outputs": [
    {
     "name": "stdout",
     "output_type": "stream",
     "text": [
      "Gradient Descent (0/49999): loss=4.937179834027508, gradient=1.1057032757809109\n",
      "Gradient Descent (100/49999): loss=3.744651344356511, gradient=1.074530152458014\n",
      "Gradient Descent (200/49999): loss=2.6625209561537275, gradient=0.9930436773298132\n",
      "Gradient Descent (300/49999): loss=1.8391322601491726, gradient=0.8008420436238565\n",
      "Gradient Descent (400/49999): loss=1.3759000604068077, gradient=0.5674103365634904\n",
      "Gradient Descent (500/49999): loss=1.1298178639043017, gradient=0.4425791156981762\n",
      "Gradient Descent (600/49999): loss=0.9614391836172442, gradient=0.3823393411947238\n",
      "Gradient Descent (700/49999): loss=0.8341217604025565, gradient=0.3316461954351393\n",
      "Gradient Descent (800/49999): loss=0.7400726067579017, gradient=0.28212048731935746\n",
      "Gradient Descent (900/49999): loss=0.6731399833234895, gradient=0.23613549073400175\n",
      "Gradient Descent (1000/49999): loss=0.6266968086927045, gradient=0.19592817035617188\n",
      "Gradient Descent (1100/49999): loss=0.5948062093381714, gradient=0.16230632570947698\n",
      "Gradient Descent (1200/49999): loss=0.572859450736896, gradient=0.13494946627332677\n",
      "Gradient Descent (1300/49999): loss=0.5575957335788568, gradient=0.11295980209848905\n",
      "Gradient Descent (1400/49999): loss=0.5468161640564956, gradient=0.09535897386082616\n",
      "Gradient Descent (1500/49999): loss=0.5390651330430358, gradient=0.08126369829867003\n",
      "Gradient Descent (1600/49999): loss=0.5333821067594365, gradient=0.06994719249471709\n",
      "Gradient Descent (1700/49999): loss=0.5291297534196053, gradient=0.06082843634665185\n",
      "Gradient Descent (1800/49999): loss=0.5258814141305459, gradient=0.0534482815223064\n",
      "Gradient Descent (1900/49999): loss=0.5233483187555711, gradient=0.047445935024168516\n",
      "Gradient Descent (2000/49999): loss=0.5213326251704915, gradient=0.042538350472412646\n",
      "Gradient Descent (2100/49999): loss=0.5196970240405254, gradient=0.038503474337845504\n",
      "Gradient Descent (2200/49999): loss=0.5183449330162619, gradient=0.03516693652808362\n",
      "Gradient Descent (2300/49999): loss=0.5172074865713217, gradient=0.032391514458377284\n",
      "Gradient Descent (2400/49999): loss=0.5162349129796971, gradient=0.030068859850014982\n",
      "Gradient Descent (2500/49999): loss=0.5153907613212865, gradient=0.028113072707192505\n",
      "Gradient Descent (2600/49999): loss=0.5146479935125154, gradient=0.02645574876006599\n",
      "Gradient Descent (2700/49999): loss=0.513986307554489, gradient=0.025042174542263863\n",
      "Gradient Descent (2800/49999): loss=0.5133902817834183, gradient=0.023828402239567024\n",
      "Gradient Descent (2900/49999): loss=0.5128480725641686, gradient=0.022778993428690462\n",
      "Gradient Descent (3000/49999): loss=0.512350489316751, gradient=0.02186527003306795\n",
      "Gradient Descent (3100/49999): loss=0.5118903297938948, gradient=0.021063950421823355\n",
      "Gradient Descent (3200/49999): loss=0.5114618969474343, gradient=0.020356079192676433\n",
      "Gradient Descent (3300/49999): loss=0.5110606439581318, gradient=0.01972618227936925\n",
      "Gradient Descent (3400/49999): loss=0.5106829107430987, gradient=0.019161596194441317\n",
      "Gradient Descent (3500/49999): loss=0.5103257264706417, gradient=0.018651932875862403\n",
      "Gradient Descent (3600/49999): loss=0.5099866602047444, gradient=0.018188650912957946\n",
      "Gradient Descent (3700/49999): loss=0.5096637069948396, gradient=0.017764710786578982\n",
      "Gradient Descent (3800/49999): loss=0.5093552003164277, gradient=0.017374296847116517\n",
      "Gradient Descent (3900/49999): loss=0.509059744275549, gradient=0.0170125925647695\n",
      "Gradient Descent (4000/49999): loss=0.5087761607596745, gradient=0.0166755984721463\n",
      "Gradient Descent (4100/49999): loss=0.5085034479790309, gradient=0.016359984429564503\n",
      "Gradient Descent (4200/49999): loss=0.5082407477505342, gradient=0.016062969554777016\n",
      "Gradient Descent (4300/49999): loss=0.5079873195364811, gradient=0.015782224496599682\n",
      "Gradient Descent (4400/49999): loss=0.5077425197341946, gradient=0.015515791785980499\n",
      "Gradient Descent (4500/49999): loss=0.5075057850708543, gradient=0.015262020833933656\n",
      "Gradient Descent (4600/49999): loss=0.5072766192247805, gradient=0.015019514811954965\n",
      "Gradient Descent (4700/49999): loss=0.5070545819951011, gradient=0.014787087183537526\n",
      "Gradient Descent (4800/49999): loss=0.506839280493625, gradient=0.014563726083101173\n",
      "Gradient Descent (4900/49999): loss=0.5066303619484692, gradient=0.014348565082617216\n",
      "Gradient Descent (5000/49999): loss=0.5064275077977075, gradient=0.01414085916332717\n",
      "Gradient Descent (5100/49999): loss=0.5062304288197225, gradient=0.013939964933526795\n",
      "Gradient Descent (5200/49999): loss=0.5060388610999553, gradient=0.013745324313970912\n",
      "Gradient Descent (5300/49999): loss=0.5058525626750501, gradient=0.013556451058461849\n",
      "Gradient Descent (5400/49999): loss=0.5056713107276972, gradient=0.013372919595342665\n",
      "Gradient Descent (5500/49999): loss=0.5054948992308614, gradient=0.013194355771317853\n",
      "Gradient Descent (5600/49999): loss=0.5053231369601031, gradient=0.013020429156599674\n",
      "Gradient Descent (5700/49999): loss=0.5051558458085442, gradient=0.012850846633310759\n",
      "Gradient Descent (5800/49999): loss=0.504992859351617, gradient=0.012685347040167624\n",
      "Gradient Descent (5900/49999): loss=0.5048340216187609, gradient=0.01252369668798505\n",
      "Gradient Descent (6000/49999): loss=0.5046791860372528, gradient=0.012365685594300777\n",
      "Gradient Descent (6100/49999): loss=0.5045282145197709, gradient=0.01221112431289599\n",
      "Gradient Descent (6200/49999): loss=0.5043809766724691, gradient=0.012059841256366206\n",
      "Gradient Descent (6300/49999): loss=0.5042373491044948, gradient=0.011911680428142904\n",
      "Gradient Descent (6400/49999): loss=0.5040972148232523, gradient=0.01176649949525313\n",
      "Gradient Descent (6500/49999): loss=0.5039604627024393, gradient=0.011624168145263273\n",
      "Gradient Descent (6600/49999): loss=0.5038269870121094, gradient=0.011484566680793052\n",
      "Gradient Descent (6700/49999): loss=0.5036966870018128, gradient=0.01134758481311937\n",
      "Gradient Descent (6800/49999): loss=0.503569466529348, gradient=0.011213120623052733\n",
      "Gradient Descent (6900/49999): loss=0.503445233728869, gradient=0.011081079662732793\n",
      "Gradient Descent (7000/49999): loss=0.5033239007130913, gradient=0.010951374176475338\n",
      "Gradient Descent (7100/49999): loss=0.5032053833051516, gradient=0.010823922422490282\n",
      "Gradient Descent (7200/49999): loss=0.5030896007963658, gradient=0.01069864808032471\n",
      "Gradient Descent (7300/49999): loss=0.502976475726682, gradient=0.010575479731386265\n",
      "Gradient Descent (7400/49999): loss=0.5028659336851067, gradient=0.010454350401965748\n",
      "Gradient Descent (7500/49999): loss=0.5027579031277583, gradient=0.010335197159884187\n",
      "Gradient Descent (7600/49999): loss=0.5026523152115457, gradient=0.010217960757301728\n",
      "Gradient Descent (7700/49999): loss=0.502549103641728, gradient=0.010102585313396936\n",
      "Gradient Descent (7800/49999): loss=0.5024482045318615, gradient=0.009989018031598084\n",
      "Gradient Descent (7900/49999): loss=0.5023495562748199, gradient=0.009877208946857846\n",
      "Gradient Descent (8000/49999): loss=0.5022530994237542, gradient=0.00976711069913816\n",
      "Gradient Descent (8100/49999): loss=0.5021587765819905, gradient=0.009658678329836407\n",
      "Gradient Descent (8200/49999): loss=0.5020665323009904, gradient=0.00955186909835705\n",
      "Gradient Descent (8300/49999): loss=0.5019763129856064, gradient=0.00944664231642944\n",
      "Gradient Descent (8400/49999): loss=0.5018880668059434, gradient=0.009342959198106925\n",
      "Gradient Descent (8500/49999): loss=0.5018017436152279, gradient=0.009240782723663896\n",
      "Gradient Descent (8600/49999): loss=0.5017172948731445, gradient=0.009140077515846024\n",
      "Gradient Descent (8700/49999): loss=0.5016346735741621, gradient=0.009040809727131135\n",
      "Gradient Descent (8800/49999): loss=0.5015538341804218, gradient=0.008942946936830223\n",
      "Gradient Descent (8900/49999): loss=0.5014747325588028, gradient=0.008846458057004663\n",
      "Gradient Descent (9000/49999): loss=0.5013973259218232, gradient=0.00875131324630167\n",
      "Gradient Descent (9100/49999): loss=0.5013215727720665, gradient=0.008657483830917441\n",
      "Gradient Descent (9200/49999): loss=0.5012474328498525, gradient=0.008564942231990376\n",
      "Gradient Descent (9300/49999): loss=0.5011748670839032, gradient=0.008473661898806887\n",
      "Gradient Descent (9400/49999): loss=0.5011038375447737, gradient=0.008383617247271692\n",
      "Gradient Descent (9500/49999): loss=0.5010343074008416, gradient=0.0082947836031547\n",
      "Gradient Descent (9600/49999): loss=0.5009662408766673, gradient=0.008207137149679397\n"
     ]
    },
    {
     "name": "stdout",
     "output_type": "stream",
     "text": [
      "Gradient Descent (9700/49999): loss=0.5008996032135524, gradient=0.008120654879063261\n",
      "Gradient Descent (9800/49999): loss=0.5008343606321438, gradient=0.008035314547661298\n",
      "Gradient Descent (9900/49999): loss=0.5007704802969359, gradient=0.00795109463439915\n",
      "Gradient Descent (10000/49999): loss=0.5007079302825467, gradient=0.007867974302213395\n",
      "Gradient Descent (10100/49999): loss=0.500646679541642, gradient=0.00778593336224445\n",
      "Gradient Descent (10200/49999): loss=0.500586697874406, gradient=0.0077049522405518685\n",
      "Gradient Descent (10300/49999): loss=0.5005279558994524, gradient=0.007625011947143799\n",
      "Gradient Descent (10400/49999): loss=0.5004704250260839, gradient=0.007546094047131525\n",
      "Gradient Descent (10500/49999): loss=0.5004140774278208, gradient=0.007468180633837798\n",
      "Gradient Descent (10600/49999): loss=0.500358886017114, gradient=0.007391254303702702\n",
      "Gradient Descent (10700/49999): loss=0.5003048244211744, gradient=0.0073152981328452275\n",
      "Gradient Descent (10800/49999): loss=0.5002518669588507, gradient=0.007240295655150957\n",
      "Gradient Descent (10900/49999): loss=0.5001999886184948, gradient=0.00716623084176771\n",
      "Gradient Descent (11000/49999): loss=0.5001491650367571, gradient=0.007093088081901179\n",
      "Gradient Descent (11100/49999): loss=0.5000993724782595, gradient=0.0070208521648117824\n",
      "Gradient Descent (11200/49999): loss=0.5000505878160961, gradient=0.006949508262922363\n",
      "Gradient Descent (11300/49999): loss=0.5000027885131194, gradient=0.006879041915953863\n",
      "Gradient Descent (11400/49999): loss=0.49995595260396475, gradient=0.006809439016013033\n",
      "Gradient Descent (11500/49999): loss=0.49991005867777705, gradient=0.006740685793562483\n",
      "Gradient Descent (11600/49999): loss=0.499865085861605, gradient=0.006672768804209019\n",
      "Gradient Descent (11700/49999): loss=0.49982101380442084, gradient=0.006605674916251547\n",
      "Gradient Descent (11800/49999): loss=0.4997778226617452, gradient=0.006539391298934203\n",
      "Gradient Descent (11900/49999): loss=0.49973549308083676, gradient=0.006473905411355162\n",
      "Gradient Descent (12000/49999): loss=0.49969400618642396, gradient=0.006409204991985154\n",
      "Gradient Descent (12100/49999): loss=0.4996533435669544, gradient=0.006345278048753446\n",
      "Gradient Descent (12200/49999): loss=0.49961348726133165, gradient=0.00628211284966234\n",
      "Gradient Descent (12300/49999): loss=0.4995744197461219, gradient=0.0062196979138942786\n",
      "Gradient Descent (12400/49999): loss=0.49953612392320657, gradient=0.006158022003378413\n",
      "Gradient Descent (12500/49999): loss=0.49949858310786105, gradient=0.00609707411478596\n",
      "Gradient Descent (12600/49999): loss=0.49946178101724004, gradient=0.0060368434719261215\n",
      "Gradient Descent (12700/49999): loss=0.4994257017592524, gradient=0.005977319518516331\n",
      "Gradient Descent (12800/49999): loss=0.4993903298218085, gradient=0.0059184919113027335\n",
      "Gradient Descent (12900/49999): loss=0.49935565006242316, gradient=0.005860350513508403\n",
      "Gradient Descent (13000/49999): loss=0.49932164769815973, gradient=0.005802885388588635\n",
      "Gradient Descent (13100/49999): loss=0.4992883082959026, gradient=0.005746086794274144\n",
      "Gradient Descent (13200/49999): loss=0.4992556177629419, gradient=0.0056899451768842365\n",
      "Gradient Descent (13300/49999): loss=0.4992235623378593, gradient=0.005634451165893585\n",
      "Gradient Descent (13400/49999): loss=0.4991921285817028, gradient=0.0055795955687372055\n",
      "Gradient Descent (13500/49999): loss=0.4991613033694394, gradient=0.0055253693658394\n",
      "Gradient Descent (13600/49999): loss=0.4991310738816729, gradient=0.0054717637058535875\n",
      "Gradient Descent (13700/49999): loss=0.4991014275966192, gradient=0.0054187699011005366\n",
      "Gradient Descent (13800/49999): loss=0.49907235228232805, gradient=0.005366379423193766\n",
      "Gradient Descent (13900/49999): loss=0.4990438359891407, gradient=0.005314583898841338\n",
      "Gradient Descent (14000/49999): loss=0.4990158670423772, gradient=0.005263375105814263\n",
      "Gradient Descent (14100/49999): loss=0.49898843403524223, gradient=0.00521274496907223\n",
      "Gradient Descent (14200/49999): loss=0.4989615258219438, gradient=0.005162685557038107\n",
      "Gradient Descent (14300/49999): loss=0.498935131511016, gradient=0.0051131890780131365\n",
      "Gradient Descent (14400/49999): loss=0.49890924045883783, gradient=0.005064247876725461\n",
      "Gradient Descent (14500/49999): loss=0.49888384226334204, gradient=0.005015854431004838\n",
      "Gradient Descent (14600/49999): loss=0.49885892675790827, gradient=0.0049680013485771165\n",
      "Gradient Descent (14700/49999): loss=0.49883448400543096, gradient=0.004920681363972398\n",
      "Gradient Descent (14800/49999): loss=0.4988105042925601, gradient=0.004873887335541041\n",
      "Gradient Descent (14900/49999): loss=0.4987869781241052, gradient=0.004827612242572262\n",
      "Gradient Descent (15000/49999): loss=0.49876389621759887, gradient=0.004781849182510354\n",
      "Gradient Descent (15100/49999): loss=0.4987412494980155, gradient=0.004736591368263664\n",
      "Gradient Descent (15200/49999): loss=0.4987190290926367, gradient=0.004691832125602081\n",
      "Gradient Descent (15300/49999): loss=0.49869722632606245, gradient=0.004647564890638842\n",
      "Gradient Descent (15400/49999): loss=0.4986758327153598, gradient=0.004603783207392697\n",
      "Gradient Descent (15500/49999): loss=0.4986548399653477, gradient=0.0045604807254269256\n",
      "Gradient Descent (15600/49999): loss=0.4986342399640112, gradient=0.004517651197561618\n",
      "Gradient Descent (15700/49999): loss=0.49861402477804084, gradient=0.00447528847765604\n",
      "Gradient Descent (15800/49999): loss=0.4985941866484963, gradient=0.004433386518458078\n",
      "Gradient Descent (15900/49999): loss=0.49857471798658654, gradient=0.004391939369517813\n",
      "Gradient Descent (16000/49999): loss=0.4985556113695648, gradient=0.004350941175162537\n",
      "Gradient Descent (16100/49999): loss=0.4985368595367336, gradient=0.004310386172530741\n",
      "Gradient Descent (16200/49999): loss=0.49851845538555994, gradient=0.004270268689662371\n",
      "Gradient Descent (16300/49999): loss=0.4985003919678912, gradient=0.0042305831436435124\n",
      "Gradient Descent (16400/49999): loss=0.4984826624862742, gradient=0.0041913240388028895\n",
      "Gradient Descent (16500/49999): loss=0.49846526029037097, gradient=0.004152485964958421\n",
      "Gradient Descent (16600/49999): loss=0.4984481788734711, gradient=0.004114063595711801\n",
      "Gradient Descent (16700/49999): loss=0.4984314118690921, gradient=0.004076051686789227\n",
      "Gradient Descent (16800/49999): loss=0.49841495304767525, gradient=0.004038445074426608\n",
      "Gradient Descent (16900/49999): loss=0.4983987963133619, gradient=0.004001238673797494\n",
      "Gradient Descent (17000/49999): loss=0.49838293570085773, gradient=0.003964427477482294\n",
      "Gradient Descent (17100/49999): loss=0.49836736537237647, gradient=0.00392800655397714\n",
      "Gradient Descent (17200/49999): loss=0.49835207961466443, gradient=0.003891971046241056\n",
      "Gradient Descent (17300/49999): loss=0.4983370728361005, gradient=0.003856316170280059\n",
      "Gradient Descent (17400/49999): loss=0.49832233956387134, gradient=0.0038210372137669393\n",
      "Gradient Descent (17500/49999): loss=0.49830787444121855, gradient=0.003786129534695379\n",
      "Gradient Descent (17600/49999): loss=0.4982936722247571, gradient=0.0037515885600673993\n",
      "Gradient Descent (17700/49999): loss=0.4982797277818617, gradient=0.003717409784612855\n",
      "Gradient Descent (17800/49999): loss=0.4982660360881183, gradient=0.0036835887695400417\n",
      "Gradient Descent (17900/49999): loss=0.49825259222484225, gradient=0.003650121141316272\n",
      "Gradient Descent (18000/49999): loss=0.4982393913766576, gradient=0.0036170025904776006\n",
      "Gradient Descent (18100/49999): loss=0.4982264288291386, gradient=0.0035842288704665912\n",
      "Gradient Descent (18200/49999): loss=0.4982136999665075, gradient=0.003551795796497361\n",
      "Gradient Descent (18300/49999): loss=0.49820120026939413, gradient=0.0035196992444469885\n",
      "Gradient Descent (18400/49999): loss=0.4981889253126479, gradient=0.0034879351497725006\n",
      "Gradient Descent (18500/49999): loss=0.4981768707632062, gradient=0.003456499506452602\n",
      "Gradient Descent (18600/49999): loss=0.49816503237801496, gradient=0.003425388365953464\n",
      "Gradient Descent (18700/49999): loss=0.49815340600199964, gradient=0.0033945978362177696\n",
      "Gradient Descent (18800/49999): loss=0.49814198756608813, gradient=0.0033641240806764456\n",
      "Gradient Descent (18900/49999): loss=0.49813077308528175, gradient=0.003333963317282207\n",
      "Gradient Descent (19000/49999): loss=0.49811975865677227, gradient=0.003304111817564515\n"
     ]
    },
    {
     "name": "stdout",
     "output_type": "stream",
     "text": [
      "Gradient Descent (19100/49999): loss=0.498108940458106, gradient=0.0032745659057052093\n",
      "Gradient Descent (19200/49999): loss=0.4980983147453938, gradient=0.0032453219576341254\n",
      "Gradient Descent (19300/49999): loss=0.4980878778515619, gradient=0.00321637640014441\n",
      "Gradient Descent (19400/49999): loss=0.4980776261846476, gradient=0.003187725710026665\n",
      "Loss convergence:Terminate because loss did not change by more than threshold.\n",
      "Training loss: 0.4980685551438945\n",
      "Training accuracy: 0.726596\n"
     ]
    }
   ],
   "source": [
    "max_iters = 50000\n",
    "w_initial = np.ones(tx.shape[1])\n",
    "\n",
    "# Run gradient descent \n",
    "w, loss = logistic_regression_mean(y, tx, w_initial, max_iters, gamma_opt_lr, \n",
    "                                    threshold=1e-7, verbose=True)\n",
    "print(f'Training loss: {loss}')\n",
    "\n",
    "acc = eval_model(y, tx, w, thresh=0.5)\n",
    "print(f'Training accuracy: {acc}')"
   ]
  },
  {
   "cell_type": "code",
   "execution_count": 220,
   "metadata": {},
   "outputs": [],
   "source": [
    "# Load test data\n",
    "y_test, x_test, ids_test = load_csv_data(path.join(DATA_PATH, 'test.csv'))\n",
    "fx_test = feature_transform(x_test)\n",
    "\n",
    "# Standardise to mean and s.d. of training data\n",
    "fx_test = standardise_to_fixed(fx_test, mu_x, sigma_x)\n",
    "\n",
    "# Add offset term\n",
    "tx_test = np.c_[np.ones(fx_test.shape[0]), fx_test]"
   ]
  },
  {
   "cell_type": "code",
   "execution_count": 221,
   "metadata": {},
   "outputs": [],
   "source": [
    "# Get predictions on test set\n",
    "y_pred = predict_labels(w, tx_test, thresh=0.5)\n",
    "create_csv_submission(ids_test, y_pred, '../data/final_submission.csv')"
   ]
  }
 ],
 "metadata": {
  "kernelspec": {
   "display_name": "Python 3",
   "language": "python",
   "name": "python3"
  },
  "language_info": {
   "codemirror_mode": {
    "name": "ipython",
    "version": 3
   },
   "file_extension": ".py",
   "mimetype": "text/x-python",
   "name": "python",
   "nbconvert_exporter": "python",
   "pygments_lexer": "ipython3",
   "version": "3.6.8"
  }
 },
 "nbformat": 4,
 "nbformat_minor": 4
}
