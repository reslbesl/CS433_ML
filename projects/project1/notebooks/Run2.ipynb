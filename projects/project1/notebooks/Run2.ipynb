{
 "cells": [
  {
   "cell_type": "code",
   "execution_count": 10,
   "metadata": {},
   "outputs": [],
   "source": [
    "%matplotlib inline\n",
    "%load_ext autoreload\n",
    "%autoreload 2"
   ]
  },
  {
   "cell_type": "code",
   "execution_count": 9,
   "metadata": {},
   "outputs": [
    {
     "name": "stdout",
     "output_type": "stream",
     "text": [
      "C:\\Users\\Mattia\\anaconda3;C:\\Users\\Mattia\\anaconda3\\Library\\mingw-w64\\bin;C:\\Users\\Mattia\\anaconda3\\Library\\usr\\bin;C:\\Users\\Mattia\\anaconda3\\Library\\bin;C:\\Users\\Mattia\\anaconda3\\Scripts;C:\\Users\\Mattia\\anaconda3\\bin;C:\\Users\\Mattia\\anaconda3\\condabin;C:\\Windows\\system32;C:\\Windows;C:\\Windows\\System32\\Wbem;C:\\Windows\\System32\\WindowsPowerShell\\v1.0;C:\\Windows\\System32\\OpenSSH;C:\\Program Files\\MATLAB\\R2020a\\bin;C:\\Program Files\\Git\\cmd;C:\\Program Files\\Git\\mingw64\\bin;C:\\Program Files\\Git\\usr\\bin;C:\\Users\\Mattia\\AppData\\Local\\Microsoft\\WindowsApps;C:\\Users\\Mattia\\AppData\\Local\\GitHubDesktop\\bin;C:\\Users\\Mattia\\AppData\\Local\\Programs\\MiKTeX 2.9\\miktex\\bin\\x64;\\Users\\Mattia\\AppData\\Local\\Programs\\MiKTeX 2.9\\miktex\\bin\\x64\n"
     ]
    }
   ],
   "source": [
    "import numpy as np\n",
    "import pandas as pd\n",
    "\n",
    "import sys\n",
    "sys.path.append('../scripts/')\n",
    "\n",
    "import os\n",
    "os.environ[\"PATH\"] += os.pathsep + r'\\Users\\Mattia\\AppData\\Local\\Programs\\MiKTeX 2.9\\miktex\\bin\\x64'\n",
    "print(os.getenv(\"PATH\"))\n",
    "\n",
    "from proj1_helpers import *\n",
    "from implementations import *\n",
    "from implementation_variants import *\n",
    "from plots import *\n",
    "\n",
    "SEED = 42\n",
    "DATA_PATH = '../data/'"
   ]
  },
  {
   "cell_type": "markdown",
   "metadata": {},
   "source": [
    "# 0 Load data"
   ]
  },
  {
   "cell_type": "code",
   "execution_count": 153,
   "metadata": {},
   "outputs": [],
   "source": [
    "df_train = pd.read_csv('../data/train.csv')\n",
    "df_train = df_train.set_index('Id')\n",
    "df_train_x = df_train[list(filter(lambda c: c != 'Prediction', list(df_train)))]\n",
    "\n",
    "FEATURE_NAMES = list(df_train_x)\n",
    "FEATURE_NAMES=FEATURE_NAMES+[str(i) for i in range(180-len(FEATURE_NAMES))]"
   ]
  },
  {
   "cell_type": "code",
   "execution_count": 154,
   "metadata": {},
   "outputs": [
    {
     "name": "stdout",
     "output_type": "stream",
     "text": [
      "(250000, 180)\n",
      " # train samples: 175000\n",
      " # eval samples: 75000\n"
     ]
    }
   ],
   "source": [
    " # Load train data\n",
    "y, x, ids = load_csv_data(path.join(DATA_PATH, 'train.csv'))\n",
    "\n",
    "x=np.hstack((x,x**2,x**3,x**4,x**5,x**6))\n",
    "print(x.shape)\n",
    "\n",
    "# Split into train and evaluation set\n",
    "(x_train, y_train), (x_eval, y_eval) = train_eval_split(y, x, split_ratio=.7, seed=1) #alternatives: CV or adding validation and testing\n",
    "\n",
    "print(f' # train samples: {len(y_train)}\\n # eval samples: {len(y_eval)}')\n",
    "\n",
    "num_dim = x_train.shape[1]"
   ]
  },
  {
   "cell_type": "code",
   "execution_count": 144,
   "metadata": {},
   "outputs": [],
   "source": [
    "def generate_mask(features_to_remove):\n",
    "    feat_idx = [FEATURE_NAMES.index(f) for f in features_to_remove]\n",
    "    mask = np.ones(len(FEATURE_NAMES)).astype(bool)\n",
    "    mask[feat_idx] = False\n",
    "    \n",
    "    return mask"
   ]
  },
  {
   "cell_type": "code",
   "execution_count": 155,
   "metadata": {},
   "outputs": [],
   "source": [
    "LEAST_INFO = ['DER_mass_vis', 'DER_deltar_tau_lep','DER_pt_tot','PRI_tau_eta','PRI_tau_phi',\n",
    "              'PRI_lep_pt','PRI_lep_eta','PRI_lep_phi','PRI_met','PRI_met_phi']\n",
    "\n",
    "JET_NOT_DEFINED = ['DER_lep_eta_centrality', 'DER_prodeta_jet_jet', 'DER_mass_jet_jet', 'DER_deltaeta_jet_jet', \n",
    "                      'PRI_jet_subleading_eta', 'PRI_jet_subleading_phi', 'PRI_jet_subleading_pt']\n",
    "\n",
    "DER_FEATURES = list(filter(lambda c: 'DER' in c, list(FEATURE_NAMES)))\n",
    "\n",
    "feature_masks = [generate_mask([]), generate_mask(LEAST_INFO)]\n",
    "\n",
    "labels = ['Raw', 'MostInfo', 'ImputeJet', 'DeCorrelate']"
   ]
  },
  {
   "cell_type": "code",
   "execution_count": 146,
   "metadata": {},
   "outputs": [],
   "source": [
    "def compare_features_visualisation(acc_train, acc_test, labels, model):\n",
    "    arr_train = acc_train.flatten()\n",
    "    arr_test = acc_test.flatten()\n",
    "\n",
    "    arr_features = np.concatenate([np.repeat(labels, acc_train.shape[1]), np.repeat(labels, acc_train.shape[1])])\n",
    "    arr_labels = np.concatenate([np.repeat('Train', len(arr_train)), np.repeat('Test', len(arr_test))])\n",
    "    arr_acc = np.concatenate([arr_train, arr_test])\n",
    "\n",
    "    plt_data = pd.DataFrame({'Feature Set':arr_features, 'Accuracy':arr_acc, 'Set':arr_labels})\n",
    "\n",
    "    fig, ax = plt.subplots(figsize=(8,3.5))\n",
    "    ax = sns.boxplot(x='Feature Set', y='Accuracy', hue='Set', data=plt_data)\n",
    "    ax.set(ylabel='$\\mathtt{Accuracy}$', title=f'{model}');\n",
    "    \n",
    "    return fig"
   ]
  },
  {
   "cell_type": "markdown",
   "metadata": {},
   "source": [
    "# 1 Least-Squares"
   ]
  },
  {
   "cell_type": "code",
   "execution_count": 147,
   "metadata": {},
   "outputs": [],
   "source": [
    "def run_least_squares(y_train, x_train, y_eval, x_eval, feature_mask):\n",
    "    # Remove unwanted features\n",
    "    x_train = x_train[:, feature_mask]\n",
    "    x_eval = x_eval[:, feature_mask]\n",
    "    \n",
    "    # Standardise to training mean and s.d.\n",
    "    x_train, mean_x, std_x = standardise(x_train)\n",
    "    x_eval = standardise_to_fixed(x_eval, mean_x, std_x)\n",
    "    \n",
    "    # Run training\n",
    "    w, loss = least_squares(y_train, x_train)\n",
    "#     print(f'Training loss: {loss}')\n",
    "\n",
    "    # Get training accuracy\n",
    "    acc_tr  = eval_model(y_train, x_train, w, thresh=0)\n",
    "#     print(f'Training accuracy: {acc_tr}')\n",
    "\n",
    "    # Get accuracy on evaluation set\n",
    "    acc_te = eval_model(y_eval, x_eval, w, thresh=0)\n",
    "    print(f'Test Accuracy: {acc_te}')\n",
    "    \n",
    "    return w, loss, acc_tr, acc_te"
   ]
  },
  {
   "cell_type": "code",
   "execution_count": 156,
   "metadata": {},
   "outputs": [
    {
     "name": "stdout",
     "output_type": "stream",
     "text": [
      "Feature Set:  Raw\n",
      "Test Accuracy: 0.7528457142857143\n",
      "Test Accuracy: 0.7498742857142857\n",
      "Test Accuracy: 0.75184\n",
      "Test Accuracy: 0.75056\n",
      "Feature Set:  MostInfo\n",
      "Test Accuracy: 0.7528914285714285\n",
      "Test Accuracy: 0.7499657142857142\n",
      "Test Accuracy: 0.7531885714285714\n",
      "Test Accuracy: 0.7516342857142857\n",
      "Feature Set: Impute\n",
      "Test Accuracy: 0.7530971428571429\n",
      "Test Accuracy: 0.7447314285714286\n",
      "Test Accuracy: 0.7535314285714285\n",
      "Test Accuracy: 0.7479771428571429\n",
      "Feature Set: Indicator\n",
      "Test Accuracy: 0.7515657142857143\n",
      "Test Accuracy: 0.7496\n",
      "Test Accuracy: 0.7529371428571429\n",
      "Test Accuracy: 0.7508114285714286\n"
     ]
    },
    {
     "data": {
      "image/png": "[encoded data removed]",
      "text/plain": [
       "<Figure size 576x252 with 1 Axes>"
      ]
     },
     "metadata": {},
     "output_type": "display_data"
    }
   ],
   "source": [
    "k_fold = 4\n",
    "\n",
    "# Hyperparameter optimisation\n",
    "acc_train = np.empty((len(feature_masks)+2, k_fold), float)\n",
    "acc_test = np.empty((len(feature_masks)+2, k_fold), float)\n",
    "    \n",
    "for i, features in enumerate(feature_masks):\n",
    "    print('Feature Set: ', labels[i])\n",
    "    k = 0\n",
    "    for train_split, test_split in k_fold_iter(y_train, x_train, k_fold):\n",
    "            # Run evaluation\n",
    "            w, loss, acc_tr, acc_te = run_least_squares(train_split[1], train_split[0], \n",
    "                                                        test_split[1], test_split[0], features)\n",
    "            acc_train[i, k] = acc_tr\n",
    "            acc_test[i, k] = acc_te\n",
    "            \n",
    "            k+=1\n",
    "            \n",
    "print('Feature Set: Impute')\n",
    "col_index = [FEATURE_NAMES.index(i) for i in JET_NOT_DEFINED]\n",
    "x_train_imp = x_train.copy()\n",
    "x_train_imp[x_train_imp == -999] = -100\n",
    "\n",
    "x_eval_imp = x_eval.copy()\n",
    "x_eval_imp[x_eval_imp == -999] = -100\n",
    "\n",
    "features = generate_mask([])\n",
    "\n",
    "k = 0\n",
    "for train_split, test_split in k_fold_iter(y_train, x_train_imp, k_fold):\n",
    "        # Run evaluation\n",
    "        w, loss, acc_tr, acc_te = run_least_squares(train_split[1], train_split[0], \n",
    "                                                    test_split[1], test_split[0], features)\n",
    "        acc_train[-2, k] = acc_tr\n",
    "        acc_test[-2, k] = acc_te\n",
    "\n",
    "        k+=1\n",
    "        \n",
    "print('Feature Set: Indicator')\n",
    "JET_NUM_IDX = FEATURE_NAMES.index('PRI_jet_num')\n",
    "\n",
    "x_ind = (x_train[:, JET_NUM_IDX] > 1).astype(int)\n",
    "# x_train_imp = np.delete(x_train, JET_NUM_IDX, axis=1)\n",
    "x_train_imp = np.concatenate([x_train, np.expand_dims(x_ind, axis=1)], axis=1)\n",
    "\n",
    "features = generate_mask(['DER_deltaeta_jet_jet', 'DER_prodeta_jet_jet'])\n",
    "features = np.concatenate([features, [True]])\n",
    "\n",
    "k = 0\n",
    "for train_split, test_split in k_fold_iter(y_train, x_train_imp, k_fold):\n",
    "        # Run evaluation\n",
    "        w, loss, acc_tr, acc_te = run_least_squares(train_split[1], train_split[0], \n",
    "                                                    test_split[1], test_split[0], features)\n",
    "        acc_train[-1, k] = acc_tr\n",
    "        acc_test[-1, k] = acc_te\n",
    "\n",
    "        k+=1\n",
    "            \n",
    "fig = compare_features_visualisation(acc_train, acc_test, labels, '$\\mathtt{LeastSquares}$')\n",
    "fig.savefig('../report/compare_features_ls.pdf', bbox_inches='tight')"
   ]
  },
  {
   "cell_type": "markdown",
   "metadata": {},
   "source": [
    "# 2 Ridge Regresion"
   ]
  },
  {
   "cell_type": "code",
   "execution_count": 157,
   "metadata": {},
   "outputs": [],
   "source": [
    "def run_ridge(y_train, x_train, y_eval, x_eval, feature_mask):\n",
    "    # Remove unwanted features\n",
    "    x_train = x_train[:, feature_mask]\n",
    "    x_eval = x_eval[:, feature_mask]\n",
    "    \n",
    "    # Standardise to training mean and s.d.\n",
    "    x_train, mean_x, std_x = standardise(x_train)\n",
    "    x_eval = standardise_to_fixed(x_eval, mean_x, std_x)\n",
    "    \n",
    "    lambdas = np.logspace(-8, -1, 10)\n",
    "    k_fold = 4\n",
    "\n",
    "    # Hyperparameter optimisation\n",
    "    acc_train = np.empty((len(lambdas), k_fold), float)\n",
    "    acc_test = np.empty((len(lambdas), k_fold), float)\n",
    "\n",
    "    for l, lambda_ in enumerate(lambdas):\n",
    "        k = 0\n",
    "        for train_split, test_split in k_fold_iter(y_train, x_train, k_fold):\n",
    "            # Train\n",
    "            w, loss = ridge_regression(train_split[1], train_split[0], lambda_)\n",
    "            acc_tr = eval_model(train_split[1], train_split[0], w)\n",
    "            acc_train[l, k] = acc_tr\n",
    "\n",
    "            # Test\n",
    "            acc_te = eval_model(test_split[1], test_split[0], w)\n",
    "            acc_test[l, k] = acc_te\n",
    "\n",
    "            k += 1\n",
    "#     fig = cross_validation_visualization(lambdas, 1-acc_train, 1-acc_test)\n",
    "\n",
    "    avg_acc_test = np.mean(acc_test, axis=1)\n",
    "    lambda_opt_ridge = lambdas[np.argmax(avg_acc_test)]\n",
    "\n",
    "    print('Maximum test accuracy {} with lambda {}'.format(np.max(avg_acc_test), lambda_opt_ridge))\n",
    "    \n",
    "    # Run training\n",
    "    w, loss = ridge_regression(y_train, x_train, lambda_opt_ridge)\n",
    "#     print(f'Training loss: {loss_ridge}')\n",
    "\n",
    "    acc_tr = eval_model(y_train, x_train, w)\n",
    "#     print(f'Training accuracy: {acc}')\n",
    "\n",
    "    acc_te = eval_model(y_eval, x_eval, w)\n",
    "    print(f'Test accuracy: {acc_te}')\n",
    "    \n",
    "    \n",
    "    return w, loss, acc_tr, acc_te\n",
    "    "
   ]
  },
  {
   "cell_type": "code",
   "execution_count": 158,
   "metadata": {
    "scrolled": false
   },
   "outputs": [
    {
     "name": "stdout",
     "output_type": "stream",
     "text": [
      "\n",
      "Feature Set Raw\n",
      "Maximum test accuracy 0.7303425576008777 with lambda 0.0004641588833612782\n",
      "Test accuracy: 0.7336\n",
      "Maximum test accuracy 0.7291463488967451 with lambda 0.0027825594022071257\n",
      "Test accuracy: 0.7288914285714285\n",
      "Maximum test accuracy 0.7280720468121419 with lambda 0.0004641588833612782\n",
      "Test accuracy: 0.7334857142857143\n",
      "Maximum test accuracy 0.7400417530171889 with lambda 2.1544346900318865e-06\n",
      "Test accuracy: 0.7415314285714286\n",
      "\n",
      "Feature Set MostInfo\n",
      "Maximum test accuracy 0.7306168474948189 with lambda 0.0004641588833612782\n",
      "Test accuracy: 0.7337142857142858\n",
      "Maximum test accuracy 0.7291996830427891 with lambda 0.0004641588833612782\n",
      "Test accuracy: 0.7317257142857143\n",
      "Maximum test accuracy 0.7280110935023771 with lambda 0.0027825594022071257\n",
      "Test accuracy: 0.72944\n",
      "Maximum test accuracy 0.7404912836767036 with lambda 2.1544346900318865e-06\n",
      "Test accuracy: 0.7416457142857142\n",
      "\n",
      "Feature Set: ImputeJet\n",
      "Maximum test accuracy 0.7312416189199074 with lambda 0.0004641588833612782\n",
      "Test accuracy: 0.7344914285714286\n",
      "Maximum test accuracy 0.7300454102157746 with lambda 0.0027825594022071257\n",
      "Test accuracy: 0.7300114285714285\n",
      "Maximum test accuracy 0.7292834938437156 with lambda 0.0027825594022071257\n",
      "Test accuracy: 0.7308342857142858\n",
      "Maximum test accuracy 0.7407122394246007 with lambda 2.1544346900318865e-06\n",
      "Test accuracy: 0.7426971428571428\n",
      "\n",
      "Feature Set: DeCorrelate\n",
      "Maximum test accuracy 0.730357795928319 with lambda 0.0004641588833612782\n",
      "Test accuracy: 0.7336\n",
      "Maximum test accuracy 0.7291615872241863 with lambda 0.0027825594022071257\n",
      "Test accuracy: 0.7288685714285714\n",
      "Maximum test accuracy 0.7280644276484213 with lambda 0.0004641588833612782\n",
      "Test accuracy: 0.7335085714285714\n",
      "Maximum test accuracy 0.7400417530171889 with lambda 2.1544346900318865e-06\n",
      "Test accuracy: 0.7415085714285714\n"
     ]
    },
    {
     "data": {
      "image/png": "[encoded data removed]",
      "text/plain": [
       "<Figure size 576x252 with 1 Axes>"
      ]
     },
     "metadata": {},
     "output_type": "display_data"
    }
   ],
   "source": [
    "k_fold = 4\n",
    "\n",
    "# Hyperparameter optimisation\n",
    "acc_train = np.empty((len(labels), k_fold), float)\n",
    "acc_test = np.empty((len(labels), k_fold), float)\n",
    "    \n",
    "for i, features in enumerate(feature_masks):\n",
    "    print('\\nFeature Set', labels[i])\n",
    "    k = 0\n",
    "    for train_split, test_split in k_fold_iter(y_train, x_train, k_fold):\n",
    "            # Run evaluation\n",
    "            w, loss, acc_tr, acc_te = run_ridge(train_split[1], train_split[0], \n",
    "                                                        test_split[1], test_split[0], features)\n",
    "            acc_train[i, k] = acc_tr\n",
    "            acc_test[i, k] = acc_te\n",
    "            \n",
    "            k+=1\n",
    "            \n",
    "print('\\nFeature Set: ImputeJet')\n",
    "col_index = [FEATURE_NAMES.index(i) for i in JET_NOT_DEFINED]\n",
    "x_train_imp = x_train.copy()\n",
    "x_train_imp[x_train_imp == -999] = -100\n",
    "\n",
    "x_eval_imp = x_eval.copy()\n",
    "x_eval_imp[x_eval_imp == -999] = -100\n",
    "\n",
    "features = generate_mask([])\n",
    "\n",
    "k = 0\n",
    "for train_split, test_split in k_fold_iter(y_train, x_train_imp, k_fold):\n",
    "        # Run evaluation\n",
    "        w, loss, acc_tr, acc_te = run_ridge(train_split[1], train_split[0], \n",
    "                                                    test_split[1], test_split[0], features)\n",
    "        acc_train[-2, k] = acc_tr\n",
    "        acc_test[-2, k] = acc_te\n",
    "\n",
    "        k+=1\n",
    "        \n",
    "print('\\nFeature Set: DeCorrelate')\n",
    "JET_NUM_IDX = FEATURE_NAMES.index('PRI_jet_num')\n",
    "\n",
    "x_ind = (x_train[:, JET_NUM_IDX] > 1).astype(int)\n",
    "# x_train_imp = np.delete(x_train, JET_NUM_IDX, axis=1)\n",
    "x_train_imp = np.concatenate([x_train, np.expand_dims(x_ind, axis=1)], axis=1)\n",
    "\n",
    "features = generate_mask(['DER_deltaeta_jet_jet', 'DER_prodeta_jet_jet'])\n",
    "features = np.concatenate([features, [True]])\n",
    "\n",
    "k = 0\n",
    "for train_split, test_split in k_fold_iter(y_train, x_train_imp, k_fold):\n",
    "        # Run evaluation\n",
    "        w, loss, acc_tr, acc_te = run_ridge(train_split[1], train_split[0], \n",
    "                                                    test_split[1], test_split[0], features)\n",
    "        acc_train[-1, k] = acc_tr\n",
    "        acc_test[-1, k] = acc_te\n",
    "\n",
    "        k+=1\n",
    "            \n",
    "fig = compare_features_visualisation(acc_train, acc_test, labels, '$\\mathtt{Ridge}$')\n",
    "fig.savefig('../report/compare_features_ridge.pdf', bbox_inches='tight')"
   ]
  },
  {
   "cell_type": "markdown",
   "metadata": {},
   "source": [
    "# 3 Logistic Regression"
   ]
  },
  {
   "cell_type": "code",
   "execution_count": 95,
   "metadata": {},
   "outputs": [],
   "source": [
    "def run_logistic(y_train, x_train, y_eval, x_eval, feature_mask):\n",
    "    # Remove unwanted features\n",
    "    x_train = x_train[:, feature_mask]\n",
    "    x_eval = x_eval[:, feature_mask]\n",
    "    \n",
    "    # Standardise to training mean and s.d.\n",
    "    x_train, mean_x, std_x = standardise(x_train)\n",
    "    x_eval = standardise_to_fixed(x_eval, mean_x, std_x)\n",
    "\n",
    "    tx_train = np.c_[np.ones(x_train.shape[0]), x_train]\n",
    "    tx_eval = np.c_[np.ones(x_eval.shape[0]), x_eval]\n",
    "    \n",
    "    gamma = 0.01\n",
    "    max_iters = 10000\n",
    "    w_initial = np.ones(tx_train.shape[1])\n",
    "\n",
    "    # Run gradient descent \n",
    "    w, loss = logistic_regression_mean(y_train, tx_train, w_initial, max_iters, gamma, threshold=1e-6)\n",
    "#     print(f'Training loss: {loss_lr}')\n",
    "\n",
    "    acc_tr = eval_model(y_train, tx_train, w, thresh=0.5)\n",
    "#     print(f'Training accuracy: {acc}')\n",
    "\n",
    "    acc_te = eval_model(y_eval, tx_eval, w, thresh=0.5)\n",
    "    print(f'Testing accuracy: {acc_te}')\n",
    "    \n",
    "    return w, loss, acc_tr, acc_te"
   ]
  },
  {
   "cell_type": "code",
   "execution_count": 96,
   "metadata": {},
   "outputs": [
    {
     "name": "stdout",
     "output_type": "stream",
     "text": [
      "\n",
      "Feature Set:  Raw\n"
     ]
    },
    {
     "name": "stderr",
     "output_type": "stream",
     "text": [
      "../scripts\\costs.py:49: RuntimeWarning: overflow encountered in exp\n",
      "  return np.sum(np.log(1 + np.exp(z)) - y * z)\n",
      "../scripts\\implementation_variants.py:146: RuntimeWarning: invalid value encountered in double_scalars\n",
      "  if len(losses) > 1 and np.abs(losses[-1] - losses[-2]) < threshold:\n"
     ]
    },
    {
     "ename": "KeyboardInterrupt",
     "evalue": "",
     "output_type": "error",
     "traceback": [
      "\u001b[1;31m---------------------------------------------------------------------------\u001b[0m",
      "\u001b[1;31mKeyboardInterrupt\u001b[0m                         Traceback (most recent call last)",
      "\u001b[1;32m<ipython-input-96-15aeb0349149>\u001b[0m in \u001b[0;36m<module>\u001b[1;34m\u001b[0m\n\u001b[0;32m     11\u001b[0m             \u001b[1;31m# Run evaluation\u001b[0m\u001b[1;33m\u001b[0m\u001b[1;33m\u001b[0m\u001b[1;33m\u001b[0m\u001b[0m\n\u001b[0;32m     12\u001b[0m             w, loss, acc_tr, acc_te = run_logistic(train_split[1], train_split[0], \n\u001b[1;32m---> 13\u001b[1;33m                                                         test_split[1], test_split[0], features)\n\u001b[0m\u001b[0;32m     14\u001b[0m             \u001b[0macc_train\u001b[0m\u001b[1;33m[\u001b[0m\u001b[0mi\u001b[0m\u001b[1;33m,\u001b[0m \u001b[0mk\u001b[0m\u001b[1;33m]\u001b[0m \u001b[1;33m=\u001b[0m \u001b[0macc_tr\u001b[0m\u001b[1;33m\u001b[0m\u001b[1;33m\u001b[0m\u001b[0m\n\u001b[0;32m     15\u001b[0m             \u001b[0macc_test\u001b[0m\u001b[1;33m[\u001b[0m\u001b[0mi\u001b[0m\u001b[1;33m,\u001b[0m \u001b[0mk\u001b[0m\u001b[1;33m]\u001b[0m \u001b[1;33m=\u001b[0m \u001b[0macc_te\u001b[0m\u001b[1;33m\u001b[0m\u001b[1;33m\u001b[0m\u001b[0m\n",
      "\u001b[1;32m<ipython-input-95-322d77d19981>\u001b[0m in \u001b[0;36mrun_logistic\u001b[1;34m(y_train, x_train, y_eval, x_eval, feature_mask)\u001b[0m\n\u001b[0;32m     16\u001b[0m \u001b[1;33m\u001b[0m\u001b[0m\n\u001b[0;32m     17\u001b[0m     \u001b[1;31m# Run gradient descent\u001b[0m\u001b[1;33m\u001b[0m\u001b[1;33m\u001b[0m\u001b[1;33m\u001b[0m\u001b[0m\n\u001b[1;32m---> 18\u001b[1;33m     \u001b[0mw\u001b[0m\u001b[1;33m,\u001b[0m \u001b[0mloss\u001b[0m \u001b[1;33m=\u001b[0m \u001b[0mlogistic_regression_mean\u001b[0m\u001b[1;33m(\u001b[0m\u001b[0my_train\u001b[0m\u001b[1;33m,\u001b[0m \u001b[0mtx_train\u001b[0m\u001b[1;33m,\u001b[0m \u001b[0mw_initial\u001b[0m\u001b[1;33m,\u001b[0m \u001b[0mmax_iters\u001b[0m\u001b[1;33m,\u001b[0m \u001b[0mgamma\u001b[0m\u001b[1;33m,\u001b[0m \u001b[0mthreshold\u001b[0m\u001b[1;33m=\u001b[0m\u001b[1;36m1e-6\u001b[0m\u001b[1;33m)\u001b[0m\u001b[1;33m\u001b[0m\u001b[1;33m\u001b[0m\u001b[0m\n\u001b[0m\u001b[0;32m     19\u001b[0m \u001b[1;31m#     print(f'Training loss: {loss_lr}')\u001b[0m\u001b[1;33m\u001b[0m\u001b[1;33m\u001b[0m\u001b[1;33m\u001b[0m\u001b[0m\n\u001b[0;32m     20\u001b[0m \u001b[1;33m\u001b[0m\u001b[0m\n",
      "\u001b[1;32m~\\Desktop\\Machine learning\\CS433_ML\\projects\\project1\\scripts\\implementation_variants.py\u001b[0m in \u001b[0;36mlogistic_regression_mean\u001b[1;34m(y, tx, initial_w, max_iters, gamma, threshold, verbose)\u001b[0m\n\u001b[0;32m    126\u001b[0m     \u001b[1;32mfor\u001b[0m \u001b[0mn_iter\u001b[0m \u001b[1;32min\u001b[0m \u001b[0mrange\u001b[0m\u001b[1;33m(\u001b[0m\u001b[0mmax_iters\u001b[0m\u001b[1;33m)\u001b[0m\u001b[1;33m:\u001b[0m\u001b[1;33m\u001b[0m\u001b[1;33m\u001b[0m\u001b[0m\n\u001b[0;32m    127\u001b[0m         \u001b[1;31m# Compute gradient\u001b[0m\u001b[1;33m\u001b[0m\u001b[1;33m\u001b[0m\u001b[1;33m\u001b[0m\u001b[0m\n\u001b[1;32m--> 128\u001b[1;33m         \u001b[0mgrad\u001b[0m \u001b[1;33m=\u001b[0m \u001b[0mcompute_gradient_logreg_mean\u001b[0m\u001b[1;33m(\u001b[0m\u001b[0my\u001b[0m\u001b[1;33m,\u001b[0m \u001b[0mtx\u001b[0m\u001b[1;33m,\u001b[0m \u001b[0mw\u001b[0m\u001b[1;33m)\u001b[0m\u001b[1;33m\u001b[0m\u001b[1;33m\u001b[0m\u001b[0m\n\u001b[0m\u001b[0;32m    129\u001b[0m \u001b[1;33m\u001b[0m\u001b[0m\n\u001b[0;32m    130\u001b[0m         \u001b[1;31m# Update model parameters\u001b[0m\u001b[1;33m\u001b[0m\u001b[1;33m\u001b[0m\u001b[1;33m\u001b[0m\u001b[0m\n",
      "\u001b[1;32m~\\Desktop\\Machine learning\\CS433_ML\\projects\\project1\\scripts\\costs.py\u001b[0m in \u001b[0;36mcompute_gradient_logreg_mean\u001b[1;34m(y, tx, w)\u001b[0m\n\u001b[0;32m     91\u001b[0m \u001b[1;33m\u001b[0m\u001b[0m\n\u001b[0;32m     92\u001b[0m \u001b[1;32mdef\u001b[0m \u001b[0mcompute_gradient_logreg_mean\u001b[0m\u001b[1;33m(\u001b[0m\u001b[0my\u001b[0m\u001b[1;33m,\u001b[0m \u001b[0mtx\u001b[0m\u001b[1;33m,\u001b[0m \u001b[0mw\u001b[0m\u001b[1;33m)\u001b[0m\u001b[1;33m:\u001b[0m\u001b[1;33m\u001b[0m\u001b[1;33m\u001b[0m\u001b[0m\n\u001b[1;32m---> 93\u001b[1;33m     \u001b[0mgrad\u001b[0m \u001b[1;33m=\u001b[0m \u001b[0mcompute_gradient_logreg\u001b[0m\u001b[1;33m(\u001b[0m\u001b[0my\u001b[0m\u001b[1;33m,\u001b[0m \u001b[0mtx\u001b[0m\u001b[1;33m,\u001b[0m \u001b[0mw\u001b[0m\u001b[1;33m)\u001b[0m\u001b[1;33m\u001b[0m\u001b[1;33m\u001b[0m\u001b[0m\n\u001b[0m\u001b[0;32m     94\u001b[0m \u001b[1;33m\u001b[0m\u001b[0m\n\u001b[0;32m     95\u001b[0m     \u001b[1;32mreturn\u001b[0m \u001b[0mgrad\u001b[0m\u001b[1;33m/\u001b[0m\u001b[0mlen\u001b[0m\u001b[1;33m(\u001b[0m\u001b[0my\u001b[0m\u001b[1;33m)\u001b[0m\u001b[1;33m\u001b[0m\u001b[1;33m\u001b[0m\u001b[0m\n",
      "\u001b[1;32m~\\Desktop\\Machine learning\\CS433_ML\\projects\\project1\\scripts\\costs.py\u001b[0m in \u001b[0;36mcompute_gradient_logreg\u001b[1;34m(y, tx, w)\u001b[0m\n\u001b[0;32m     54\u001b[0m     \u001b[1;32massert\u001b[0m \u001b[0mlen\u001b[0m\u001b[1;33m(\u001b[0m\u001b[0mset\u001b[0m\u001b[1;33m(\u001b[0m\u001b[0my\u001b[0m\u001b[1;33m)\u001b[0m\u001b[1;33m.\u001b[0m\u001b[0mdifference\u001b[0m\u001b[1;33m(\u001b[0m\u001b[1;33m{\u001b[0m\u001b[1;36m0.\u001b[0m\u001b[1;33m,\u001b[0m \u001b[1;36m1.\u001b[0m\u001b[1;33m}\u001b[0m\u001b[1;33m)\u001b[0m\u001b[1;33m)\u001b[0m \u001b[1;33m==\u001b[0m \u001b[1;36m0\u001b[0m\u001b[1;33m,\u001b[0m \u001b[1;34m\"Class labels must be encoded as {0, 1}\"\u001b[0m\u001b[1;33m\u001b[0m\u001b[1;33m\u001b[0m\u001b[0m\n\u001b[0;32m     55\u001b[0m \u001b[1;33m\u001b[0m\u001b[0m\n\u001b[1;32m---> 56\u001b[1;33m     \u001b[0ms\u001b[0m \u001b[1;33m=\u001b[0m \u001b[0msigmoid\u001b[0m\u001b[1;33m(\u001b[0m\u001b[0mtx\u001b[0m\u001b[1;33m.\u001b[0m\u001b[0mdot\u001b[0m\u001b[1;33m(\u001b[0m\u001b[0mw\u001b[0m\u001b[1;33m)\u001b[0m\u001b[1;33m)\u001b[0m \u001b[1;33m-\u001b[0m \u001b[0my\u001b[0m\u001b[1;33m\u001b[0m\u001b[1;33m\u001b[0m\u001b[0m\n\u001b[0m\u001b[0;32m     57\u001b[0m     \u001b[0mgrad\u001b[0m \u001b[1;33m=\u001b[0m \u001b[0mtx\u001b[0m\u001b[1;33m.\u001b[0m\u001b[0mT\u001b[0m\u001b[1;33m.\u001b[0m\u001b[0mdot\u001b[0m\u001b[1;33m(\u001b[0m\u001b[0ms\u001b[0m\u001b[1;33m)\u001b[0m\u001b[1;33m\u001b[0m\u001b[1;33m\u001b[0m\u001b[0m\n\u001b[0;32m     58\u001b[0m \u001b[1;33m\u001b[0m\u001b[0m\n",
      "\u001b[1;32m~\\Desktop\\Machine learning\\CS433_ML\\projects\\project1\\scripts\\costs.py\u001b[0m in \u001b[0;36msigmoid\u001b[1;34m(t)\u001b[0m\n\u001b[0;32m     99\u001b[0m     \u001b[1;34m\"\"\" Sigmoid function of t.\"\"\"\u001b[0m\u001b[1;33m\u001b[0m\u001b[1;33m\u001b[0m\u001b[0m\n\u001b[0;32m    100\u001b[0m \u001b[1;33m\u001b[0m\u001b[0m\n\u001b[1;32m--> 101\u001b[1;33m     \u001b[1;32mreturn\u001b[0m \u001b[1;36m1.0\u001b[0m \u001b[1;33m/\u001b[0m \u001b[1;33m(\u001b[0m\u001b[1;36m1.0\u001b[0m \u001b[1;33m+\u001b[0m \u001b[0mnp\u001b[0m\u001b[1;33m.\u001b[0m\u001b[0mexp\u001b[0m\u001b[1;33m(\u001b[0m\u001b[1;33m-\u001b[0m\u001b[0mt\u001b[0m\u001b[1;33m)\u001b[0m\u001b[1;33m)\u001b[0m\u001b[1;33m\u001b[0m\u001b[1;33m\u001b[0m\u001b[0m\n\u001b[0m",
      "\u001b[1;31mKeyboardInterrupt\u001b[0m: "
     ]
    }
   ],
   "source": [
    "k_fold = 4\n",
    "\n",
    "# Hyperparameter optimisation\n",
    "acc_train = np.empty((len(feature_masks)+2, k_fold), float)\n",
    "acc_test = np.empty((len(feature_masks)+2, k_fold), float)\n",
    "    \n",
    "for i, features in enumerate(feature_masks):\n",
    "    print('\\nFeature Set: ', labels[i])\n",
    "    k = 0\n",
    "    for train_split, test_split in k_fold_iter(y_train, x_train, k_fold):\n",
    "            # Run evaluation\n",
    "            w, loss, acc_tr, acc_te = run_logistic(train_split[1], train_split[0], \n",
    "                                                        test_split[1], test_split[0], features)\n",
    "            acc_train[i, k] = acc_tr\n",
    "            acc_test[i, k] = acc_te\n",
    "            \n",
    "            k+=1\n",
    "            \n",
    "print('\\nFeature Set: Impute')\n",
    "col_index = [FEATURE_NAMES.index(i) for i in JET_NOT_DEFINED]\n",
    "x_train_imp = x_train.copy()\n",
    "x_train_imp[x_train_imp == -999] = -100\n",
    "\n",
    "x_eval_imp = x_eval.copy()\n",
    "x_eval_imp[x_eval_imp == -999] = -100\n",
    "\n",
    "features = generate_mask([])\n",
    "\n",
    "k = 0\n",
    "for train_split, test_split in k_fold_iter(y_train, x_train_imp, k_fold):\n",
    "        # Run evaluation\n",
    "        w, loss, acc_tr, acc_te = run_logistic(train_split[1], train_split[0], \n",
    "                                                    test_split[1], test_split[0], features)\n",
    "        acc_train[-2, k] = acc_tr\n",
    "        acc_test[-2, k] = acc_te\n",
    "\n",
    "        k+=1\n",
    "        \n",
    "print('\\nFeature Set: Indicator')\n",
    "JET_NUM_IDX = FEATURE_NAMES.index('PRI_jet_num')\n",
    "\n",
    "x_ind = (x_train[:, JET_NUM_IDX] > 1).astype(int)\n",
    "# x_train_imp = np.delete(x_train, JET_NUM_IDX, axis=1)\n",
    "x_train_imp = np.concatenate([x_train, np.expand_dims(x_ind, axis=1)], axis=1)\n",
    "\n",
    "features = generate_mask(['DER_deltaeta_jet_jet', 'DER_prodeta_jet_jet'])\n",
    "features = np.concatenate([features, [True]])\n",
    "\n",
    "k = 0\n",
    "for train_split, test_split in k_fold_iter(y_train, x_train_imp, k_fold):\n",
    "        # Run evaluation\n",
    "        w, loss, acc_tr, acc_te = run_logistic(train_split[1], train_split[0], \n",
    "                                                    test_split[1], test_split[0], features)\n",
    "        acc_train[-1, k] = acc_tr\n",
    "        acc_test[-1, k] = acc_te\n",
    "\n",
    "        k+=1\n",
    "            \n",
    "fig = compare_features_visualisation(acc_train, acc_test, labels, '$\\mathtt{LogReg}$')\n",
    "fig.savefig('../report/compare_features_logreg.pdf', bbox_inches='tight')"
   ]
  },
  {
   "cell_type": "markdown",
   "metadata": {},
   "source": [
    "# -------------"
   ]
  },
  {
   "cell_type": "markdown",
   "metadata": {},
   "source": [
    "# Compare model performance on best performing feature set "
   ]
  },
  {
   "cell_type": "markdown",
   "metadata": {},
   "source": [
    "##### Data Processing"
   ]
  },
  {
   "cell_type": "code",
   "execution_count": 97,
   "metadata": {},
   "outputs": [
    {
     "data": {
      "text/plain": [
       "(175000, 59)"
      ]
     },
     "execution_count": 97,
     "metadata": {},
     "output_type": "execute_result"
    }
   ],
   "source": [
    "JET_NUM_IDX = FEATURE_NAMES.index('PRI_jet_num')\n",
    "\n",
    "def feature_transform(x):\n",
    "    x_ind = (x[:, JET_NUM_IDX] > 1).astype(int)\n",
    "    x = np.concatenate([x, np.expand_dims(x_ind, axis=1)], axis=1)\n",
    "\n",
    "    features = generate_mask(['DER_deltaeta_jet_jet', 'DER_prodeta_jet_jet'])\n",
    "    features = np.concatenate([features, [True]])\n",
    "\n",
    "    x = x[:, features]\n",
    "    \n",
    "    return x\n",
    "\n",
    "fx_train = feature_transform(x_train)\n",
    "fx_eval = feature_transform(x_eval)\n",
    "\n",
    "fx_train, mu_x, sigma_x = standardise(fx_train)\n",
    "fx_eval = standardise_to_fixed(fx_eval, mu_x, sigma_x)\n",
    "\n",
    "tx_train = np.c_[np.ones(fx_train.shape[0]), fx_train]\n",
    "tx_eval = np.c_[np.ones(fx_eval.shape[0]), fx_eval]\n",
    "\n",
    "fx_train.shape"
   ]
  },
  {
   "cell_type": "markdown",
   "metadata": {},
   "source": [
    "##### Baseline"
   ]
  },
  {
   "cell_type": "code",
   "execution_count": 98,
   "metadata": {},
   "outputs": [
    {
     "name": "stdout",
     "output_type": "stream",
     "text": [
      "Testing Accuracy: 0.5495733333333334\n"
     ]
    }
   ],
   "source": [
    "# Get baseline frequency of the two classes in training data\n",
    "prior_probs = [sum(y_train == 1)/len(y_train), sum(y_train == 0)/len(y_train)]\n",
    "\n",
    "# Test error on evaluation set\n",
    "y_eval_pred = np.random.choice([1., 0], size=len(y_eval), p=prior_probs)\n",
    "\n",
    "acc_baseline = get_accuracy(y_eval_pred, y_eval)\n",
    "\n",
    "print(f'Testing Accuracy: {acc_baseline}')"
   ]
  },
  {
   "cell_type": "markdown",
   "metadata": {},
   "source": [
    "##### Train LeastSquares"
   ]
  },
  {
   "cell_type": "code",
   "execution_count": 99,
   "metadata": {},
   "outputs": [
    {
     "name": "stdout",
     "output_type": "stream",
     "text": [
      "Training loss: 0.13826596181052767\n",
      "Training accuracy: 0.7304742857142857\n",
      "Test Accuracy: 0.7284\n"
     ]
    }
   ],
   "source": [
    "# Get linear least-squares model\n",
    "w_ls, loss_ls = least_squares(y_train, fx_train)\n",
    "print(f'Training loss: {loss_ls}')\n",
    "\n",
    "# Get training accuracy\n",
    "acc_tr  = eval_model(y_train, fx_train, w_ls, thresh=0)\n",
    "print(f'Training accuracy: {acc_tr}')\n",
    "\n",
    "# Get accuracy on evaluation set\n",
    "acc_ls = eval_model(y_eval, fx_eval, w_ls, thresh=0)\n",
    "print(f'Test Accuracy: {acc_ls}')"
   ]
  },
  {
   "cell_type": "markdown",
   "metadata": {},
   "source": [
    "##### Train Ridge"
   ]
  },
  {
   "cell_type": "code",
   "execution_count": 100,
   "metadata": {},
   "outputs": [
    {
     "name": "stdout",
     "output_type": "stream",
     "text": [
      "lambda: 1e-09\n",
      "lambda: 2.9763514416313133e-09\n",
      "lambda: 8.858667904100832e-09\n",
      "lambda: 2.6366508987303555e-08\n",
      "lambda: 7.847599703514607e-08\n",
      "lambda: 2.3357214690901212e-07\n",
      "lambda: 6.951927961775605e-07\n",
      "lambda: 2.06913808111479e-06\n",
      "lambda: 6.158482110660255e-06\n",
      "lambda: 1.8329807108324338e-05\n",
      "lambda: 5.4555947811685143e-05\n",
      "lambda: 0.0001623776739188721\n",
      "lambda: 0.0004832930238571752\n",
      "lambda: 0.0014384498882876629\n",
      "lambda: 0.004281332398719387\n",
      "lambda: 0.012742749857031322\n",
      "lambda: 0.03792690190732246\n",
      "lambda: 0.11288378916846883\n",
      "lambda: 0.33598182862837744\n",
      "lambda: 1.0\n"
     ]
    }
   ],
   "source": [
    "# Run cross val\n",
    "lambdas = np.logspace(-9, 0, 20)\n",
    "k_fold = 4\n",
    "\n",
    "# Hyperparameter optimisation\n",
    "acc_train = np.empty((len(lambdas), k_fold), float)\n",
    "acc_test = np.empty((len(lambdas), k_fold), float)\n",
    "\n",
    "for l, lambda_ in enumerate(lambdas):\n",
    "    print(f'lambda: {lambda_}')\n",
    "    k = 0\n",
    "    for train_split, test_split in k_fold_iter(y_train, fx_train, k_fold):\n",
    "        # Train\n",
    "        w, loss = ridge_regression(train_split[1], train_split[0], lambda_)\n",
    "        acc_tr = eval_model(train_split[1], train_split[0], w)\n",
    "        acc_train[l, k] = acc_tr\n",
    "\n",
    "        # Test\n",
    "        acc_te = eval_model(test_split[1], test_split[0], w)\n",
    "        acc_test[l, k] = acc_te\n",
    "\n",
    "        k += 1"
   ]
  },
  {
   "cell_type": "code",
   "execution_count": 101,
   "metadata": {},
   "outputs": [
    {
     "name": "stdout",
     "output_type": "stream",
     "text": [
      "Maximum test accuracy 0.72644 with lambda 1e-09\n"
     ]
    },
    {
     "data": {
      "image/png": "[encoded data removed]",
      "text/plain": [
       "<Figure size 720x288 with 1 Axes>"
      ]
     },
     "metadata": {},
     "output_type": "display_data"
    }
   ],
   "source": [
    "fig = cross_validation_visualization(lambdas, 1-acc_train, 1-acc_test)\n",
    "\n",
    "avg_acc_test = np.mean(acc_test, axis=1)\n",
    "lambda_opt_ridge = lambdas[np.argmax(avg_acc_test)]\n",
    "\n",
    "print('Maximum test accuracy {} with lambda {}'.format(np.max(avg_acc_test), lambda_opt_ridge))\n",
    "\n",
    "fig.savefig('../report/ridge_crossval.pdf', bbox_inches='tight')"
   ]
  },
  {
   "cell_type": "code",
   "execution_count": 102,
   "metadata": {},
   "outputs": [
    {
     "name": "stdout",
     "output_type": "stream",
     "text": [
      "Training loss: 0.13933829612385162\n",
      "Training accuracy: 0.7264914285714286\n",
      "Test accuracy: 0.7260133333333333\n"
     ]
    }
   ],
   "source": [
    "# Run training\n",
    "w_ridge, loss_ridge = ridge_regression(y_train, fx_train, lambda_opt_ridge)\n",
    "print(f'Training loss: {loss_ridge}')\n",
    "\n",
    "acc = eval_model(y_train, fx_train, w_ridge)\n",
    "print(f'Training accuracy: {acc}')\n",
    "\n",
    "acc_ridge = eval_model(y_eval, fx_eval, w_ridge)\n",
    "print(f'Test accuracy: {acc_ridge}')"
   ]
  },
  {
   "cell_type": "markdown",
   "metadata": {},
   "source": [
    "##### Train LogReg"
   ]
  },
  {
   "cell_type": "code",
   "execution_count": 162,
   "metadata": {},
   "outputs": [
    {
     "name": "stderr",
     "output_type": "stream",
     "text": [
      "../scripts\\costs.py:49: RuntimeWarning: overflow encountered in exp\n",
      "  return np.sum(np.log(1 + np.exp(z)) - y * z)\n",
      "../scripts\\implementation_variants.py:146: RuntimeWarning: invalid value encountered in double_scalars\n",
      "  if len(losses) > 1 and np.abs(losses[-1] - losses[-2]) < threshold:\n"
     ]
    },
    {
     "ename": "KeyboardInterrupt",
     "evalue": "",
     "output_type": "error",
     "traceback": [
      "\u001b[1;31m---------------------------------------------------------------------------\u001b[0m",
      "\u001b[1;31mKeyboardInterrupt\u001b[0m                         Traceback (most recent call last)",
      "\u001b[1;32m<ipython-input-162-c755f1dfb9eb>\u001b[0m in \u001b[0;36m<module>\u001b[1;34m\u001b[0m\n\u001b[0;32m     15\u001b[0m         \u001b[1;31m# Train\u001b[0m\u001b[1;33m\u001b[0m\u001b[1;33m\u001b[0m\u001b[1;33m\u001b[0m\u001b[0m\n\u001b[0;32m     16\u001b[0m         w, loss = logistic_regression_mean(train_split[1], train_split[0], w_initial, \n\u001b[1;32m---> 17\u001b[1;33m                                            max_iters, gamma, threshold=1e-6, verbose=False)\n\u001b[0m\u001b[0;32m     18\u001b[0m \u001b[1;33m\u001b[0m\u001b[0m\n\u001b[0;32m     19\u001b[0m         \u001b[0macc_tr\u001b[0m \u001b[1;33m=\u001b[0m \u001b[0meval_model\u001b[0m\u001b[1;33m(\u001b[0m\u001b[0mtrain_split\u001b[0m\u001b[1;33m[\u001b[0m\u001b[1;36m1\u001b[0m\u001b[1;33m]\u001b[0m\u001b[1;33m,\u001b[0m \u001b[0mtrain_split\u001b[0m\u001b[1;33m[\u001b[0m\u001b[1;36m0\u001b[0m\u001b[1;33m]\u001b[0m\u001b[1;33m,\u001b[0m \u001b[0mw\u001b[0m\u001b[1;33m,\u001b[0m \u001b[0mthresh\u001b[0m\u001b[1;33m=\u001b[0m\u001b[1;36m0.5\u001b[0m\u001b[1;33m)\u001b[0m\u001b[1;33m\u001b[0m\u001b[1;33m\u001b[0m\u001b[0m\n",
      "\u001b[1;32m~\\Desktop\\Machine learning\\CS433_ML\\projects\\project1\\scripts\\implementation_variants.py\u001b[0m in \u001b[0;36mlogistic_regression_mean\u001b[1;34m(y, tx, initial_w, max_iters, gamma, threshold, verbose)\u001b[0m\n\u001b[0;32m    126\u001b[0m     \u001b[1;32mfor\u001b[0m \u001b[0mn_iter\u001b[0m \u001b[1;32min\u001b[0m \u001b[0mrange\u001b[0m\u001b[1;33m(\u001b[0m\u001b[0mmax_iters\u001b[0m\u001b[1;33m)\u001b[0m\u001b[1;33m:\u001b[0m\u001b[1;33m\u001b[0m\u001b[1;33m\u001b[0m\u001b[0m\n\u001b[0;32m    127\u001b[0m         \u001b[1;31m# Compute gradient\u001b[0m\u001b[1;33m\u001b[0m\u001b[1;33m\u001b[0m\u001b[1;33m\u001b[0m\u001b[0m\n\u001b[1;32m--> 128\u001b[1;33m         \u001b[0mgrad\u001b[0m \u001b[1;33m=\u001b[0m \u001b[0mcompute_gradient_logreg_mean\u001b[0m\u001b[1;33m(\u001b[0m\u001b[0my\u001b[0m\u001b[1;33m,\u001b[0m \u001b[0mtx\u001b[0m\u001b[1;33m,\u001b[0m \u001b[0mw\u001b[0m\u001b[1;33m)\u001b[0m\u001b[1;33m\u001b[0m\u001b[1;33m\u001b[0m\u001b[0m\n\u001b[0m\u001b[0;32m    129\u001b[0m \u001b[1;33m\u001b[0m\u001b[0m\n\u001b[0;32m    130\u001b[0m         \u001b[1;31m# Update model parameters\u001b[0m\u001b[1;33m\u001b[0m\u001b[1;33m\u001b[0m\u001b[1;33m\u001b[0m\u001b[0m\n",
      "\u001b[1;32m~\\Desktop\\Machine learning\\CS433_ML\\projects\\project1\\scripts\\costs.py\u001b[0m in \u001b[0;36mcompute_gradient_logreg_mean\u001b[1;34m(y, tx, w)\u001b[0m\n\u001b[0;32m     91\u001b[0m \u001b[1;33m\u001b[0m\u001b[0m\n\u001b[0;32m     92\u001b[0m \u001b[1;32mdef\u001b[0m \u001b[0mcompute_gradient_logreg_mean\u001b[0m\u001b[1;33m(\u001b[0m\u001b[0my\u001b[0m\u001b[1;33m,\u001b[0m \u001b[0mtx\u001b[0m\u001b[1;33m,\u001b[0m \u001b[0mw\u001b[0m\u001b[1;33m)\u001b[0m\u001b[1;33m:\u001b[0m\u001b[1;33m\u001b[0m\u001b[1;33m\u001b[0m\u001b[0m\n\u001b[1;32m---> 93\u001b[1;33m     \u001b[0mgrad\u001b[0m \u001b[1;33m=\u001b[0m \u001b[0mcompute_gradient_logreg\u001b[0m\u001b[1;33m(\u001b[0m\u001b[0my\u001b[0m\u001b[1;33m,\u001b[0m \u001b[0mtx\u001b[0m\u001b[1;33m,\u001b[0m \u001b[0mw\u001b[0m\u001b[1;33m)\u001b[0m\u001b[1;33m\u001b[0m\u001b[1;33m\u001b[0m\u001b[0m\n\u001b[0m\u001b[0;32m     94\u001b[0m \u001b[1;33m\u001b[0m\u001b[0m\n\u001b[0;32m     95\u001b[0m     \u001b[1;32mreturn\u001b[0m \u001b[0mgrad\u001b[0m\u001b[1;33m/\u001b[0m\u001b[0mlen\u001b[0m\u001b[1;33m(\u001b[0m\u001b[0my\u001b[0m\u001b[1;33m)\u001b[0m\u001b[1;33m\u001b[0m\u001b[1;33m\u001b[0m\u001b[0m\n",
      "\u001b[1;32m~\\Desktop\\Machine learning\\CS433_ML\\projects\\project1\\scripts\\costs.py\u001b[0m in \u001b[0;36mcompute_gradient_logreg\u001b[1;34m(y, tx, w)\u001b[0m\n\u001b[0;32m     52\u001b[0m \u001b[1;32mdef\u001b[0m \u001b[0mcompute_gradient_logreg\u001b[0m\u001b[1;33m(\u001b[0m\u001b[0my\u001b[0m\u001b[1;33m,\u001b[0m \u001b[0mtx\u001b[0m\u001b[1;33m,\u001b[0m \u001b[0mw\u001b[0m\u001b[1;33m)\u001b[0m\u001b[1;33m:\u001b[0m\u001b[1;33m\u001b[0m\u001b[1;33m\u001b[0m\u001b[0m\n\u001b[0;32m     53\u001b[0m     \u001b[1;34m\"\"\"Compute the gradient of the negative log-likelihood under a logistic regression model  with class labels {0, 1}.\"\"\"\u001b[0m\u001b[1;33m\u001b[0m\u001b[1;33m\u001b[0m\u001b[0m\n\u001b[1;32m---> 54\u001b[1;33m     \u001b[1;32massert\u001b[0m \u001b[0mlen\u001b[0m\u001b[1;33m(\u001b[0m\u001b[0mset\u001b[0m\u001b[1;33m(\u001b[0m\u001b[0my\u001b[0m\u001b[1;33m)\u001b[0m\u001b[1;33m.\u001b[0m\u001b[0mdifference\u001b[0m\u001b[1;33m(\u001b[0m\u001b[1;33m{\u001b[0m\u001b[1;36m0.\u001b[0m\u001b[1;33m,\u001b[0m \u001b[1;36m1.\u001b[0m\u001b[1;33m}\u001b[0m\u001b[1;33m)\u001b[0m\u001b[1;33m)\u001b[0m \u001b[1;33m==\u001b[0m \u001b[1;36m0\u001b[0m\u001b[1;33m,\u001b[0m \u001b[1;34m\"Class labels must be encoded as {0, 1}\"\u001b[0m\u001b[1;33m\u001b[0m\u001b[1;33m\u001b[0m\u001b[0m\n\u001b[0m\u001b[0;32m     55\u001b[0m \u001b[1;33m\u001b[0m\u001b[0m\n\u001b[0;32m     56\u001b[0m     \u001b[0ms\u001b[0m \u001b[1;33m=\u001b[0m \u001b[0msigmoid\u001b[0m\u001b[1;33m(\u001b[0m\u001b[0mtx\u001b[0m\u001b[1;33m.\u001b[0m\u001b[0mdot\u001b[0m\u001b[1;33m(\u001b[0m\u001b[0mw\u001b[0m\u001b[1;33m)\u001b[0m\u001b[1;33m)\u001b[0m \u001b[1;33m-\u001b[0m \u001b[0my\u001b[0m\u001b[1;33m\u001b[0m\u001b[1;33m\u001b[0m\u001b[0m\n",
      "\u001b[1;31mKeyboardInterrupt\u001b[0m: "
     ]
    }
   ],
   "source": [
    "# Run cross-validation to find optimal step-size\n",
    "gammas = np.logspace(-7, -2, 5)\n",
    "k_fold = 4\n",
    "\n",
    "max_iters = 5000\n",
    "w_initial = np.ones(tx_train.shape[1])\n",
    "\n",
    "# Hyperparameter optimisation\n",
    "acc_train = np.empty((len(gammas), k_fold), float)\n",
    "acc_test = np.empty((len(gammas), k_fold), float)\n",
    "\n",
    "for g, gamma in enumerate(gammas):\n",
    "    k = 0\n",
    "    for train_split, test_split in k_fold_iter(y_train, tx_train, k_fold):\n",
    "        # Train\n",
    "        w, loss = logistic_regression_mean(train_split[1], train_split[0], w_initial, \n",
    "                                           max_iters, gamma, threshold=1e-6, verbose=False)\n",
    "        \n",
    "        acc_tr = eval_model(train_split[1], train_split[0], w, thresh=0.5)\n",
    "        acc_train[g, k] = acc_tr\n",
    "\n",
    "        # Test\n",
    "        acc_te = eval_model(test_split[1], test_split[0], w, thresh=0.5)\n",
    "        acc_test[g, k] = acc_te\n",
    "\n",
    "        k += 1"
   ]
  },
  {
   "cell_type": "code",
   "execution_count": 181,
   "metadata": {},
   "outputs": [
    {
     "name": "stdout",
     "output_type": "stream",
     "text": [
      "Maximum test accuracy 0.7230571428571428 with gamma 0.01\n"
     ]
    },
    {
     "data": {
      "image/png": "[encoded data removed]",
      "text/plain": [
       "<Figure size 720x432 with 1 Axes>"
      ]
     },
     "metadata": {},
     "output_type": "display_data"
    }
   ],
   "source": [
    "fig = cross_validation_visualization(gammas, 1-acc_train, 1-acc_test)\n",
    "fig.savefig('../report/crossval_lr.pdf', bbox_inches='tight')\n",
    "avg_acc_test = np.mean(acc_test, axis=1)\n",
    "gamma_opt_lr = gammas[np.argmax(avg_acc_test)]\n",
    "\n",
    "print('Maximum test accuracy {} with gamma {}'.format(np.max(avg_acc_test), gamma_opt_lr))"
   ]
  },
  {
   "cell_type": "code",
   "execution_count": 182,
   "metadata": {
    "scrolled": true
   },
   "outputs": [
    {
     "name": "stdout",
     "output_type": "stream",
     "text": [
      "Gradient Descent (0/14999): loss=4.9399464656485925, gradient=1.1070150667360843\n",
      "Gradient Descent (100/14999): loss=3.744638955603192, gradient=1.0757625234785748\n",
      "Gradient Descent (200/14999): loss=2.660183871882455, gradient=0.9939685748542625\n",
      "Gradient Descent (300/14999): loss=1.8358315281073783, gradient=0.8008442314450439\n",
      "Gradient Descent (400/14999): loss=1.373341534216789, gradient=0.5664264578414981\n",
      "Gradient Descent (500/14999): loss=1.1283284058888108, gradient=0.4414843709133819\n",
      "Gradient Descent (600/14999): loss=0.9608052299096556, gradient=0.3813570647365515\n",
      "Gradient Descent (700/14999): loss=0.834100959239845, gradient=0.33095041231472316\n",
      "Gradient Descent (800/14999): loss=0.7403573840109454, gradient=0.2818153614972203\n",
      "Gradient Descent (900/14999): loss=0.6735010928901823, gradient=0.23613902384085597\n",
      "Gradient Descent (1000/14999): loss=0.6270053126903851, gradient=0.19614762202692698\n",
      "Gradient Descent (1100/14999): loss=0.5950191683662266, gradient=0.16260812861450613\n",
      "Gradient Descent (1200/14999): loss=0.5729789948998237, gradient=0.1352718223081525\n",
      "Gradient Descent (1300/14999): loss=0.5576363695049985, gradient=0.11327327997296995\n",
      "Gradient Descent (1400/14999): loss=0.5467934531249612, gradient=0.09565434975145502\n",
      "Gradient Descent (1500/14999): loss=0.5389923063535039, gradient=0.0815362735522871\n",
      "Gradient Descent (1600/14999): loss=0.5332700941306313, gradient=0.07019321279257965\n",
      "Gradient Descent (1700/14999): loss=0.528987489186593, gradient=0.06104532180738103\n",
      "Gradient Descent (1800/14999): loss=0.5257161139205274, gradient=0.05363487686138744\n",
      "Gradient Descent (1900/14999): loss=0.5231657282822834, gradient=0.047602496364440736\n",
      "Gradient Descent (2000/14999): loss=0.5211372603256591, gradient=0.04266620588522998\n",
      "Gradient Descent (2100/14999): loss=0.5194924021346482, gradient=0.03860460839301821\n",
      "Gradient Descent (2200/14999): loss=0.5181337794978406, gradient=0.03524368361349481\n",
      "Gradient Descent (2300/14999): loss=0.5169919067042482, gradient=0.03244637204180193\n",
      "Gradient Descent (2400/14999): loss=0.5160165282005124, gradient=0.03010437242163754\n",
      "Gradient Descent (2500/14999): loss=0.5151708154757387, gradient=0.028131749840285093\n",
      "Gradient Descent (2600/14999): loss=0.5144274352597575, gradient=0.026460001737582003\n",
      "Gradient Descent (2700/14999): loss=0.5137658544404596, gradient=0.025034267275724272\n",
      "Gradient Descent (2800/14999): loss=0.5131704702971358, gradient=0.023810415873717974\n",
      "Gradient Descent (2900/14999): loss=0.5126292974326444, gradient=0.02275280425400025\n",
      "Gradient Descent (3000/14999): loss=0.5121330344757822, gradient=0.02183253955021163\n",
      "Gradient Descent (3100/14999): loss=0.5116743928682533, gradient=0.021026125654577104\n",
      "Gradient Descent (3200/14999): loss=0.5112476086336527, gradient=0.02031440094711704\n",
      "Gradient Descent (3300/14999): loss=0.5108480833805242, gradient=0.019681699006761175\n",
      "Gradient Descent (3400/14999): loss=0.5104721176146044, gradient=0.019115181333074965\n",
      "Gradient Descent (3500/14999): loss=0.5101167107104211, gradient=0.018604303907318626\n",
      "Gradient Descent (3600/14999): loss=0.5097794095274673, gradient=0.018140388775425544\n",
      "Gradient Descent (3700/14999): loss=0.5094581928807719, gradient=0.017716278677444568\n",
      "Gradient Descent (3800/14999): loss=0.5091513826887157, gradient=0.017326057783237283\n",
      "Gradient Descent (3900/14999): loss=0.5088575751458738, gradient=0.016964825337528196\n",
      "Gradient Descent (4000/14999): loss=0.5085755870516259, gradient=0.016628511835618608\n",
      "Gradient Descent (4100/14999): loss=0.5083044136971903, gradient=0.016313729501718093\n",
      "Gradient Descent (4200/14999): loss=0.5080431956300867, gradient=0.016017650504586953\n",
      "Gradient Descent (4300/14999): loss=0.5077911922815553, gradient=0.015737907645667824\n",
      "Gradient Descent (4400/14999): loss=0.5075477609316904, gradient=0.015472513281868456\n",
      "Gradient Descent (4500/14999): loss=0.5073123398492723, gradient=0.0152197930623364\n",
      "Gradient Descent (4600/14999): loss=0.5070844347136689, gradient=0.014978331712545707\n",
      "Gradient Descent (4700/14999): loss=0.5068636076295454, gradient=0.014746928624593278\n",
      "Gradient Descent (4800/14999): loss=0.5066494681991954, gradient=0.014524561436263754\n",
      "Gradient Descent (4900/14999): loss=0.5064416662347906, gradient=0.014310356123658228\n",
      "Gradient Descent (5000/14999): loss=0.5062398857829953, gradient=0.014103562409060823\n",
      "Gradient Descent (5100/14999): loss=0.5060438402039401, gradient=0.013903533509964467\n",
      "Gradient Descent (5200/14999): loss=0.5058532681005028, gradient=0.01370970943694577\n",
      "Gradient Descent (5300/14999): loss=0.5056679299358833, gradient=0.013521603195512698\n",
      "Gradient Descent (5400/14999): loss=0.5054876052103755, gradient=0.013338789366700236\n",
      "Gradient Descent (5500/14999): loss=0.5053120900941066, gradient=0.013160894638344477\n",
      "Gradient Descent (5600/14999): loss=0.5051411954329209, gradient=0.012987589937894515\n",
      "Gradient Descent (5700/14999): loss=0.5049747450607517, gradient=0.012818583881777479\n",
      "Gradient Descent (5800/14999): loss=0.5048125743646604, gradient=0.012653617308507118\n",
      "Gradient Descent (5900/14999): loss=0.5046545290589476, gradient=0.012492458705183881\n",
      "Gradient Descent (6000/14999): loss=0.5045004641329291, gradient=0.012334900371603676\n",
      "Gradient Descent (6100/14999): loss=0.5043502429435164, gradient=0.01218075519435839\n",
      "Gradient Descent (6200/14999): loss=0.5042037364290073, gradient=0.01202985392627424\n",
      "Gradient Descent (6300/14999): loss=0.504060822424754, gradient=0.011882042885269629\n",
      "Gradient Descent (6400/14999): loss=0.5039213850647852, gradient=0.011737182002011294\n",
      "Gradient Descent (6500/14999): loss=0.5037853142562604, gradient=0.011595143158248094\n",
      "Gradient Descent (6600/14999): loss=0.5036525052158792, gradient=0.011455808767924259\n",
      "Gradient Descent (6700/14999): loss=0.5035228580592154, gradient=0.011319070561542738\n",
      "Gradient Descent (6800/14999): loss=0.5033962774354476, gradient=0.011184828541104997\n",
      "Gradient Descent (6900/14999): loss=0.5032726722011835, gradient=0.011052990078576993\n",
      "Gradient Descent (7000/14999): loss=0.5031519551280974, gradient=0.01092346913544768\n",
      "Gradient Descent (7100/14999): loss=0.5030340426399182, gradient=0.010796185584740802\n",
      "Gradient Descent (7200/14999): loss=0.5029188545750056, gradient=0.01067106461996333\n",
      "Gradient Descent (7300/14999): loss=0.5028063139713154, gradient=0.010548036238046735\n",
      "Gradient Descent (7400/14999): loss=0.5026963468710287, gradient=0.010427034785459973\n",
      "Gradient Descent (7500/14999): loss=0.5025888821425176, gradient=0.010307998558426875\n",
      "Gradient Descent (7600/14999): loss=0.5024838513176467, gradient=0.010190869449632175\n",
      "Gradient Descent (7700/14999): loss=0.5023811884426881, gradient=0.010075592635002998\n",
      "Gradient Descent (7800/14999): loss=0.5022808299413614, gradient=0.009962116295151762\n",
      "Gradient Descent (7900/14999): loss=0.502182714488708, gradient=0.009850391366896739\n",
      "Gradient Descent (8000/14999): loss=0.5020867828946726, gradient=0.00974037132096912\n",
      "Gradient Descent (8100/14999): loss=0.5019929779964086, gradient=0.00963201196259346\n",
      "Gradient Descent (8200/14999): loss=0.501901244558449, gradient=0.009525271252111943\n",
      "Gradient Descent (8300/14999): loss=0.5018115291799811, gradient=0.009420109143229017\n",
      "Gradient Descent (8400/14999): loss=0.5017237802085585, gradient=0.009316487436793728\n",
      "Gradient Descent (8500/14999): loss=0.5016379476596586, gradient=0.00921436964832477\n",
      "Gradient Descent (8600/14999): loss=0.5015539831415583, gradient=0.00911372088772599\n",
      "Gradient Descent (8700/14999): loss=0.5014718397850639, gradient=0.009014507749846027\n",
      "Gradient Descent (8800/14999): loss=0.5013914721776752, gradient=0.008916698214710328\n",
      "Gradient Descent (8900/14999): loss=0.501312836301811, gradient=0.008820261556402977\n",
      "Gradient Descent (9000/14999): loss=0.5012358894767639, gradient=0.008725168259702654\n",
      "Gradient Descent (9100/14999): loss=0.5011605903040794, gradient=0.008631389943686325\n",
      "Gradient Descent (9200/14999): loss=0.5010868986160928, gradient=0.008538899291607761\n",
      "Gradient Descent (9300/14999): loss=0.501014775427375, gradient=0.008447669986438896\n",
      "Gradient Descent (9400/14999): loss=0.5009441828888691, gradient=0.008357676651531715\n",
      "Gradient Descent (9500/14999): loss=0.500875084244516, gradient=0.008268894795919106\n",
      "Gradient Descent (9600/14999): loss=0.5008074437901863, gradient=0.008181300763825679\n"
     ]
    },
    {
     "name": "stdout",
     "output_type": "stream",
     "text": [
      "Gradient Descent (9700/14999): loss=0.5007412268347543, gradient=0.008094871688005649\n",
      "Gradient Descent (9800/14999): loss=0.5006763996631624, gradient=0.008009585446565057\n",
      "Gradient Descent (9900/14999): loss=0.5006129295013376, gradient=0.007925420622961078\n",
      "Gradient Descent (10000/14999): loss=0.5005507844828353, gradient=0.007842356468902077\n",
      "Gradient Descent (10100/14999): loss=0.5004899336170957, gradient=0.007760372869899766\n",
      "Gradient Descent (10200/14999): loss=0.500430346759205, gradient=0.007679450313249064\n",
      "Gradient Descent (10300/14999): loss=0.500371994581067, gradient=0.00759956985823273\n",
      "Gradient Descent (10400/14999): loss=0.5003148485438939, gradient=0.007520713108367252\n",
      "Gradient Descent (10500/14999): loss=0.5002588808719375, gradient=0.007442862185523497\n",
      "Gradient Descent (10600/14999): loss=0.5002040645273809, gradient=0.007365999705770883\n",
      "Gradient Descent (10700/14999): loss=0.5001503731863235, gradient=0.007290108756807825\n",
      "Gradient Descent (10800/14999): loss=0.5000977812157974, gradient=0.0072151728768530795\n",
      "Gradient Descent (10900/14999): loss=0.5000462636517494, gradient=0.007141176034884269\n",
      "Gradient Descent (11000/14999): loss=0.49999579617794004, gradient=0.007068102612119192\n",
      "Gradient Descent (11100/14999): loss=0.49994635510570334, gradient=0.006995937384645254\n",
      "Gradient Descent (11200/14999): loss=0.49989791735452427, gradient=0.006924665507109805\n",
      "Gradient Descent (11300/14999): loss=0.4998504604333852, gradient=0.006854272497392133\n",
      "Gradient Descent (11400/14999): loss=0.49980396242284625, gradient=0.006784744222184129\n",
      "Gradient Descent (11500/14999): loss=0.4997584019578137, gradient=0.006716066883412921\n",
      "Gradient Descent (11600/14999): loss=0.49971375821096964, gradient=0.006648227005444264\n",
      "Gradient Descent (11700/14999): loss=0.4996700108768213, gradient=0.0065812114230104635\n",
      "Gradient Descent (11800/14999): loss=0.4996271401563453, gradient=0.006515007269811104\n",
      "Gradient Descent (11900/14999): loss=0.4995851267421951, gradient=0.0064496019677392335\n",
      "Gradient Descent (12000/14999): loss=0.49954395180444283, gradient=0.006384983216689175\n",
      "Gradient Descent (12100/14999): loss=0.49950359697683483, gradient=0.006321138984905885\n",
      "Gradient Descent (12200/14999): loss=0.49946404434353286, gradient=0.006258057499838709\n",
      "Gradient Descent (12300/14999): loss=0.4994252764263187, gradient=0.006195727239465415\n",
      "Gradient Descent (12400/14999): loss=0.4993872761722451, gradient=0.006134136924055117\n",
      "Gradient Descent (12500/14999): loss=0.4993500269417079, gradient=0.006073275508340784\n",
      "Gradient Descent (12600/14999): loss=0.49931351249692363, gradient=0.006013132174074832\n",
      "Gradient Descent (12700/14999): loss=0.49927771699079637, gradient=0.0059536963229426644\n",
      "Gradient Descent (12800/14999): loss=0.499242624956153, gradient=0.005894957569811553\n",
      "Gradient Descent (12900/14999): loss=0.49920822129533576, gradient=0.0058369057362933395\n",
      "Gradient Descent (13000/14999): loss=0.4991744912701327, gradient=0.005779530844601613\n",
      "Gradient Descent (13100/14999): loss=0.4991414204920372, gradient=0.005722823111685022\n",
      "Gradient Descent (13200/14999): loss=0.49910899491281924, gradient=0.005666772943619881\n",
      "Gradient Descent (13300/14999): loss=0.4990772008153964, gradient=0.005611370930246562\n",
      "Gradient Descent (13400/14999): loss=0.49904602480499555, gradient=0.0055566078400350275\n",
      "Gradient Descent (13500/14999): loss=0.4990154538005897, gradient=0.00550247461516613\n",
      "Gradient Descent (13600/14999): loss=0.49898547502660306, gradient=0.00544896236681623\n",
      "Gradient Descent (13700/14999): loss=0.49895607600487096, gradient=0.0053960623706333696\n",
      "Gradient Descent (13800/14999): loss=0.49892724454684834, gradient=0.005343766062394298\n",
      "Gradient Descent (13900/14999): loss=0.4988989687460536, gradient=0.005292065033832256\n",
      "Gradient Descent (14000/14999): loss=0.4988712369707427, gradient=0.005240951028626163\n",
      "Gradient Descent (14100/14999): loss=0.4988440378568027, gradient=0.005190415938542428\n",
      "Gradient Descent (14200/14999): loss=0.49881736030085755, gradient=0.005140451799721291\n",
      "Gradient Descent (14300/14999): loss=0.4987911934535784, gradient=0.0050910507891000515\n",
      "Gradient Descent (14400/14999): loss=0.49876552671319213, gradient=0.00504220522096611\n",
      "Gradient Descent (14500/14999): loss=0.4987403497191788, gradient=0.00499390754363309\n",
      "Gradient Descent (14600/14999): loss=0.49871565234615434, gradient=0.004946150336234122\n",
      "Gradient Descent (14700/14999): loss=0.4986914246979293, gradient=0.004898926305626006\n",
      "Gradient Descent (14800/14999): loss=0.49866765710173905, gradient=0.004852228283399279\n",
      "Gradient Descent (14900/14999): loss=0.4986443401026408, gradient=0.004806049222988788\n",
      "Training loss: 0.49862169105964604\n",
      "Training accuracy: 0.7255085714285714\n",
      "Testing accuracy: 0.72516\n"
     ]
    }
   ],
   "source": [
    "max_iters = 15000\n",
    "w_initial = np.ones(tx_train.shape[1])\n",
    "\n",
    "# Run gradient descent \n",
    "w_lr, loss_lr = logistic_regression_mean(y_train, tx_train, w_initial, max_iters, gamma_opt_lr, \n",
    "                                    threshold=1e-7, verbose=True)\n",
    "print(f'Training loss: {loss_lr}')\n",
    "\n",
    "acc = eval_model(y_train, tx_train, w_lr, thresh=0.5)\n",
    "print(f'Training accuracy: {acc}')\n",
    "\n",
    "acc_lr = eval_model(y_eval, tx_eval, w_lr, thresh=0.5)\n",
    "print(f'Testing accuracy: {acc_lr}')"
   ]
  },
  {
   "cell_type": "markdown",
   "metadata": {},
   "source": [
    "# Compare model performance "
   ]
  },
  {
   "cell_type": "code",
   "execution_count": 204,
   "metadata": {},
   "outputs": [
    {
     "data": {
      "image/png": "[encoded data removed]",
      "text/plain": [
       "<Figure size 720x288 with 1 Axes>"
      ]
     },
     "metadata": {},
     "output_type": "display_data"
    }
   ],
   "source": [
    "accuracy = [acc_baseline, acc_ls, acc_ridge, acc_lr]\n",
    "labels = ['$\\mathtt{Base}$', '$\\mathtt{LeastSquares}$', '$\\mathtt{Ridge}$',  \n",
    "          '$\\mathtt{Logistic}$']\n",
    "\n",
    "fig = model_comparison_visualization(accuracy, labels, acc_baseline)\n",
    "fig.savefig('../report/model_comparison_basic.pdf', bbox_inches='tight')"
   ]
  },
  {
   "cell_type": "markdown",
   "metadata": {},
   "source": [
    "# Final training and test set prediction "
   ]
  },
  {
   "cell_type": "code",
   "execution_count": 18,
   "metadata": {},
   "outputs": [],
   "source": [
    "# Get all labelled records\n",
    "y, x, ids = load_csv_data(path.join(DATA_PATH, 'train.csv'))\n",
    "\n",
    "# Apply feature transform\n",
    "fx = feature_transform(x)\n",
    "\n",
    "fx=np.hstack((fx,fx**2,fx**3,fx**4,fx**5,fx**6))\n",
    "\n",
    "# Standardise to mean and s.d.\n",
    "fx, mu_x, sigma_x = standardise(fx)\n",
    "\n",
    "# Add offset term\n",
    "tx = np.c_[np.ones(len(y)), fx]"
   ]
  },
  {
   "cell_type": "code",
   "execution_count": 24,
   "metadata": {},
   "outputs": [
    {
     "name": "stdout",
     "output_type": "stream",
     "text": [
      "Gradient Descent (0/999): loss=0.46218039101850045, gradient=0.005280689004281295\n",
      "Gradient Descent (0/999): loss=0.46218039101850045, gradient=0.005280689004281295, w=[-1.11888916e+00  9.18700804e-01 -8.06746665e-01  1.61661628e-01\n",
      "  6.80409983e-01  7.09141966e-01  1.62297715e+00 -1.24389053e-01\n",
      "  2.70351647e-01 -5.34276777e-01  1.61377579e-01  7.88011612e-01\n",
      "  1.13781183e+00 -1.96535279e-03  1.89754782e-02  6.52037309e-01\n",
      "  1.26830973e-02  3.27640594e-02  4.47617033e-02  1.11561734e-02\n",
      "  8.29904761e-02  5.22842236e-01  8.38970617e-01  9.83052231e-01\n",
      "  9.86000496e-01  7.93159912e-01  7.84320552e-01  7.83907633e-01\n",
      "  1.85481611e-01  7.83978359e-01  6.11979294e-01  1.66187163e-01\n",
      " -1.92144228e+00 -2.98370438e-01  2.81405180e-01  2.97091705e-01\n",
      "  1.01350009e+00 -4.18763807e-01  1.67600883e-01  1.32899675e-01\n",
      "  1.21602600e+00 -6.28752293e-01 -6.71757611e-02 -6.31536607e-03\n",
      "  2.21631392e-02 -1.76894914e-01 -1.35152912e-03  3.34145225e-02\n",
      "  2.09305678e-02 -3.73135315e-01  2.07329501e-01  9.11920575e-01\n",
      "  1.01586342e+00  1.01578811e+00  1.21369395e+00  1.21602951e+00\n",
      "  1.21602150e+00 -3.18539245e-01  7.83978359e-01  7.89971496e-01\n",
      "  4.13940549e-01 -7.39028318e-01  6.00162813e-01 -1.22454338e-01\n",
      " -3.05029126e-01  1.00261570e+00 -1.45523285e-01  4.56963656e-02\n",
      "  5.17196033e-02  7.83978364e-01 -1.82304282e-01 -2.22893811e-02\n",
      " -1.81477838e-02 -1.09050715e-01 -3.11169580e-02 -3.36303897e-02\n",
      "  8.39030969e-01 -2.20808211e-02 -1.07545359e-01  1.93716816e-02\n",
      "  9.40847041e-01  9.84218276e-01  9.84218286e-01  7.81406748e-01\n",
      "  7.83978363e-01  7.83978359e-01  7.39066303e-03  7.83978359e-01\n",
      "  8.71576418e-01  1.00918585e-03  2.81432356e-02  9.31398239e-01\n",
      "  1.25571828e-01 -4.45684024e-01  1.00346849e+00  1.34526311e-01\n",
      " -8.40943303e-02  2.15413095e-02  1.21602165e+00  2.54595469e-01\n",
      " -7.73011934e-02 -2.48302488e-02 -5.58336773e-02 -6.62134440e-02\n",
      " -2.30692181e-02  9.77558676e-01 -1.49362903e-02  1.44701302e-01\n",
      " -9.40607496e-02  9.95548869e-01  1.01578172e+00  1.01578172e+00\n",
      "  1.21423959e+00  1.21602165e+00  1.21602165e+00  6.11083154e-02\n",
      "  7.83978359e-01  9.34614361e-01 -1.78011142e-01  1.86422161e-01\n",
      "  9.89582533e-01  4.00051627e-01 -3.51270070e-01  1.00410835e+00\n",
      "  1.22223507e-01 -2.53898880e-02 -8.06927712e-02  7.83978359e-01\n",
      "  3.13754431e-01  2.60056351e-02  2.97291679e-03 -2.56509214e-02\n",
      "  1.37591018e-02  6.69092273e-03  9.98836084e-01  9.96635791e-03\n",
      "  1.12284322e-01 -1.61681378e-01  9.72005425e-01  9.84218278e-01\n",
      "  9.84218278e-01  7.82819072e-01  7.83978359e-01  7.83978359e-01\n",
      " -5.80954837e-02  7.83978359e-01  9.36710197e-01 -1.54448434e-01\n",
      "  2.09726252e-01  1.00064232e+00  6.15031010e-01 -1.71469081e-01\n",
      "  1.00421976e+00 -1.17650264e-03  8.84369324e-02 -3.82142249e-02\n",
      "  1.21602165e+00  3.02077723e-01  3.30981856e-02  2.43932964e-02\n",
      " -6.56349662e-03  4.69119287e-02  2.08323796e-02  1.00286332e+00\n",
      " -1.00861513e-02 -2.50289087e-02 -2.02008901e-01  1.00622513e+00\n",
      "  1.01578172e+00  1.01578172e+00  1.21526789e+00  1.21602165e+00\n",
      "  1.21602165e+00 -1.54141684e-01  7.83978359e-01]\n",
      "Gradient Descent (5/999): loss=0.4621789969178655, gradient=0.005280155312728168\n",
      "Gradient Descent (10/999): loss=0.46217760309899214, gradient=0.005279621713994649\n",
      "Gradient Descent (15/999): loss=0.4621762095618026, gradient=0.005279088207577515\n",
      "Gradient Descent (20/999): loss=0.46217481630622015, gradient=0.005278554792971842\n",
      "Gradient Descent (25/999): loss=0.4621734233321678, gradient=0.005278021469671073\n",
      "Gradient Descent (30/999): loss=0.46217203063956935, gradient=0.005277488237166953\n",
      "Gradient Descent (35/999): loss=0.4621706382283482, gradient=0.005276955094949562\n",
      "Gradient Descent (40/999): loss=0.46216924609842897, gradient=0.005276422042507358\n",
      "Gradient Descent (45/999): loss=0.4621678542497357, gradient=0.005275889079327095\n",
      "Gradient Descent (50/999): loss=0.4621664626821932, gradient=0.0052753562048938815\n",
      "Gradient Descent (55/999): loss=0.4621650713957266, gradient=0.005274823418691174\n",
      "Gradient Descent (60/999): loss=0.46216368039026073, gradient=0.0052742907202007715\n",
      "Gradient Descent (65/999): loss=0.46216228966572126, gradient=0.005273758108902848\n",
      "Gradient Descent (70/999): loss=0.4621608992220344, gradient=0.005273225584275896\n",
      "Gradient Descent (75/999): loss=0.46215950905912584, gradient=0.005272693145796792\n",
      "Gradient Descent (80/999): loss=0.4621581191769222, gradient=0.005272160792940768\n",
      "Gradient Descent (85/999): loss=0.4621567295753501, gradient=0.005271628525181425\n",
      "Gradient Descent (90/999): loss=0.46215534025433647, gradient=0.005271096341990732\n",
      "Gradient Descent (95/999): loss=0.46215395121380876, gradient=0.005270564242839076\n",
      "Gradient Descent (100/999): loss=0.4621525624536945, gradient=0.005270032227195173\n",
      "Gradient Descent (105/999): loss=0.46215117397392136, gradient=0.005269500294526142\n",
      "Gradient Descent (110/999): loss=0.4621497857744177, gradient=0.005268968444297529\n",
      "Gradient Descent (115/999): loss=0.462148397855112, gradient=0.00526843667597327\n",
      "Gradient Descent (120/999): loss=0.4621470102159328, gradient=0.0052679049890156995\n",
      "Gradient Descent (125/999): loss=0.4621456228568095, gradient=0.005267373382885583\n",
      "Gradient Descent (130/999): loss=0.46214423577767116, gradient=0.005266841857042108\n",
      "Gradient Descent (135/999): loss=0.46214284897844754, gradient=0.0052663104109428975\n",
      "Gradient Descent (140/999): loss=0.46214146245906856, gradient=0.005265779044044035\n",
      "Gradient Descent (145/999): loss=0.4621400762194643, gradient=0.005265247755800006\n",
      "Gradient Descent (150/999): loss=0.4621386902595657, gradient=0.00526471654566381\n",
      "Gradient Descent (155/999): loss=0.4621373045793033, gradient=0.005264185413086894\n",
      "Gradient Descent (160/999): loss=0.46213591917860836, gradient=0.0052636543575191935\n",
      "Gradient Descent (165/999): loss=0.4621345340574123, gradient=0.005263123378409108\n",
      "Gradient Descent (170/999): loss=0.46213314921564697, gradient=0.005262592475203575\n",
      "Gradient Descent (175/999): loss=0.4621317646532443, gradient=0.005262061647348022\n",
      "Gradient Descent (180/999): loss=0.46213038037013665, gradient=0.00526153089428642\n",
      "Gradient Descent (185/999): loss=0.4621289963662567, gradient=0.005261000215461248\n",
      "Gradient Descent (190/999): loss=0.4621276126415375, gradient=0.0052604696103135526\n",
      "Gradient Descent (195/999): loss=0.4621262291959123, gradient=0.005259939078282945\n",
      "Gradient Descent (200/999): loss=0.4621248460293146, gradient=0.00525940861880758\n",
      "Gradient Descent (205/999): loss=0.4621234631416783, gradient=0.00525887823132425\n",
      "Gradient Descent (210/999): loss=0.4621220805329378, gradient=0.0052583479152682935\n",
      "Gradient Descent (215/999): loss=0.4621206982030274, gradient=0.0052578176700736985\n",
      "Gradient Descent (220/999): loss=0.46211931615188206, gradient=0.005257287495173077\n",
      "Gradient Descent (225/999): loss=0.4621179343794368, gradient=0.005256757389997705\n",
      "Gradient Descent (230/999): loss=0.46211655288562714, gradient=0.005256227353977471\n",
      "Gradient Descent (235/999): loss=0.4621151716703887, gradient=0.005255697386540984\n",
      "Gradient Descent (240/999): loss=0.46211379073365777, gradient=0.005255167487115524\n",
      "Gradient Descent (245/999): loss=0.4621124100753705, gradient=0.0052546376551271005\n",
      "Gradient Descent (250/999): loss=0.46211102969546386, gradient=0.005254107890000439\n",
      "Gradient Descent (255/999): loss=0.46210964959387446, gradient=0.005253578191159001\n",
      "Gradient Descent (260/999): loss=0.4621082697705398, gradient=0.005253048558025035\n",
      "Gradient Descent (265/999): loss=0.4621068902253977, gradient=0.005252518990019551\n",
      "Gradient Descent (270/999): loss=0.4621055109583858, gradient=0.005251989486562387\n",
      "Gradient Descent (275/999): loss=0.46210413196944256, gradient=0.005251460047072177\n",
      "Gradient Descent (280/999): loss=0.46210275325850647, gradient=0.005250930670966409\n",
      "Gradient Descent (285/999): loss=0.46210137482551633, gradient=0.005250401357661444\n",
      "Gradient Descent (290/999): loss=0.4620999966704117, gradient=0.005249872106572499\n",
      "Gradient Descent (295/999): loss=0.46209861879313185, gradient=0.005249342917113731\n",
      "Gradient Descent (300/999): loss=0.46209724119361645, gradient=0.005248813788698197\n",
      "Gradient Descent (305/999): loss=0.46209586387180596, gradient=0.005248284720737911\n",
      "Gradient Descent (310/999): loss=0.46209448682764076, gradient=0.005247755712643894\n",
      "Gradient Descent (315/999): loss=0.4620931100610616, gradient=0.005247226763826113\n"
     ]
    },
    {
     "name": "stdout",
     "output_type": "stream",
     "text": [
      "Gradient Descent (320/999): loss=0.4620917335720097, gradient=0.005246697873693576\n",
      "Gradient Descent (325/999): loss=0.46209035736042653, gradient=0.00524616904165437\n",
      "Gradient Descent (330/999): loss=0.4620889814262537, gradient=0.005245640267115602\n",
      "Gradient Descent (335/999): loss=0.4620876057694333, gradient=0.005245111549483507\n",
      "Gradient Descent (340/999): loss=0.4620862303899077, gradient=0.005244582888163447\n",
      "Gradient Descent (345/999): loss=0.46208485528761983, gradient=0.005244054282559914\n",
      "Gradient Descent (350/999): loss=0.46208348046251263, gradient=0.005243525732076585\n",
      "Gradient Descent (355/999): loss=0.46208210591452925, gradient=0.005242997236116369\n",
      "Gradient Descent (360/999): loss=0.46208073164361374, gradient=0.0052424687940813685\n",
      "Gradient Descent (365/999): loss=0.4620793576497099, gradient=0.005241940405372972\n",
      "Gradient Descent (370/999): loss=0.46207798393276206, gradient=0.0052414120693918525\n",
      "Gradient Descent (375/999): loss=0.4620766104927149, gradient=0.005240883785538007\n",
      "Gradient Descent (380/999): loss=0.4620752373295136, gradient=0.005240355553210797\n",
      "Gradient Descent (385/999): loss=0.46207386444310333, gradient=0.005239827371808958\n",
      "Gradient Descent (390/999): loss=0.4620724918334292, gradient=0.005239299240730656\n",
      "Gradient Descent (395/999): loss=0.4620711195004379, gradient=0.005238771159373451\n",
      "Gradient Descent (400/999): loss=0.46206974744407536, gradient=0.0052382431271344575\n",
      "Gradient Descent (405/999): loss=0.46206837566428816, gradient=0.005237715143410253\n",
      "Gradient Descent (410/999): loss=0.4620670041610233, gradient=0.005237187207596993\n",
      "Gradient Descent (415/999): loss=0.46206563293422814, gradient=0.005236659319090403\n",
      "Gradient Descent (420/999): loss=0.46206426198385003, gradient=0.005236131477285815\n",
      "Gradient Descent (425/999): loss=0.462062891309837, gradient=0.0052356036815782315\n",
      "Gradient Descent (430/999): loss=0.4620615209121371, gradient=0.00523507593136234\n",
      "Gradient Descent (435/999): loss=0.462060150790699, gradient=0.005234548226032551\n",
      "Gradient Descent (440/999): loss=0.46205878094547154, gradient=0.005234020564983032\n",
      "Gradient Descent (445/999): loss=0.4620574113764038, gradient=0.005233492947607768\n",
      "Gradient Descent (450/999): loss=0.46205604208344553, gradient=0.005232965373300543\n",
      "Gradient Descent (455/999): loss=0.46205467306654635, gradient=0.005232437841455088\n",
      "Gradient Descent (460/999): loss=0.4620533043256565, gradient=0.00523191035146501\n",
      "Gradient Descent (465/999): loss=0.46205193586072657, gradient=0.005231382902723846\n",
      "Gradient Descent (470/999): loss=0.4620505676717072, gradient=0.005230855494625184\n",
      "Gradient Descent (475/999): loss=0.4620491997585496, gradient=0.005230328126562638\n",
      "Gradient Descent (480/999): loss=0.4620478321212051, gradient=0.005229800797929876\n",
      "Gradient Descent (485/999): loss=0.4620464647596258, gradient=0.005229273508120719\n",
      "Gradient Descent (490/999): loss=0.4620450976737633, gradient=0.005228746256529144\n",
      "Gradient Descent (495/999): loss=0.4620437308635705, gradient=0.005228219042549347\n",
      "Gradient Descent (500/999): loss=0.4620423643289998, gradient=0.005227691865575751\n",
      "Gradient Descent (505/999): loss=0.46204099807000454, gradient=0.005227164725003124\n",
      "Gradient Descent (510/999): loss=0.46203963208653803, gradient=0.005226637620226546\n",
      "Gradient Descent (515/999): loss=0.46203826637855366, gradient=0.005226110550641488\n",
      "Gradient Descent (520/999): loss=0.46203690094600613, gradient=0.005225583515643856\n",
      "Gradient Descent (525/999): loss=0.462035535788849, gradient=0.005225056514630069\n",
      "Gradient Descent (530/999): loss=0.4620341709070377, gradient=0.005224529546997034\n",
      "Gradient Descent (535/999): loss=0.46203280630052673, gradient=0.0052240026121422745\n",
      "Gradient Descent (540/999): loss=0.4620314419692716, gradient=0.005223475709463914\n",
      "Gradient Descent (545/999): loss=0.46203007791322775, gradient=0.005222948838360783\n",
      "Gradient Descent (550/999): loss=0.4620287141323515, gradient=0.005222421998232382\n",
      "Gradient Descent (555/999): loss=0.4620273506265987, gradient=0.005221895188479036\n",
      "Gradient Descent (560/999): loss=0.4620259873959263, gradient=0.00522136840850191\n",
      "Gradient Descent (565/999): loss=0.46202462444029097, gradient=0.005220841657703011\n",
      "Gradient Descent (570/999): loss=0.46202326175965014, gradient=0.005220314935485272\n",
      "Gradient Descent (575/999): loss=0.46202189935396104, gradient=0.005219788241252629\n",
      "Gradient Descent (580/999): loss=0.46202053722318176, gradient=0.005219261574410067\n",
      "Gradient Descent (585/999): loss=0.46201917536727033, gradient=0.00521873493436362\n",
      "Gradient Descent (590/999): loss=0.46201781378618545, gradient=0.0052182083205204975\n",
      "Gradient Descent (595/999): loss=0.4620164524798857, gradient=0.0052176817322890845\n",
      "Gradient Descent (600/999): loss=0.46201509144833036, gradient=0.005217155169079027\n",
      "Gradient Descent (605/999): loss=0.46201373069147866, gradient=0.005216628630301286\n",
      "Gradient Descent (610/999): loss=0.4620123702092904, gradient=0.005216102115368191\n",
      "Gradient Descent (615/999): loss=0.4620110100017257, gradient=0.005215575623693451\n",
      "Gradient Descent (620/999): loss=0.4620096500687448, gradient=0.0052150491546922905\n",
      "Gradient Descent (625/999): loss=0.4620082904103085, gradient=0.005214522707781443\n",
      "Gradient Descent (630/999): loss=0.4620069310263775, gradient=0.005213996282379264\n",
      "Gradient Descent (635/999): loss=0.46200557191691344, gradient=0.00521346987790574\n",
      "Gradient Descent (640/999): loss=0.46200421308187756, gradient=0.0052129434937825455\n",
      "Gradient Descent (645/999): loss=0.46200285452123185, gradient=0.005212417129433154\n",
      "Gradient Descent (650/999): loss=0.4620014962349385, gradient=0.005211890784282849\n",
      "Gradient Descent (655/999): loss=0.46200013822296015, gradient=0.005211364457758813\n",
      "Gradient Descent (660/999): loss=0.4619987804852594, gradient=0.005210838149290161\n",
      "Gradient Descent (665/999): loss=0.46199742302179925, gradient=0.005210311858308023\n",
      "Gradient Descent (670/999): loss=0.46199606583254343, gradient=0.0052097855842456004\n",
      "Gradient Descent (675/999): loss=0.46199470891745514, gradient=0.005209259326538222\n",
      "Gradient Descent (680/999): loss=0.46199335227649885, gradient=0.005208733084623406\n",
      "Gradient Descent (685/999): loss=0.4619919959096384, gradient=0.005208206857940933\n",
      "Gradient Descent (690/999): loss=0.46199063981683874, gradient=0.005207680645932895\n",
      "Gradient Descent (695/999): loss=0.46198928399806444, gradient=0.0052071544480437595\n",
      "Gradient Descent (700/999): loss=0.4619879284532806, gradient=0.0052066282637204565\n",
      "Gradient Descent (705/999): loss=0.46198657318245306, gradient=0.00520610209241241\n",
      "Gradient Descent (710/999): loss=0.46198521818554705, gradient=0.005205575933571615\n",
      "Gradient Descent (715/999): loss=0.46198386346252895, gradient=0.0052050497866526725\n",
      "Gradient Descent (720/999): loss=0.461982509013365, gradient=0.005204523651112976\n",
      "Gradient Descent (725/999): loss=0.4619811548380215, gradient=0.005203997526412576\n",
      "Gradient Descent (730/999): loss=0.46197980093646557, gradient=0.005203471412014411\n",
      "Gradient Descent (735/999): loss=0.4619784473086644, gradient=0.005202945307384311\n",
      "Gradient Descent (740/999): loss=0.4619770939545852, gradient=0.005202419211991064\n",
      "Gradient Descent (745/999): loss=0.46197574087419563, gradient=0.0052018931253064666\n",
      "Gradient Descent (750/999): loss=0.4619743880674641, gradient=0.005201367046805421\n",
      "Gradient Descent (755/999): loss=0.4619730355343582, gradient=0.005200840975966016\n",
      "Gradient Descent (760/999): loss=0.46197168327484717, gradient=0.005200314912269497\n",
      "Gradient Descent (765/999): loss=0.46197033128889914, gradient=0.005199788855200478\n",
      "Gradient Descent (770/999): loss=0.4619689795764834, gradient=0.005199262804246879\n",
      "Gradient Descent (775/999): loss=0.4619676281375695, gradient=0.005198736758900079\n",
      "Gradient Descent (780/999): loss=0.4619662769721267, gradient=0.005198210718654919\n",
      "Gradient Descent (785/999): loss=0.461964926080125, gradient=0.005197684683009812\n",
      "Gradient Descent (790/999): loss=0.46196357546153455, gradient=0.0051971586514668105\n",
      "Gradient Descent (795/999): loss=0.4619622251163258, gradient=0.005196632623531646\n",
      "Gradient Descent (800/999): loss=0.46196087504446903, gradient=0.005196106598713809\n",
      "Gradient Descent (805/999): loss=0.4619595252459354, gradient=0.005195580576526619\n",
      "Gradient Descent (810/999): loss=0.4619581757206958, gradient=0.005195054556487303\n"
     ]
    },
    {
     "name": "stdout",
     "output_type": "stream",
     "text": [
      "Gradient Descent (815/999): loss=0.4619568264687219, gradient=0.005194528538117039\n",
      "Gradient Descent (820/999): loss=0.461955477489985, gradient=0.005194002520941044\n",
      "Gradient Descent (825/999): loss=0.46195412878445713, gradient=0.005193476504488613\n",
      "Gradient Descent (830/999): loss=0.4619527803521106, gradient=0.005192950488293224\n",
      "Gradient Descent (835/999): loss=0.4619514321929174, gradient=0.005192424471892584\n",
      "Gradient Descent (840/999): loss=0.46195008430685064, gradient=0.005191898454828685\n",
      "Gradient Descent (845/999): loss=0.4619487366938824, gradient=0.005191372436647906\n",
      "Gradient Descent (850/999): loss=0.4619473893539864, gradient=0.0051908464169010335\n",
      "Gradient Descent (855/999): loss=0.4619460422871356, gradient=0.005190320395143361\n",
      "Gradient Descent (860/999): loss=0.4619446954933036, gradient=0.005189794370934777\n",
      "Gradient Descent (865/999): loss=0.46194334897246403, gradient=0.005189268343839751\n",
      "Gradient Descent (870/999): loss=0.4619420027245913, gradient=0.005188742313427485\n",
      "Gradient Descent (875/999): loss=0.461940656749659, gradient=0.0051882162792719205\n",
      "Gradient Descent (880/999): loss=0.4619393110476419, gradient=0.005187690240951856\n",
      "Gradient Descent (885/999): loss=0.4619379656185145, gradient=0.005187164198050947\n",
      "Gradient Descent (890/999): loss=0.461936620462252, gradient=0.005186638150157845\n",
      "Gradient Descent (895/999): loss=0.461935275578829, gradient=0.0051861120968662135\n",
      "Gradient Descent (900/999): loss=0.4619339309682208, gradient=0.005185586037774783\n",
      "Gradient Descent (905/999): loss=0.4619325866304031, gradient=0.005185059972487455\n",
      "Gradient Descent (910/999): loss=0.46193124256535156, gradient=0.005184533900613354\n",
      "Gradient Descent (915/999): loss=0.4619298987730419, gradient=0.005184007821766872\n",
      "Gradient Descent (920/999): loss=0.46192855525345017, gradient=0.005183481735567727\n",
      "Gradient Descent (925/999): loss=0.4619272120065527, gradient=0.0051829556416410835\n",
      "Gradient Descent (930/999): loss=0.4619258690323258, gradient=0.005182429539617517\n",
      "Gradient Descent (935/999): loss=0.46192452633074643, gradient=0.005181903429133188\n",
      "Gradient Descent (940/999): loss=0.46192318390179116, gradient=0.005181377309829809\n",
      "Gradient Descent (945/999): loss=0.46192184174543716, gradient=0.005180851181354726\n",
      "Gradient Descent (950/999): loss=0.4619204998616615, gradient=0.005180325043361049\n",
      "Gradient Descent (955/999): loss=0.4619191582504417, gradient=0.005179798895507595\n",
      "Gradient Descent (960/999): loss=0.4619178169117551, gradient=0.005179272737459056\n",
      "Gradient Descent (965/999): loss=0.46191647584557943, gradient=0.005178746568885984\n",
      "Gradient Descent (970/999): loss=0.4619151350518925, gradient=0.005178220389464868\n",
      "Gradient Descent (975/999): loss=0.4619137945306726, gradient=0.0051776941988782126\n",
      "Gradient Descent (980/999): loss=0.4619124542818977, gradient=0.005177167996814555\n",
      "Gradient Descent (985/999): loss=0.46191111430554643, gradient=0.00517664178296857\n",
      "Gradient Descent (990/999): loss=0.46190977460159705, gradient=0.0051761155570410975\n",
      "Gradient Descent (995/999): loss=0.46190843517002816, gradient=0.005175589318739136\n",
      "Training loss: 0.46190736382087294\n",
      "Training accuracy: 0.763872\n"
     ]
    }
   ],
   "source": [
    "max_iters = 1000\n",
    "w_initial = np.ones(tx.shape[1])\n",
    "\n",
    "# Run gradient descent \n",
    "# w, loss = logistic_regression_mean(y, tx, w_initial, max_iters, gamma_opt_lr, \n",
    "#                                     threshold=1e-7, verbose=True)\n",
    "w, loss = logistic_regression_mean(y, tx, BEST3, max_iters, 0.01, \n",
    "                                     threshold=1e-7, verbose=True)\n",
    "print(f'Training loss: {loss}')\n",
    "\n",
    "acc = eval_model(y, tx, w, thresh=0.5)\n",
    "print(f'Training accuracy: {acc}')"
   ]
  },
  {
   "cell_type": "code",
   "execution_count": 23,
   "metadata": {},
   "outputs": [
    {
     "data": {
      "text/plain": [
       "array([-1.11888630e+00,  9.18700397e-01, -8.06744857e-01,  1.61650668e-01,\n",
       "        6.80399550e-01,  7.09129411e-01,  1.62296601e+00, -1.24388014e-01,\n",
       "        2.70350036e-01, -5.34271459e-01,  1.61380488e-01,  7.88011688e-01,\n",
       "        1.13781269e+00, -1.96523525e-03,  1.89756352e-02,  6.52032397e-01,\n",
       "        1.26831318e-02,  3.27641585e-02,  4.47582783e-02,  1.11562600e-02,\n",
       "        8.29890085e-02,  5.22842281e-01,  8.38972452e-01,  9.83052339e-01,\n",
       "        9.86000590e-01,  7.93159113e-01,  7.84320726e-01,  7.83907830e-01,\n",
       "        1.85480618e-01,  7.83978544e-01,  6.11984587e-01,  1.66186864e-01,\n",
       "       -1.92142442e+00, -2.98361316e-01,  2.81400873e-01,  2.97098463e-01,\n",
       "        1.01349729e+00, -4.18756865e-01,  1.67597682e-01,  1.32900944e-01,\n",
       "        1.21602581e+00, -6.28745879e-01, -6.71760773e-02, -6.31525086e-03,\n",
       "        2.21686920e-02, -1.76894843e-01, -1.35141722e-03,  3.34224084e-02,\n",
       "        2.09305110e-02, -3.73130671e-01,  2.07329452e-01,  9.11922200e-01,\n",
       "        1.01586332e+00,  1.01578802e+00,  1.21369357e+00,  1.21602932e+00,\n",
       "        1.21602131e+00, -3.18536578e-01,  7.83978544e-01,  7.89975637e-01,\n",
       "        4.13936089e-01, -7.39025988e-01,  6.00168602e-01, -1.22441845e-01,\n",
       "       -3.05020392e-01,  1.00261569e+00, -1.45524313e-01,  4.56959101e-02,\n",
       "        5.17188218e-02,  7.83978549e-01, -1.82313014e-01, -2.22896491e-02,\n",
       "       -1.81481632e-02, -1.09050941e-01, -3.11169883e-02, -3.36305898e-02,\n",
       "        8.39033536e-01, -2.20810545e-02, -1.07547172e-01,  1.93715521e-02,\n",
       "        9.40847892e-01,  9.84218370e-01,  9.84218380e-01,  7.81406897e-01,\n",
       "        7.83978548e-01,  7.83978544e-01,  7.38541854e-03,  7.83978544e-01,\n",
       "        8.71577354e-01,  1.01029620e-03,  2.81422327e-02,  9.31399562e-01,\n",
       "        1.25589034e-01, -4.45680888e-01,  1.00346851e+00,  1.34520896e-01,\n",
       "       -8.40923907e-02,  2.15405292e-02,  1.21602146e+00,  2.54590125e-01,\n",
       "       -7.73004989e-02, -2.48301701e-02, -5.58388360e-02, -6.62134333e-02,\n",
       "       -2.30691691e-02,  9.77559206e-01, -1.49364566e-02,  1.44696386e-01,\n",
       "       -9.40609372e-02,  9.95549148e-01,  1.01578163e+00,  1.01578163e+00,\n",
       "        1.21423940e+00,  1.21602146e+00,  1.21602146e+00,  6.11043940e-02,\n",
       "        7.83978544e-01,  9.34616065e-01, -1.78008163e-01,  1.86423878e-01,\n",
       "        9.89582843e-01,  4.00065420e-01, -3.51273945e-01,  1.00410835e+00,\n",
       "        1.22221633e-01, -2.53881460e-02, -8.06934324e-02,  7.83978544e-01,\n",
       "        3.13756143e-01,  2.60057964e-02,  2.97317393e-03, -2.56552871e-02,\n",
       "        1.37590946e-02,  6.69103547e-03,  9.98836204e-01,  9.96652818e-03,\n",
       "        1.12284024e-01, -1.61681605e-01,  9.72005765e-01,  9.84218372e-01,\n",
       "        9.84218372e-01,  7.82819257e-01,  7.83978544e-01,  7.83978544e-01,\n",
       "       -5.80939836e-02,  7.83978544e-01,  9.36710126e-01, -1.54446331e-01,\n",
       "        2.09730112e-01,  1.00064240e+00,  6.15041088e-01, -1.71478309e-01,\n",
       "        1.00421975e+00, -1.17244367e-03,  8.84377931e-02, -3.82153254e-02,\n",
       "        1.21602146e+00,  3.02083341e-01,  3.30977847e-02,  2.43931058e-02,\n",
       "       -6.56491305e-03,  4.69119062e-02,  2.08322210e-02,  1.00286335e+00,\n",
       "       -1.00859543e-02, -2.50223159e-02, -2.02009154e-01,  1.00622525e+00,\n",
       "        1.01578163e+00,  1.01578163e+00,  1.21526771e+00,  1.21602146e+00,\n",
       "        1.21602146e+00, -1.54135820e-01,  7.83978544e-01])"
      ]
     },
     "execution_count": 23,
     "metadata": {},
     "output_type": "execute_result"
    }
   ],
   "source": [
    "BEST=\"-1.11888630e+00  9.18700397e-01 -8.06744857e-01  1.61650668e-01 6.80399550e-01  7.09129411e-01  1.62296601e+00 -1.24388014e-01 2.70350036e-01 -5.34271459e-01  1.61380488e-01  7.88011688e-01 1.13781269e+00 -1.96523525e-03  1.89756352e-02  6.52032397e-01 1.26831318e-02  3.27641585e-02  4.47582783e-02  1.11562600e-02 8.29890085e-02  5.22842281e-01  8.38972452e-01  9.83052339e-01 9.86000590e-01  7.93159113e-01  7.84320726e-01  7.83907830e-01 1.85480618e-01  7.83978544e-01  6.11984587e-01  1.66186864e-01 -1.92142442e+00 -2.98361316e-01  2.81400873e-01  2.97098463e-01 1.01349729e+00 -4.18756865e-01  1.67597682e-01  1.32900944e-01 1.21602581e+00 -6.28745879e-01 -6.71760773e-02 -6.31525086e-03 2.21686920e-02 -1.76894843e-01 -1.35141722e-03  3.34224084e-02 2.09305110e-02 -3.73130671e-01  2.07329452e-01  9.11922200e-01 1.01586332e+00  1.01578802e+00  1.21369357e+00  1.21602932e+00 1.21602131e+00 -3.18536578e-01  7.83978544e-01  7.89975637e-01 4.13936089e-01 -7.39025988e-01  6.00168602e-01 -1.22441845e-01 -3.05020392e-01  1.00261569e+00 -1.45524313e-01  4.56959101e-02 5.17188218e-02  7.83978549e-01 -1.82313014e-01 -2.22896491e-02 -1.81481632e-02 -1.09050941e-01 -3.11169883e-02 -3.36305898e-02 8.39033536e-01 -2.20810545e-02 -1.07547172e-01  1.93715521e-02 9.40847892e-01  9.84218370e-01  9.84218380e-01  7.81406897e-01 7.83978548e-01  7.83978544e-01  7.38541854e-03  7.83978544e-01 8.71577354e-01  1.01029620e-03  2.81422327e-02  9.31399562e-01 1.25589034e-01 -4.45680888e-01  1.00346851e+00  1.34520896e-01 -8.40923907e-02  2.15405292e-02  1.21602146e+00  2.54590125e-01 -7.73004989e-02 -2.48301701e-02 -5.58388360e-02 -6.62134333e-02 -2.30691691e-02  9.77559206e-01 -1.49364566e-02  1.44696386e-01 -9.40609372e-02  9.95549148e-01  1.01578163e+00  1.01578163e+00 1.21423940e+00  1.21602146e+00  1.21602146e+00  6.11043940e-02 7.83978544e-01  9.34616065e-01 -1.78008163e-01  1.86423878e-01 9.89582843e-01  4.00065420e-01 -3.51273945e-01  1.00410835e+00 1.22221633e-01 -2.53881460e-02 -8.06934324e-02  7.83978544e-01 3.13756143e-01  2.60057964e-02  2.97317393e-03 -2.56552871e-02 1.37590946e-02  6.69103547e-03  9.98836204e-01  9.96652818e-03 1.12284024e-01 -1.61681605e-01  9.72005765e-01  9.84218372e-01 9.84218372e-01  7.82819257e-01  7.83978544e-01  7.83978544e-01 -5.80939836e-02  7.83978544e-01  9.36710126e-01 -1.54446331e-01 2.09730112e-01  1.00064240e+00  6.15041088e-01 -1.71478309e-01 1.00421975e+00 -1.17244367e-03  8.84377931e-02 -3.82153254e-02 1.21602146e+00  3.02083341e-01  3.30977847e-02  2.43931058e-02 -6.56491305e-03  4.69119062e-02  2.08322210e-02  1.00286335e+00 -1.00859543e-02 -2.50223159e-02 -2.02009154e-01  1.00622525e+00 1.01578163e+00  1.01578163e+00  1.21526771e+00  1.21602146e+00 1.21602146e+00 -1.54135820e-01  7.83978544e-01\"\n",
    "BEST2=BEST.split()\n",
    "BEST3=np.array([])\n",
    "for i in BEST2:\n",
    "    BEST3=np.append(BEST3,float(i))\n",
    "BEST3"
   ]
  },
  {
   "cell_type": "code",
   "execution_count": 25,
   "metadata": {},
   "outputs": [
    {
     "data": {
      "text/plain": [
       "(568238, 29)"
      ]
     },
     "execution_count": 25,
     "metadata": {},
     "output_type": "execute_result"
    }
   ],
   "source": [
    "# Load test data\n",
    "y_test, x_test, ids_test = load_csv_data(path.join(DATA_PATH, 'test.csv'))\n",
    "fx_test = feature_transform(x_test)\n",
    "fx_test.shape"
   ]
  },
  {
   "cell_type": "code",
   "execution_count": 26,
   "metadata": {},
   "outputs": [],
   "source": [
    "fx_test=np.hstack((fx_test,fx_test**2,fx_test**3,fx_test**4,fx_test**5,fx_test**6))\n",
    "\n",
    "# # Standardise to mean and s.d. of training data\n",
    "fx_test = standardise_to_fixed(fx_test, mu_x, sigma_x)\n",
    "\n",
    "# # Add offset term\n",
    "tx_test = np.c_[np.ones(fx_test.shape[0]), fx_test]"
   ]
  },
  {
   "cell_type": "code",
   "execution_count": 27,
   "metadata": {},
   "outputs": [],
   "source": [
    "# Get predictions on test set\n",
    "y_pred = predict_labels(w, tx_test, thresh=0.5)\n",
    "create_csv_submission(ids_test, y_pred, '../data/final_submission.csv')"
   ]
  },
  {
   "cell_type": "code",
   "execution_count": null,
   "metadata": {},
   "outputs": [],
   "source": []
  }
 ],
 "metadata": {
  "kernelspec": {
   "display_name": "Python 3",
   "language": "python",
   "name": "python3"
  },
  "language_info": {
   "codemirror_mode": {
    "name": "ipython",
    "version": 3
   },
   "file_extension": ".py",
   "mimetype": "text/x-python",
   "name": "python",
   "nbconvert_exporter": "python",
   "pygments_lexer": "ipython3",
   "version": "3.7.6"
  }
 },
 "nbformat": 4,
 "nbformat_minor": 4
}
