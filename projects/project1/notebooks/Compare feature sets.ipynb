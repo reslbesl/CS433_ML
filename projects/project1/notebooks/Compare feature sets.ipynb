{
 "cells": [
  {
   "cell_type": "code",
   "execution_count": 1,
   "metadata": {},
   "outputs": [],
   "source": [
    "%matplotlib inline\n",
    "%load_ext autoreload\n",
    "%autoreload 2"
   ]
  },
  {
   "cell_type": "code",
   "execution_count": 151,
   "metadata": {},
   "outputs": [],
   "source": [
    "import numpy as np\n",
    "import pandas as pd\n",
    "\n",
    "import sys\n",
    "sys.path.append('../scripts/')\n",
    "\n",
    "from proj1_helpers import *\n",
    "from implementations import *\n",
    "from implementation_variants import *\n",
    "from plots import *\n",
    "\n",
    "SEED = 42\n",
    "DATA_PATH = '../data/'"
   ]
  },
  {
   "cell_type": "markdown",
   "metadata": {},
   "source": [
    "# 0 Load data"
   ]
  },
  {
   "cell_type": "code",
   "execution_count": 3,
   "metadata": {},
   "outputs": [],
   "source": [
    "df_train = pd.read_csv('../data/train.csv')\n",
    "df_train = df_train.set_index('Id')\n",
    "df_train_x = df_train[list(filter(lambda c: c != 'Prediction', list(df_train)))]\n",
    "\n",
    "FEATURE_NAMES = list(df_train_x)"
   ]
  },
  {
   "cell_type": "code",
   "execution_count": 115,
   "metadata": {},
   "outputs": [
    {
     "name": "stdout",
     "output_type": "stream",
     "text": [
      " # train samples: 175000\n",
      " # eval samples: 75000\n"
     ]
    }
   ],
   "source": [
    " # Load train data\n",
    "y, x, ids = load_csv_data(path.join(DATA_PATH, 'train.csv'))\n",
    "\n",
    "# Split into train and evaluation set\n",
    "(x_train, y_train), (x_eval, y_eval) = train_eval_split(y, x, split_ratio=.7, seed=1)\n",
    "\n",
    "print(f' # train samples: {len(y_train)}\\n # eval samples: {len(y_eval)}')\n",
    "\n",
    "num_dim = x_train.shape[1]"
   ]
  },
  {
   "cell_type": "code",
   "execution_count": 6,
   "metadata": {},
   "outputs": [],
   "source": [
    "def generate_mask(features_to_remove):\n",
    "    feat_idx = [FEATURE_NAMES.index(f) for f in features_to_remove]\n",
    "    mask = np.ones(len(FEATURE_NAMES)).astype(bool)\n",
    "    mask[feat_idx] = False\n",
    "    \n",
    "    return mask"
   ]
  },
  {
   "cell_type": "code",
   "execution_count": 132,
   "metadata": {},
   "outputs": [],
   "source": [
    "LEAST_INFO = ['DER_mass_vis', 'DER_deltar_tau_lep','DER_pt_tot','PRI_tau_eta','PRI_tau_phi',\n",
    "              'PRI_lep_pt','PRI_lep_eta','PRI_lep_phi','PRI_met','PRI_met_phi']\n",
    "\n",
    "JET_NOT_DEFINED = ['DER_lep_eta_centrality', 'DER_prodeta_jet_jet', 'DER_mass_jet_jet', 'DER_deltaeta_jet_jet', \n",
    "                      'PRI_jet_subleading_eta', 'PRI_jet_subleading_phi', 'PRI_jet_subleading_pt']\n",
    "\n",
    "DER_FEATURES = list(filter(lambda c: 'DER' in c, list(FEATURE_NAMES)))\n",
    "\n",
    "feature_masks = [generate_mask([]), generate_mask(LEAST_INFO), generate_mask(JET_NOT_DEFINED)]\n",
    "\n",
    "labels = ['Raw', 'MostInfo', 'Jet', 'Impute', 'Indicator']"
   ]
  },
  {
   "cell_type": "code",
   "execution_count": 14,
   "metadata": {},
   "outputs": [],
   "source": [
    "def compare_features_visualisation(acc_train, acc_test, labels, model):\n",
    "    arr_train = acc_train.flatten()\n",
    "    arr_test = acc_test.flatten()\n",
    "\n",
    "    arr_features = np.concatenate([np.repeat(labels, acc_train.shape[1]), np.repeat(labels, acc_train.shape[1])])\n",
    "    arr_labels = np.concatenate([np.repeat('Train', len(arr_train)), np.repeat('Test', len(arr_test))])\n",
    "    arr_acc = np.concatenate([arr_train, arr_test])\n",
    "\n",
    "    plt_data = pd.DataFrame({'Feature Set':arr_features, 'Accuracy':arr_acc, 'Set':arr_labels})\n",
    "\n",
    "    fig, ax = plt.subplots(figsize=(10,6))\n",
    "    ax = sns.boxplot(x='Feature Set', y='Accuracy', hue='Set', data=plt_data)\n",
    "    ax.set(ylabel='$\\mathtt{Accuracy}$', title=f'{model}');\n",
    "    \n",
    "    return fig"
   ]
  },
  {
   "cell_type": "markdown",
   "metadata": {},
   "source": [
    "# 1 Least-Squares"
   ]
  },
  {
   "cell_type": "code",
   "execution_count": 95,
   "metadata": {},
   "outputs": [],
   "source": [
    "def run_least_squares(y_train, x_train, y_eval, x_eval, feature_mask):\n",
    "    # Remove unwanted features\n",
    "    x_train = x_train[:, feature_mask]\n",
    "    x_eval = x_eval[:, feature_mask]\n",
    "    \n",
    "    # Standardise to training mean and s.d.\n",
    "    x_train, mean_x, std_x = standardise(x_train)\n",
    "    x_eval = standardise_to_fixed(x_eval, mean_x, std_x)\n",
    "    \n",
    "    # Run training\n",
    "    w, loss = least_squares(y_train, x_train)\n",
    "#     print(f'Training loss: {loss}')\n",
    "\n",
    "    # Get training accuracy\n",
    "    acc_tr  = eval_model(y_train, x_train, w, thresh=0)\n",
    "#     print(f'Training accuracy: {acc_tr}')\n",
    "\n",
    "    # Get accuracy on evaluation set\n",
    "    acc_te = eval_model(y_eval, x_eval, w, thresh=0)\n",
    "    print(f'Test Accuracy: {acc_te}')\n",
    "    \n",
    "    return w, loss, acc_tr, acc_te"
   ]
  },
  {
   "cell_type": "code",
   "execution_count": 143,
   "metadata": {},
   "outputs": [
    {
     "name": "stdout",
     "output_type": "stream",
     "text": [
      "Feature Set:  Raw\n",
      "Test Accuracy: 0.7192457142857143\n",
      "Test Accuracy: 0.7175542857142857\n",
      "Test Accuracy: 0.7191314285714285\n",
      "Test Accuracy: 0.7180342857142857\n",
      "Feature Set:  MostInfo\n",
      "Test Accuracy: 0.7092114285714286\n",
      "Test Accuracy: 0.7069485714285715\n",
      "Test Accuracy: 0.7116114285714286\n",
      "Test Accuracy: 0.7067885714285714\n",
      "Feature Set:  Jet\n",
      "Test Accuracy: 0.7086628571428571\n",
      "Test Accuracy: 0.7079771428571429\n",
      "Test Accuracy: 0.7071085714285714\n",
      "Test Accuracy: 0.7056685714285714\n",
      "Feature Set: Impute\n",
      "Test Accuracy: 0.71952\n",
      "Test Accuracy: 0.7175542857142857\n",
      "Test Accuracy: 0.7188571428571429\n",
      "Test Accuracy: 0.7179428571428571\n",
      "Feature Set: Indicator\n",
      "Test Accuracy: 0.7205714285714285\n",
      "Test Accuracy: 0.7192685714285715\n",
      "Test Accuracy: 0.7202514285714285\n",
      "Test Accuracy: 0.7194514285714285\n"
     ]
    },
    {
     "data": {
      "image/png": "[encoded data removed]",
      "text/plain": [
       "<Figure size 720x432 with 1 Axes>"
      ]
     },
     "metadata": {},
     "output_type": "display_data"
    }
   ],
   "source": [
    "k_fold = 4\n",
    "\n",
    "# Hyperparameter optimisation\n",
    "acc_train = np.empty((len(feature_masks)+2, k_fold), float)\n",
    "acc_test = np.empty((len(feature_masks)+2, k_fold), float)\n",
    "    \n",
    "for i, features in enumerate(feature_masks):\n",
    "    print('Feature Set: ', labels[i])\n",
    "    k = 0\n",
    "    for train_split, test_split in k_fold_iter(y_train, x_train, k_fold):\n",
    "            # Run evaluation\n",
    "            w, loss, acc_tr, acc_te = run_least_squares(train_split[1], train_split[0], \n",
    "                                                        test_split[1], test_split[0], features)\n",
    "            acc_train[i, k] = acc_tr\n",
    "            acc_test[i, k] = acc_te\n",
    "            \n",
    "            k+=1\n",
    "            \n",
    "print('Feature Set: Impute')\n",
    "col_index = [FEATURE_NAMES.index(i) for i in JET_NOT_DEFINED]\n",
    "x_train_imp = x_train.copy()\n",
    "x_train_imp[x_train_imp == -999] = -100\n",
    "\n",
    "x_eval_imp = x_eval.copy()\n",
    "x_eval_imp[x_eval_imp == -999] = -100\n",
    "\n",
    "features = generate_mask([])\n",
    "\n",
    "k = 0\n",
    "for train_split, test_split in k_fold_iter(y_train, x_train_imp, k_fold):\n",
    "        # Run evaluation\n",
    "        w, loss, acc_tr, acc_te = run_least_squares(train_split[1], train_split[0], \n",
    "                                                    test_split[1], test_split[0], features)\n",
    "        acc_train[-2, k] = acc_tr\n",
    "        acc_test[-2, k] = acc_te\n",
    "\n",
    "        k+=1\n",
    "        \n",
    "print('Feature Set: Indicator')\n",
    "JET_NUM_IDX = FEATURE_NAMES.index('PRI_jet_num')\n",
    "\n",
    "x_ind = (x_train[:, JET_NUM_IDX] > 1).astype(int)\n",
    "# x_train_imp = np.delete(x_train, JET_NUM_IDX, axis=1)\n",
    "x_train_imp = np.concatenate([x_train, np.expand_dims(x_ind, axis=1)], axis=1)\n",
    "\n",
    "features = generate_mask(['DER_deltaeta_jet_jet', 'DER_prodeta_jet_jet'])\n",
    "features = np.concatenate([features, [True]])\n",
    "\n",
    "k = 0\n",
    "for train_split, test_split in k_fold_iter(y_train, x_train_imp, k_fold):\n",
    "        # Run evaluation\n",
    "        w, loss, acc_tr, acc_te = run_least_squares(train_split[1], train_split[0], \n",
    "                                                    test_split[1], test_split[0], features)\n",
    "        acc_train[-1, k] = acc_tr\n",
    "        acc_test[-1, k] = acc_te\n",
    "\n",
    "        k+=1\n",
    "            \n",
    "fig = compare_features_visualisation(acc_train, acc_test, labels, '$\\mathtt{LeastSquares}$')\n",
    "fig.savefig('../report/compare_features_ls.pdf', bbox_inches='tight')"
   ]
  },
  {
   "cell_type": "markdown",
   "metadata": {},
   "source": [
    "# 2 Ridge Regresion"
   ]
  },
  {
   "cell_type": "code",
   "execution_count": 146,
   "metadata": {},
   "outputs": [],
   "source": [
    "def run_ridge(y_train, x_train, y_eval, x_eval, feature_mask):\n",
    "    # Remove unwanted features\n",
    "    x_train = x_train[:, feature_mask]\n",
    "    x_eval = x_eval[:, feature_mask]\n",
    "    \n",
    "    # Standardise to training mean and s.d.\n",
    "    x_train, mean_x, std_x = standardise(x_train)\n",
    "    x_eval = standardise_to_fixed(x_eval, mean_x, std_x)\n",
    "    \n",
    "    lambdas = np.logspace(-8, -1, 10)\n",
    "    k_fold = 4\n",
    "\n",
    "    # Hyperparameter optimisation\n",
    "    acc_train = np.empty((len(lambdas), k_fold), float)\n",
    "    acc_test = np.empty((len(lambdas), k_fold), float)\n",
    "\n",
    "    for l, lambda_ in enumerate(lambdas):\n",
    "        k = 0\n",
    "        for train_split, test_split in k_fold_iter(y_train, x_train, k_fold):\n",
    "            # Train\n",
    "            w, loss = ridge_regression(train_split[1], train_split[0], lambda_)\n",
    "            acc_tr = eval_model(train_split[1], train_split[0], w)\n",
    "            acc_train[l, k] = acc_tr\n",
    "\n",
    "            # Test\n",
    "            acc_te = eval_model(test_split[1], test_split[0], w)\n",
    "            acc_test[l, k] = acc_te\n",
    "\n",
    "            k += 1\n",
    "#     fig = cross_validation_visualization(lambdas, 1-acc_train, 1-acc_test)\n",
    "\n",
    "    avg_acc_test = np.mean(acc_test, axis=1)\n",
    "    lambda_opt_ridge = lambdas[np.argmax(avg_acc_test)]\n",
    "\n",
    "    print('Maximum test accuracy {} with lambda {}'.format(np.max(avg_acc_test), lambda_opt_ridge))\n",
    "    \n",
    "    # Run training\n",
    "    w, loss = ridge_regression(y_train, x_train, lambda_opt_ridge)\n",
    "#     print(f'Training loss: {loss_ridge}')\n",
    "\n",
    "    acc_tr = eval_model(y_train, x_train, w)\n",
    "#     print(f'Training accuracy: {acc}')\n",
    "\n",
    "    acc_te = eval_model(y_eval, x_eval, w)\n",
    "    print(f'Test accuracy: {acc_te}')\n",
    "    \n",
    "    \n",
    "    return w, loss, acc_tr, acc_te\n",
    "    "
   ]
  },
  {
   "cell_type": "code",
   "execution_count": 147,
   "metadata": {
    "scrolled": false
   },
   "outputs": [
    {
     "name": "stdout",
     "output_type": "stream",
     "text": [
      "Feature Set Raw\n",
      "Maximum test accuracy 0.7186928562720956 with lambda 5.99484250318941e-08\n",
      "Test accuracy: 0.7196342857142857\n",
      "Maximum test accuracy 0.7184947580153602 with lambda 1e-08\n",
      "Test accuracy: 0.7175314285714286\n",
      "Maximum test accuracy 0.7182966597586249 with lambda 1e-08\n",
      "Test accuracy: 0.7194742857142857\n",
      "Maximum test accuracy 0.7182357064488601 with lambda 3.5938136638046254e-07\n",
      "Test accuracy: 0.71792\n",
      "Feature Set MostInfo\n",
      "Maximum test accuracy 0.7093212848957698 with lambda 5.99484250318941e-08\n",
      "Test accuracy: 0.7092114285714286\n",
      "Maximum test accuracy 0.7091612824576374 with lambda 5.99484250318941e-08\n",
      "Test accuracy: 0.7069257142857143\n",
      "Maximum test accuracy 0.7077898329879312 with lambda 1e-08\n",
      "Test accuracy: 0.71168\n",
      "Maximum test accuracy 0.7090850908204315 with lambda 1e-08\n",
      "Test accuracy: 0.7068342857142857\n",
      "Feature Set Jet\n",
      "Maximum test accuracy 0.7073936364744604 with lambda 1e-08\n",
      "Test accuracy: 0.7084114285714286\n",
      "Maximum test accuracy 0.7066164817749604 with lambda 7.742636826811278e-05\n",
      "Test accuracy: 0.7079542857142858\n",
      "Maximum test accuracy 0.7071117274167987 with lambda 0.0004641588833612782\n",
      "Test accuracy: 0.7069942857142857\n",
      "Maximum test accuracy 0.7069441058149458 with lambda 7.742636826811278e-05\n",
      "Test accuracy: 0.7056914285714285\n",
      "Feature Set: Impute\n",
      "Maximum test accuracy 0.7187995245641838 with lambda 2.1544346900318865e-06\n",
      "Test accuracy: 0.7196342857142857\n",
      "Maximum test accuracy 0.7186776179446545 with lambda 1.2915496650148827e-05\n",
      "Test accuracy: 0.7177371428571429\n",
      "Maximum test accuracy 0.7185023771790808 with lambda 2.1544346900318865e-06\n",
      "Test accuracy: 0.71936\n",
      "Maximum test accuracy 0.7183728513958308 with lambda 1.2915496650148827e-05\n",
      "Test accuracy: 0.7179428571428571\n",
      "Feature Set: Indicator\n",
      "Maximum test accuracy 0.7200795440692429 with lambda 1e-08\n",
      "Test accuracy: 0.7208\n",
      "Maximum test accuracy 0.7195157259539193 with lambda 1e-08\n",
      "Test accuracy: 0.7191542857142857\n",
      "Maximum test accuracy 0.7191804827502134 with lambda 1e-08\n",
      "Test accuracy: 0.7201828571428571\n",
      "Maximum test accuracy 0.7196528709008899 with lambda 1e-08\n",
      "Test accuracy: 0.7189257142857143\n"
     ]
    },
    {
     "data": {
      "image/png": "[encoded data removed]",
      "text/plain": [
       "<Figure size 720x432 with 1 Axes>"
      ]
     },
     "metadata": {},
     "output_type": "display_data"
    }
   ],
   "source": [
    "k_fold = 4\n",
    "\n",
    "# Hyperparameter optimisation\n",
    "acc_train = np.empty((len(labels), k_fold), float)\n",
    "acc_test = np.empty((len(labels), k_fold), float)\n",
    "    \n",
    "for i, features in enumerate(feature_masks):\n",
    "    print('\\nFeature Set', labels[i])\n",
    "    k = 0\n",
    "    for train_split, test_split in k_fold_iter(y_train, x_train, k_fold):\n",
    "            # Run evaluation\n",
    "            w, loss, acc_tr, acc_te = run_ridge(train_split[1], train_split[0], \n",
    "                                                        test_split[1], test_split[0], features)\n",
    "            acc_train[i, k] = acc_tr\n",
    "            acc_test[i, k] = acc_te\n",
    "            \n",
    "            k+=1\n",
    "            \n",
    "print('\\nFeature Set: Impute')\n",
    "col_index = [FEATURE_NAMES.index(i) for i in JET_NOT_DEFINED]\n",
    "x_train_imp = x_train.copy()\n",
    "x_train_imp[x_train_imp == -999] = -100\n",
    "\n",
    "x_eval_imp = x_eval.copy()\n",
    "x_eval_imp[x_eval_imp == -999] = -100\n",
    "\n",
    "features = generate_mask([])\n",
    "\n",
    "k = 0\n",
    "for train_split, test_split in k_fold_iter(y_train, x_train_imp, k_fold):\n",
    "        # Run evaluation\n",
    "        w, loss, acc_tr, acc_te = run_ridge(train_split[1], train_split[0], \n",
    "                                                    test_split[1], test_split[0], features)\n",
    "        acc_train[-2, k] = acc_tr\n",
    "        acc_test[-2, k] = acc_te\n",
    "\n",
    "        k+=1\n",
    "        \n",
    "print('\\nFeature Set: Indicator')\n",
    "JET_NUM_IDX = FEATURE_NAMES.index('PRI_jet_num')\n",
    "\n",
    "x_ind = (x_train[:, JET_NUM_IDX] > 1).astype(int)\n",
    "# x_train_imp = np.delete(x_train, JET_NUM_IDX, axis=1)\n",
    "x_train_imp = np.concatenate([x_train, np.expand_dims(x_ind, axis=1)], axis=1)\n",
    "\n",
    "features = generate_mask(['DER_deltaeta_jet_jet', 'DER_prodeta_jet_jet'])\n",
    "features = np.concatenate([features, [True]])\n",
    "\n",
    "k = 0\n",
    "for train_split, test_split in k_fold_iter(y_train, x_train_imp, k_fold):\n",
    "        # Run evaluation\n",
    "        w, loss, acc_tr, acc_te = run_ridge(train_split[1], train_split[0], \n",
    "                                                    test_split[1], test_split[0], features)\n",
    "        acc_train[-1, k] = acc_tr\n",
    "        acc_test[-1, k] = acc_te\n",
    "\n",
    "        k+=1\n",
    "            \n",
    "fig = compare_features_visualisation(acc_train, acc_test, labels, '$\\mathtt{Ridge}$')\n",
    "fig.savefig('../report/compare_features_ridge.pdf', bbox_inches='tight')"
   ]
  },
  {
   "cell_type": "markdown",
   "metadata": {},
   "source": [
    "# 3 Logistic Regression"
   ]
  },
  {
   "cell_type": "code",
   "execution_count": 162,
   "metadata": {},
   "outputs": [],
   "source": [
    "def run_logistic(y_train, x_train, y_eval, x_eval, feature_mask):\n",
    "    # Remove unwanted features\n",
    "    x_train = x_train[:, feature_mask]\n",
    "    x_eval = x_eval[:, feature_mask]\n",
    "    \n",
    "    # Standardise to training mean and s.d.\n",
    "    x_train, mean_x, std_x = standardise(x_train)\n",
    "    x_eval = standardise_to_fixed(x_eval, mean_x, std_x)\n",
    "\n",
    "    tx_train = np.c_[np.ones(x_train.shape[0]), x_train]\n",
    "    tx_eval = np.c_[np.ones(x_eval.shape[0]), x_eval]\n",
    "    \n",
    "    gamma = 2e-5\n",
    "    max_iters = 10000\n",
    "    w_initial = np.zeros(tx_train.shape[1])\n",
    "\n",
    "    # Run gradient descent \n",
    "    w, loss = logistic_regression_mean(y_train, tx_train, w_initial, max_iters, gamma, threshold=1e-6)\n",
    "#     print(f'Training loss: {loss_lr}')\n",
    "\n",
    "    acc_tr = eval_model(y_train, tx_train, w, thresh=0.5)\n",
    "#     print(f'Training accuracy: {acc}')\n",
    "\n",
    "    acc_te = eval_model(y_eval, tx_eval, w, thresh=0.5)\n",
    "    print(f'Testing accuracy: {acc_te}')\n",
    "    \n",
    "    return w, loss, acc_tr, acc_te"
   ]
  },
  {
   "cell_type": "code",
   "execution_count": 163,
   "metadata": {},
   "outputs": [
    {
     "name": "stdout",
     "output_type": "stream",
     "text": [
      "Feature Set:  Raw\n",
      "Testing accuracy: 0.6612114285714286\n",
      "Testing accuracy: 0.6580114285714286\n",
      "Testing accuracy: 0.6564342857142857\n",
      "Testing accuracy: 0.6564342857142857\n",
      "Feature Set:  MostInfo\n",
      "Testing accuracy: 0.6612342857142857\n",
      "Testing accuracy: 0.6580571428571429\n",
      "Testing accuracy: 0.6565942857142857\n",
      "Testing accuracy: 0.6565028571428572\n",
      "Feature Set:  Jet\n",
      "Testing accuracy: 0.66112\n",
      "Testing accuracy: 0.6581257142857143\n",
      "Testing accuracy: 0.65632\n",
      "Testing accuracy: 0.6560228571428571\n",
      "Feature Set: Impute\n",
      "Testing accuracy: 0.6616685714285714\n",
      "Testing accuracy: 0.6584685714285714\n",
      "Testing accuracy: 0.65664\n",
      "Testing accuracy: 0.6569142857142857\n",
      "Feature Set: Indicator\n",
      "Testing accuracy: 0.6611885714285715\n",
      "Testing accuracy: 0.6580342857142857\n",
      "Testing accuracy: 0.6564342857142857\n",
      "Testing accuracy: 0.6563885714285714\n"
     ]
    },
    {
     "data": {
      "image/png": "[encoded data removed]",
      "text/plain": [
       "<Figure size 720x432 with 1 Axes>"
      ]
     },
     "metadata": {},
     "output_type": "display_data"
    }
   ],
   "source": [
    "k_fold = 4\n",
    "\n",
    "# Hyperparameter optimisation\n",
    "acc_train = np.empty((len(feature_masks)+2, k_fold), float)\n",
    "acc_test = np.empty((len(feature_masks)+2, k_fold), float)\n",
    "    \n",
    "for i, features in enumerate(feature_masks):\n",
    "    print('Feature Set: ', labels[i])\n",
    "    k = 0\n",
    "    for train_split, test_split in k_fold_iter(y_train, x_train, k_fold):\n",
    "            # Run evaluation\n",
    "            w, loss, acc_tr, acc_te = run_logistic(train_split[1], train_split[0], \n",
    "                                                        test_split[1], test_split[0], features)\n",
    "            acc_train[i, k] = acc_tr\n",
    "            acc_test[i, k] = acc_te\n",
    "            \n",
    "            k+=1\n",
    "            \n",
    "print('Feature Set: Impute')\n",
    "col_index = [FEATURE_NAMES.index(i) for i in JET_NOT_DEFINED]\n",
    "x_train_imp = x_train.copy()\n",
    "x_train_imp[x_train_imp == -999] = -100\n",
    "\n",
    "x_eval_imp = x_eval.copy()\n",
    "x_eval_imp[x_eval_imp == -999] = -100\n",
    "\n",
    "features = generate_mask([])\n",
    "\n",
    "k = 0\n",
    "for train_split, test_split in k_fold_iter(y_train, x_train_imp, k_fold):\n",
    "        # Run evaluation\n",
    "        w, loss, acc_tr, acc_te = run_logistic(train_split[1], train_split[0], \n",
    "                                                    test_split[1], test_split[0], features)\n",
    "        acc_train[-2, k] = acc_tr\n",
    "        acc_test[-2, k] = acc_te\n",
    "\n",
    "        k+=1\n",
    "        \n",
    "print('Feature Set: Indicator')\n",
    "JET_NUM_IDX = FEATURE_NAMES.index('PRI_jet_num')\n",
    "\n",
    "x_ind = (x_train[:, JET_NUM_IDX] > 1).astype(int)\n",
    "# x_train_imp = np.delete(x_train, JET_NUM_IDX, axis=1)\n",
    "x_train_imp = np.concatenate([x_train, np.expand_dims(x_ind, axis=1)], axis=1)\n",
    "\n",
    "features = generate_mask(['DER_deltaeta_jet_jet', 'DER_prodeta_jet_jet'])\n",
    "features = np.concatenate([features, [True]])\n",
    "\n",
    "k = 0\n",
    "for train_split, test_split in k_fold_iter(y_train, x_train_imp, k_fold):\n",
    "        # Run evaluation\n",
    "        w, loss, acc_tr, acc_te = run_logistic(train_split[1], train_split[0], \n",
    "                                                    test_split[1], test_split[0], features)\n",
    "        acc_train[-1, k] = acc_tr\n",
    "        acc_test[-1, k] = acc_te\n",
    "\n",
    "        k+=1\n",
    "            \n",
    "fig = compare_features_visualisation(acc_train, acc_test, labels, '$\\mathtt{LogReg}$')\n",
    "fig.savefig('../report/compare_features_logreg.pdf', bbox_inches='tight')"
   ]
  },
  {
   "cell_type": "markdown",
   "metadata": {},
   "source": [
    "# -------------"
   ]
  },
  {
   "cell_type": "markdown",
   "metadata": {},
   "source": [
    "# Compare model performance on best performing feature set "
   ]
  },
  {
   "cell_type": "markdown",
   "metadata": {},
   "source": [
    "##### Data Processing"
   ]
  },
  {
   "cell_type": "code",
   "execution_count": 172,
   "metadata": {},
   "outputs": [],
   "source": [
    "JET_NUM_IDX = FEATURE_NAMES.index('PRI_jet_num')\n",
    "\n",
    "def feature_transform(x):\n",
    "    x_ind = (x[:, JET_NUM_IDX] > 1).astype(int)\n",
    "    x = np.concatenate([x, np.expand_dims(x_ind, axis=1)], axis=1)\n",
    "\n",
    "    features = generate_mask(['DER_deltaeta_jet_jet', 'DER_prodeta_jet_jet'])\n",
    "    features = np.concatenate([features, [True]])\n",
    "\n",
    "    x = x[:, features]\n",
    "    \n",
    "    return x\n",
    "\n",
    "fx_train = feature_transform(x_train)\n",
    "fx_eval = feature_transform(x_eval)\n",
    "\n",
    "fx_train, mu_x, sigma_x = standardise(fx_train)\n",
    "fx_eval = standardise_to_fixed(fx_eval, mu_x, sigma_x)\n",
    "\n",
    "tx_train = np.c_[np.ones(fx_train.shape[0]), fx_train]\n",
    "tx_eval = np.c_[np.ones(fx_eval.shape[0]), fx_eval]"
   ]
  },
  {
   "cell_type": "markdown",
   "metadata": {},
   "source": [
    "##### Baseline"
   ]
  },
  {
   "cell_type": "code",
   "execution_count": 183,
   "metadata": {},
   "outputs": [
    {
     "name": "stdout",
     "output_type": "stream",
     "text": [
      "Testing Accuracy: 0.5495733333333334\n"
     ]
    }
   ],
   "source": [
    "# Get baseline frequency of the two classes in training data\n",
    "prior_probs = [sum(y_train == 1)/len(y_train), sum(y_train == 0)/len(y_train)]\n",
    "\n",
    "# Test error on evaluation set\n",
    "y_eval_pred = np.random.choice([1., 0], size=len(y_eval), p=prior_probs)\n",
    "\n",
    "acc_baseline = get_accuracy(y_eval_pred, y_eval)\n",
    "\n",
    "print(f'Testing Accuracy: {acc_baseline}')"
   ]
  },
  {
   "cell_type": "markdown",
   "metadata": {},
   "source": [
    "##### Train LeastSquares"
   ]
  },
  {
   "cell_type": "code",
   "execution_count": 184,
   "metadata": {},
   "outputs": [
    {
     "name": "stdout",
     "output_type": "stream",
     "text": [
      "Training loss: 0.14301235921139813\n",
      "Training accuracy: 0.7197485714285714\n",
      "Test Accuracy: 0.719\n"
     ]
    }
   ],
   "source": [
    "# Get linear least-squares model\n",
    "w_ls, loss_ls = least_squares(y_train, fx_train)\n",
    "print(f'Training loss: {loss_ls}')\n",
    "\n",
    "# Get training accuracy\n",
    "acc_tr  = eval_model(y_train, fx_train, w_ls, thresh=0)\n",
    "print(f'Training accuracy: {acc_tr}')\n",
    "\n",
    "# Get accuracy on evaluation set\n",
    "acc_ls = eval_model(y_eval, fx_eval, w_ls, thresh=0)\n",
    "print(f'Test Accuracy: {acc_ls}')"
   ]
  },
  {
   "cell_type": "markdown",
   "metadata": {},
   "source": [
    "##### Train Ridge"
   ]
  },
  {
   "cell_type": "code",
   "execution_count": 185,
   "metadata": {},
   "outputs": [
    {
     "name": "stdout",
     "output_type": "stream",
     "text": [
      "lambda: 1e-09\n",
      "lambda: 2.9763514416313133e-09\n",
      "lambda: 8.858667904100832e-09\n",
      "lambda: 2.6366508987303555e-08\n",
      "lambda: 7.847599703514607e-08\n",
      "lambda: 2.3357214690901212e-07\n",
      "lambda: 6.951927961775605e-07\n",
      "lambda: 2.06913808111479e-06\n",
      "lambda: 6.158482110660255e-06\n",
      "lambda: 1.8329807108324338e-05\n",
      "lambda: 5.4555947811685143e-05\n",
      "lambda: 0.0001623776739188721\n",
      "lambda: 0.0004832930238571752\n",
      "lambda: 0.0014384498882876629\n",
      "lambda: 0.004281332398719387\n",
      "lambda: 0.012742749857031322\n",
      "lambda: 0.03792690190732246\n",
      "lambda: 0.11288378916846883\n",
      "lambda: 0.33598182862837744\n",
      "lambda: 1.0\n"
     ]
    }
   ],
   "source": [
    "# Run cross val\n",
    "lambdas = np.logspace(-9, 0, 20)\n",
    "k_fold = 4\n",
    "\n",
    "# Hyperparameter optimisation\n",
    "acc_train = np.empty((len(lambdas), k_fold), float)\n",
    "acc_test = np.empty((len(lambdas), k_fold), float)\n",
    "\n",
    "for l, lambda_ in enumerate(lambdas):\n",
    "    print(f'lambda: {lambda_}')\n",
    "    k = 0\n",
    "    for train_split, test_split in k_fold_iter(y_train, fx_train, k_fold):\n",
    "        # Train\n",
    "        w, loss = ridge_regression(train_split[1], train_split[0], lambda_)\n",
    "        acc_tr = eval_model(train_split[1], train_split[0], w)\n",
    "        acc_train[l, k] = acc_tr\n",
    "\n",
    "        # Test\n",
    "        acc_te = eval_model(test_split[1], test_split[0], w)\n",
    "        acc_test[l, k] = acc_te\n",
    "\n",
    "        k += 1"
   ]
  },
  {
   "cell_type": "code",
   "execution_count": 186,
   "metadata": {},
   "outputs": [
    {
     "name": "stdout",
     "output_type": "stream",
     "text": [
      "Maximum test accuracy 0.7199542857142858 with lambda 2.9763514416313133e-09\n"
     ]
    },
    {
     "data": {
      "image/png": "[encoded data removed]",
      "text/plain": [
       "<Figure size 720x432 with 1 Axes>"
      ]
     },
     "metadata": {},
     "output_type": "display_data"
    }
   ],
   "source": [
    "fig = cross_validation_visualization(lambdas, 1-acc_train, 1-acc_test)\n",
    "\n",
    "avg_acc_test = np.mean(acc_test, axis=1)\n",
    "lambda_opt_ridge = lambdas[np.argmax(avg_acc_test)]\n",
    "\n",
    "print('Maximum test accuracy {} with lambda {}'.format(np.max(avg_acc_test), lambda_opt_ridge))\n",
    "\n",
    "fig.savefig('../report/ridge_crossval.pdf', bbox_inches='tight')"
   ]
  },
  {
   "cell_type": "code",
   "execution_count": 187,
   "metadata": {},
   "outputs": [
    {
     "name": "stdout",
     "output_type": "stream",
     "text": [
      "Training loss: 0.14301609682144178\n",
      "Training accuracy: 0.7197657142857142\n",
      "Test accuracy: 0.7188533333333333\n"
     ]
    }
   ],
   "source": [
    "# Run training\n",
    "w_ridge, loss_ridge = ridge_regression(y_train, fx_train, lambda_opt_ridge)\n",
    "print(f'Training loss: {loss_ridge}')\n",
    "\n",
    "acc = eval_model(y_train, fx_train, w_ridge)\n",
    "print(f'Training accuracy: {acc}')\n",
    "\n",
    "acc_ridge = eval_model(y_eval, fx_eval, w_ridge)\n",
    "print(f'Test accuracy: {acc_ridge}')"
   ]
  },
  {
   "cell_type": "markdown",
   "metadata": {},
   "source": [
    "##### Train LogReg"
   ]
  },
  {
   "cell_type": "code",
   "execution_count": 179,
   "metadata": {},
   "outputs": [
    {
     "name": "stdout",
     "output_type": "stream",
     "text": [
      "Loss convergence:Terminate because loss did not change by more than threshold.\n",
      "Loss convergence:Terminate because loss did not change by more than threshold.\n",
      "Loss convergence:Terminate because loss did not change by more than threshold.\n",
      "Loss convergence:Terminate because loss did not change by more than threshold.\n",
      "Loss convergence:Terminate because loss did not change by more than threshold.\n",
      "Loss convergence:Terminate because loss did not change by more than threshold.\n",
      "Loss convergence:Terminate because loss did not change by more than threshold.\n"
     ]
    }
   ],
   "source": [
    "# Run cross-validation to find optimal step-size\n",
    "gammas = np.logspace(-7, -2, 5)\n",
    "k_fold = 4\n",
    "\n",
    "max_iters = 5000\n",
    "w_initial = np.ones(tx_train.shape[1])\n",
    "\n",
    "# Hyperparameter optimisation\n",
    "acc_train = np.empty((len(gammas), k_fold), float)\n",
    "acc_test = np.empty((len(gammas), k_fold), float)\n",
    "\n",
    "for g, gamma in enumerate(gammas):\n",
    "    k = 0\n",
    "    for train_split, test_split in k_fold_iter(y_train, tx_train, k_fold):\n",
    "        # Train\n",
    "        w, loss = logistic_regression_mean(train_split[1], train_split[0], w_initial, \n",
    "                                           max_iters, gamma, threshold=1e-6, verbose=False)\n",
    "        \n",
    "        acc_tr = eval_model(train_split[1], train_split[0], w, thresh=0.5)\n",
    "        acc_train[g, k] = acc_tr\n",
    "\n",
    "        # Test\n",
    "        acc_te = eval_model(test_split[1], test_split[0], w, thresh=0.5)\n",
    "        acc_test[g, k] = acc_te\n",
    "\n",
    "        k += 1"
   ]
  },
  {
   "cell_type": "code",
   "execution_count": 181,
   "metadata": {},
   "outputs": [
    {
     "name": "stdout",
     "output_type": "stream",
     "text": [
      "Maximum test accuracy 0.7230571428571428 with gamma 0.01\n"
     ]
    },
    {
     "data": {
      "image/png": "[encoded data removed]",
      "text/plain": [
       "<Figure size 720x432 with 1 Axes>"
      ]
     },
     "metadata": {},
     "output_type": "display_data"
    }
   ],
   "source": [
    "fig = cross_validation_visualization(gammas, 1-acc_train, 1-acc_test)\n",
    "fig.savefig('../report/crossval_lr.pdf', bbox_inches='tight')\n",
    "avg_acc_test = np.mean(acc_test, axis=1)\n",
    "gamma_opt_lr = gammas[np.argmax(avg_acc_test)]\n",
    "\n",
    "print('Maximum test accuracy {} with gamma {}'.format(np.max(avg_acc_test), gamma_opt_lr))"
   ]
  },
  {
   "cell_type": "code",
   "execution_count": 182,
   "metadata": {
    "scrolled": true
   },
   "outputs": [
    {
     "name": "stdout",
     "output_type": "stream",
     "text": [
      "Gradient Descent (0/14999): loss=4.9399464656485925, gradient=1.1070150667360843\n",
      "Gradient Descent (100/14999): loss=3.744638955603192, gradient=1.0757625234785748\n",
      "Gradient Descent (200/14999): loss=2.660183871882455, gradient=0.9939685748542625\n",
      "Gradient Descent (300/14999): loss=1.8358315281073783, gradient=0.8008442314450439\n",
      "Gradient Descent (400/14999): loss=1.373341534216789, gradient=0.5664264578414981\n",
      "Gradient Descent (500/14999): loss=1.1283284058888108, gradient=0.4414843709133819\n",
      "Gradient Descent (600/14999): loss=0.9608052299096556, gradient=0.3813570647365515\n",
      "Gradient Descent (700/14999): loss=0.834100959239845, gradient=0.33095041231472316\n",
      "Gradient Descent (800/14999): loss=0.7403573840109454, gradient=0.2818153614972203\n",
      "Gradient Descent (900/14999): loss=0.6735010928901823, gradient=0.23613902384085597\n",
      "Gradient Descent (1000/14999): loss=0.6270053126903851, gradient=0.19614762202692698\n",
      "Gradient Descent (1100/14999): loss=0.5950191683662266, gradient=0.16260812861450613\n",
      "Gradient Descent (1200/14999): loss=0.5729789948998237, gradient=0.1352718223081525\n",
      "Gradient Descent (1300/14999): loss=0.5576363695049985, gradient=0.11327327997296995\n",
      "Gradient Descent (1400/14999): loss=0.5467934531249612, gradient=0.09565434975145502\n",
      "Gradient Descent (1500/14999): loss=0.5389923063535039, gradient=0.0815362735522871\n",
      "Gradient Descent (1600/14999): loss=0.5332700941306313, gradient=0.07019321279257965\n",
      "Gradient Descent (1700/14999): loss=0.528987489186593, gradient=0.06104532180738103\n",
      "Gradient Descent (1800/14999): loss=0.5257161139205274, gradient=0.05363487686138744\n",
      "Gradient Descent (1900/14999): loss=0.5231657282822834, gradient=0.047602496364440736\n",
      "Gradient Descent (2000/14999): loss=0.5211372603256591, gradient=0.04266620588522998\n",
      "Gradient Descent (2100/14999): loss=0.5194924021346482, gradient=0.03860460839301821\n",
      "Gradient Descent (2200/14999): loss=0.5181337794978406, gradient=0.03524368361349481\n",
      "Gradient Descent (2300/14999): loss=0.5169919067042482, gradient=0.03244637204180193\n",
      "Gradient Descent (2400/14999): loss=0.5160165282005124, gradient=0.03010437242163754\n",
      "Gradient Descent (2500/14999): loss=0.5151708154757387, gradient=0.028131749840285093\n",
      "Gradient Descent (2600/14999): loss=0.5144274352597575, gradient=0.026460001737582003\n",
      "Gradient Descent (2700/14999): loss=0.5137658544404596, gradient=0.025034267275724272\n",
      "Gradient Descent (2800/14999): loss=0.5131704702971358, gradient=0.023810415873717974\n",
      "Gradient Descent (2900/14999): loss=0.5126292974326444, gradient=0.02275280425400025\n",
      "Gradient Descent (3000/14999): loss=0.5121330344757822, gradient=0.02183253955021163\n",
      "Gradient Descent (3100/14999): loss=0.5116743928682533, gradient=0.021026125654577104\n",
      "Gradient Descent (3200/14999): loss=0.5112476086336527, gradient=0.02031440094711704\n",
      "Gradient Descent (3300/14999): loss=0.5108480833805242, gradient=0.019681699006761175\n",
      "Gradient Descent (3400/14999): loss=0.5104721176146044, gradient=0.019115181333074965\n",
      "Gradient Descent (3500/14999): loss=0.5101167107104211, gradient=0.018604303907318626\n",
      "Gradient Descent (3600/14999): loss=0.5097794095274673, gradient=0.018140388775425544\n",
      "Gradient Descent (3700/14999): loss=0.5094581928807719, gradient=0.017716278677444568\n",
      "Gradient Descent (3800/14999): loss=0.5091513826887157, gradient=0.017326057783237283\n",
      "Gradient Descent (3900/14999): loss=0.5088575751458738, gradient=0.016964825337528196\n",
      "Gradient Descent (4000/14999): loss=0.5085755870516259, gradient=0.016628511835618608\n",
      "Gradient Descent (4100/14999): loss=0.5083044136971903, gradient=0.016313729501718093\n",
      "Gradient Descent (4200/14999): loss=0.5080431956300867, gradient=0.016017650504586953\n",
      "Gradient Descent (4300/14999): loss=0.5077911922815553, gradient=0.015737907645667824\n",
      "Gradient Descent (4400/14999): loss=0.5075477609316904, gradient=0.015472513281868456\n",
      "Gradient Descent (4500/14999): loss=0.5073123398492723, gradient=0.0152197930623364\n",
      "Gradient Descent (4600/14999): loss=0.5070844347136689, gradient=0.014978331712545707\n",
      "Gradient Descent (4700/14999): loss=0.5068636076295454, gradient=0.014746928624593278\n",
      "Gradient Descent (4800/14999): loss=0.5066494681991954, gradient=0.014524561436263754\n",
      "Gradient Descent (4900/14999): loss=0.5064416662347906, gradient=0.014310356123658228\n",
      "Gradient Descent (5000/14999): loss=0.5062398857829953, gradient=0.014103562409060823\n",
      "Gradient Descent (5100/14999): loss=0.5060438402039401, gradient=0.013903533509964467\n",
      "Gradient Descent (5200/14999): loss=0.5058532681005028, gradient=0.01370970943694577\n",
      "Gradient Descent (5300/14999): loss=0.5056679299358833, gradient=0.013521603195512698\n",
      "Gradient Descent (5400/14999): loss=0.5054876052103755, gradient=0.013338789366700236\n",
      "Gradient Descent (5500/14999): loss=0.5053120900941066, gradient=0.013160894638344477\n",
      "Gradient Descent (5600/14999): loss=0.5051411954329209, gradient=0.012987589937894515\n",
      "Gradient Descent (5700/14999): loss=0.5049747450607517, gradient=0.012818583881777479\n",
      "Gradient Descent (5800/14999): loss=0.5048125743646604, gradient=0.012653617308507118\n",
      "Gradient Descent (5900/14999): loss=0.5046545290589476, gradient=0.012492458705183881\n",
      "Gradient Descent (6000/14999): loss=0.5045004641329291, gradient=0.012334900371603676\n",
      "Gradient Descent (6100/14999): loss=0.5043502429435164, gradient=0.01218075519435839\n",
      "Gradient Descent (6200/14999): loss=0.5042037364290073, gradient=0.01202985392627424\n",
      "Gradient Descent (6300/14999): loss=0.504060822424754, gradient=0.011882042885269629\n",
      "Gradient Descent (6400/14999): loss=0.5039213850647852, gradient=0.011737182002011294\n",
      "Gradient Descent (6500/14999): loss=0.5037853142562604, gradient=0.011595143158248094\n",
      "Gradient Descent (6600/14999): loss=0.5036525052158792, gradient=0.011455808767924259\n",
      "Gradient Descent (6700/14999): loss=0.5035228580592154, gradient=0.011319070561542738\n",
      "Gradient Descent (6800/14999): loss=0.5033962774354476, gradient=0.011184828541104997\n",
      "Gradient Descent (6900/14999): loss=0.5032726722011835, gradient=0.011052990078576993\n",
      "Gradient Descent (7000/14999): loss=0.5031519551280974, gradient=0.01092346913544768\n",
      "Gradient Descent (7100/14999): loss=0.5030340426399182, gradient=0.010796185584740802\n",
      "Gradient Descent (7200/14999): loss=0.5029188545750056, gradient=0.01067106461996333\n",
      "Gradient Descent (7300/14999): loss=0.5028063139713154, gradient=0.010548036238046735\n",
      "Gradient Descent (7400/14999): loss=0.5026963468710287, gradient=0.010427034785459973\n",
      "Gradient Descent (7500/14999): loss=0.5025888821425176, gradient=0.010307998558426875\n",
      "Gradient Descent (7600/14999): loss=0.5024838513176467, gradient=0.010190869449632175\n",
      "Gradient Descent (7700/14999): loss=0.5023811884426881, gradient=0.010075592635002998\n",
      "Gradient Descent (7800/14999): loss=0.5022808299413614, gradient=0.009962116295151762\n",
      "Gradient Descent (7900/14999): loss=0.502182714488708, gradient=0.009850391366896739\n",
      "Gradient Descent (8000/14999): loss=0.5020867828946726, gradient=0.00974037132096912\n",
      "Gradient Descent (8100/14999): loss=0.5019929779964086, gradient=0.00963201196259346\n",
      "Gradient Descent (8200/14999): loss=0.501901244558449, gradient=0.009525271252111943\n",
      "Gradient Descent (8300/14999): loss=0.5018115291799811, gradient=0.009420109143229017\n",
      "Gradient Descent (8400/14999): loss=0.5017237802085585, gradient=0.009316487436793728\n",
      "Gradient Descent (8500/14999): loss=0.5016379476596586, gradient=0.00921436964832477\n",
      "Gradient Descent (8600/14999): loss=0.5015539831415583, gradient=0.00911372088772599\n",
      "Gradient Descent (8700/14999): loss=0.5014718397850639, gradient=0.009014507749846027\n",
      "Gradient Descent (8800/14999): loss=0.5013914721776752, gradient=0.008916698214710328\n",
      "Gradient Descent (8900/14999): loss=0.501312836301811, gradient=0.008820261556402977\n",
      "Gradient Descent (9000/14999): loss=0.5012358894767639, gradient=0.008725168259702654\n",
      "Gradient Descent (9100/14999): loss=0.5011605903040794, gradient=0.008631389943686325\n",
      "Gradient Descent (9200/14999): loss=0.5010868986160928, gradient=0.008538899291607761\n",
      "Gradient Descent (9300/14999): loss=0.501014775427375, gradient=0.008447669986438896\n",
      "Gradient Descent (9400/14999): loss=0.5009441828888691, gradient=0.008357676651531715\n",
      "Gradient Descent (9500/14999): loss=0.500875084244516, gradient=0.008268894795919106\n",
      "Gradient Descent (9600/14999): loss=0.5008074437901863, gradient=0.008181300763825679\n"
     ]
    },
    {
     "name": "stdout",
     "output_type": "stream",
     "text": [
      "Gradient Descent (9700/14999): loss=0.5007412268347543, gradient=0.008094871688005649\n",
      "Gradient Descent (9800/14999): loss=0.5006763996631624, gradient=0.008009585446565057\n",
      "Gradient Descent (9900/14999): loss=0.5006129295013376, gradient=0.007925420622961078\n",
      "Gradient Descent (10000/14999): loss=0.5005507844828353, gradient=0.007842356468902077\n",
      "Gradient Descent (10100/14999): loss=0.5004899336170957, gradient=0.007760372869899766\n",
      "Gradient Descent (10200/14999): loss=0.500430346759205, gradient=0.007679450313249064\n",
      "Gradient Descent (10300/14999): loss=0.500371994581067, gradient=0.00759956985823273\n",
      "Gradient Descent (10400/14999): loss=0.5003148485438939, gradient=0.007520713108367252\n",
      "Gradient Descent (10500/14999): loss=0.5002588808719375, gradient=0.007442862185523497\n",
      "Gradient Descent (10600/14999): loss=0.5002040645273809, gradient=0.007365999705770883\n",
      "Gradient Descent (10700/14999): loss=0.5001503731863235, gradient=0.007290108756807825\n",
      "Gradient Descent (10800/14999): loss=0.5000977812157974, gradient=0.0072151728768530795\n",
      "Gradient Descent (10900/14999): loss=0.5000462636517494, gradient=0.007141176034884269\n",
      "Gradient Descent (11000/14999): loss=0.49999579617794004, gradient=0.007068102612119192\n",
      "Gradient Descent (11100/14999): loss=0.49994635510570334, gradient=0.006995937384645254\n",
      "Gradient Descent (11200/14999): loss=0.49989791735452427, gradient=0.006924665507109805\n",
      "Gradient Descent (11300/14999): loss=0.4998504604333852, gradient=0.006854272497392133\n",
      "Gradient Descent (11400/14999): loss=0.49980396242284625, gradient=0.006784744222184129\n",
      "Gradient Descent (11500/14999): loss=0.4997584019578137, gradient=0.006716066883412921\n",
      "Gradient Descent (11600/14999): loss=0.49971375821096964, gradient=0.006648227005444264\n",
      "Gradient Descent (11700/14999): loss=0.4996700108768213, gradient=0.0065812114230104635\n",
      "Gradient Descent (11800/14999): loss=0.4996271401563453, gradient=0.006515007269811104\n",
      "Gradient Descent (11900/14999): loss=0.4995851267421951, gradient=0.0064496019677392335\n",
      "Gradient Descent (12000/14999): loss=0.49954395180444283, gradient=0.006384983216689175\n",
      "Gradient Descent (12100/14999): loss=0.49950359697683483, gradient=0.006321138984905885\n",
      "Gradient Descent (12200/14999): loss=0.49946404434353286, gradient=0.006258057499838709\n",
      "Gradient Descent (12300/14999): loss=0.4994252764263187, gradient=0.006195727239465415\n",
      "Gradient Descent (12400/14999): loss=0.4993872761722451, gradient=0.006134136924055117\n",
      "Gradient Descent (12500/14999): loss=0.4993500269417079, gradient=0.006073275508340784\n",
      "Gradient Descent (12600/14999): loss=0.49931351249692363, gradient=0.006013132174074832\n",
      "Gradient Descent (12700/14999): loss=0.49927771699079637, gradient=0.0059536963229426644\n",
      "Gradient Descent (12800/14999): loss=0.499242624956153, gradient=0.005894957569811553\n",
      "Gradient Descent (12900/14999): loss=0.49920822129533576, gradient=0.0058369057362933395\n",
      "Gradient Descent (13000/14999): loss=0.4991744912701327, gradient=0.005779530844601613\n",
      "Gradient Descent (13100/14999): loss=0.4991414204920372, gradient=0.005722823111685022\n",
      "Gradient Descent (13200/14999): loss=0.49910899491281924, gradient=0.005666772943619881\n",
      "Gradient Descent (13300/14999): loss=0.4990772008153964, gradient=0.005611370930246562\n",
      "Gradient Descent (13400/14999): loss=0.49904602480499555, gradient=0.0055566078400350275\n",
      "Gradient Descent (13500/14999): loss=0.4990154538005897, gradient=0.00550247461516613\n",
      "Gradient Descent (13600/14999): loss=0.49898547502660306, gradient=0.00544896236681623\n",
      "Gradient Descent (13700/14999): loss=0.49895607600487096, gradient=0.0053960623706333696\n",
      "Gradient Descent (13800/14999): loss=0.49892724454684834, gradient=0.005343766062394298\n",
      "Gradient Descent (13900/14999): loss=0.4988989687460536, gradient=0.005292065033832256\n",
      "Gradient Descent (14000/14999): loss=0.4988712369707427, gradient=0.005240951028626163\n",
      "Gradient Descent (14100/14999): loss=0.4988440378568027, gradient=0.005190415938542428\n",
      "Gradient Descent (14200/14999): loss=0.49881736030085755, gradient=0.005140451799721291\n",
      "Gradient Descent (14300/14999): loss=0.4987911934535784, gradient=0.0050910507891000515\n",
      "Gradient Descent (14400/14999): loss=0.49876552671319213, gradient=0.00504220522096611\n",
      "Gradient Descent (14500/14999): loss=0.4987403497191788, gradient=0.00499390754363309\n",
      "Gradient Descent (14600/14999): loss=0.49871565234615434, gradient=0.004946150336234122\n",
      "Gradient Descent (14700/14999): loss=0.4986914246979293, gradient=0.004898926305626006\n",
      "Gradient Descent (14800/14999): loss=0.49866765710173905, gradient=0.004852228283399279\n",
      "Gradient Descent (14900/14999): loss=0.4986443401026408, gradient=0.004806049222988788\n",
      "Training loss: 0.49862169105964604\n",
      "Training accuracy: 0.7255085714285714\n",
      "Testing accuracy: 0.72516\n"
     ]
    }
   ],
   "source": [
    "max_iters = 15000\n",
    "w_initial = np.ones(tx_train.shape[1])\n",
    "\n",
    "# Run gradient descent \n",
    "w_lr, loss_lr = logistic_regression_mean(y_train, tx_train, w_initial, max_iters, gamma_opt_lr, \n",
    "                                    threshold=1e-7, verbose=True)\n",
    "print(f'Training loss: {loss_lr}')\n",
    "\n",
    "acc = eval_model(y_train, tx_train, w_lr, thresh=0.5)\n",
    "print(f'Training accuracy: {acc}')\n",
    "\n",
    "acc_lr = eval_model(y_eval, tx_eval, w_lr, thresh=0.5)\n",
    "print(f'Testing accuracy: {acc_lr}')"
   ]
  },
  {
   "cell_type": "markdown",
   "metadata": {},
   "source": [
    "# Compare model performance "
   ]
  },
  {
   "cell_type": "code",
   "execution_count": 204,
   "metadata": {},
   "outputs": [
    {
     "data": {
      "image/png": "[encoded data removed]",
      "text/plain": [
       "<Figure size 720x288 with 1 Axes>"
      ]
     },
     "metadata": {},
     "output_type": "display_data"
    }
   ],
   "source": [
    "accuracy = [acc_baseline, acc_ls, acc_ridge, acc_lr]\n",
    "labels = ['$\\mathtt{Base}$', '$\\mathtt{LeastSquares}$', '$\\mathtt{Ridge}$',  \n",
    "          '$\\mathtt{Logistic}$']\n",
    "\n",
    "fig = model_comparison_visualization(accuracy, labels, acc_baseline)\n",
    "fig.savefig('../report/model_comparison_basic.pdf', bbox_inches='tight')"
   ]
  },
  {
   "cell_type": "markdown",
   "metadata": {},
   "source": [
    "# Final training and test set prediction "
   ]
  },
  {
   "cell_type": "code",
   "execution_count": 195,
   "metadata": {},
   "outputs": [],
   "source": [
    "tx = np.vstack([tx_eval, tx_train])\n",
    "y = np.concatenate([y_eval, y_train])"
   ]
  },
  {
   "cell_type": "code",
   "execution_count": 196,
   "metadata": {},
   "outputs": [
    {
     "name": "stdout",
     "output_type": "stream",
     "text": [
      "Gradient Descent (0/49999): loss=4.93105081157005, gradient=1.1047426011345043\n",
      "Gradient Descent (100/49999): loss=3.7405866862558654, gradient=1.0736050576397516\n",
      "Gradient Descent (200/49999): loss=2.6603176513111735, gradient=0.9921793432763903\n",
      "Gradient Descent (300/49999): loss=1.8384348997309368, gradient=0.8000573556133291\n",
      "Gradient Descent (400/49999): loss=1.3761564966075521, gradient=0.5667907036497947\n",
      "Gradient Descent (500/49999): loss=1.1306510753418875, gradient=0.4420244397870684\n",
      "Gradient Descent (600/49999): loss=0.9626791271452254, gradient=0.38192890826624043\n",
      "Gradient Descent (700/49999): loss=0.8355638405637225, gradient=0.33150529955211694\n",
      "Gradient Descent (800/49999): loss=0.7415082685390214, gradient=0.282285302700923\n",
      "Gradient Descent (900/49999): loss=0.6744203289404945, gradient=0.23656216614075204\n",
      "Gradient Descent (1000/49999): loss=0.6277548210252364, gradient=0.19651732564901447\n",
      "Gradient Descent (1100/49999): loss=0.5956406799956155, gradient=0.1629544820890748\n",
      "Gradient Descent (1200/49999): loss=0.5735019006605866, gradient=0.1355882268781382\n",
      "Gradient Descent (1300/49999): loss=0.5580852379752159, gradient=0.11355269219665053\n",
      "Gradient Descent (1400/49999): loss=0.5471885146277604, gradient=0.09589069463625258\n",
      "Gradient Descent (1500/49999): loss=0.5393493301611985, gradient=0.08173069352400013\n",
      "Gradient Descent (1600/49999): loss=0.5336005098032364, gradient=0.07035121707469849\n",
      "Gradient Descent (1700/49999): loss=0.5292992013740645, gradient=0.06117400829910131\n",
      "Gradient Descent (1800/49999): loss=0.526014435542131, gradient=0.053741165859891186\n",
      "Gradient Descent (1900/49999): loss=0.5234541847886456, gradient=0.04769227977190915\n",
      "Gradient Descent (2000/49999): loss=0.521418186738254, gradient=0.042744199871188875\n",
      "Gradient Descent (2100/49999): loss=0.5197673492095957, gradient=0.03867449773265368\n",
      "Gradient Descent (2200/49999): loss=0.5184037811350652, gradient=0.035308295592072755\n",
      "Gradient Descent (2300/49999): loss=0.5172576561579171, gradient=0.03250781676595849\n",
      "Gradient Descent (2400/49999): loss=0.5162784952608732, gradient=0.03016416076750353\n",
      "Gradient Descent (2500/49999): loss=0.5154293247267078, gradient=0.028190902112995193\n",
      "Gradient Descent (2600/49999): loss=0.5146827181892908, gradient=0.026519149871586663\n",
      "Gradient Descent (2700/49999): loss=0.5140180838386988, gradient=0.025093748211295282\n",
      "Gradient Descent (2800/49999): loss=0.5134197826598896, gradient=0.023870353092923957\n",
      "Gradient Descent (2900/49999): loss=0.5128758072898686, gradient=0.022813175680491946\n",
      "Gradient Descent (3000/49999): loss=0.5123768433360729, gradient=0.021893231543833908\n",
      "Gradient Descent (3100/49999): loss=0.5119155946196883, gradient=0.021086974037643504\n",
      "Gradient Descent (3200/49999): loss=0.5114862926509502, gradient=0.02037522073463313\n",
      "Gradient Descent (3300/49999): loss=0.5110843361799052, gradient=0.019742304827671774\n",
      "Gradient Descent (3400/49999): loss=0.5107060236164416, gradient=0.019175400537770563\n",
      "Gradient Descent (3500/49999): loss=0.510348352477382, gradient=0.018663984175448407\n",
      "Gradient Descent (3600/49999): loss=0.5100088677153206, gradient=0.01819940176328744\n",
      "Gradient Descent (3700/49999): loss=0.5096855460512864, gradient=0.01777452094347556\n",
      "Gradient Descent (3800/49999): loss=0.5093767070757496, gradient=0.01738344994511005\n",
      "Gradient Descent (3900/49999): loss=0.5090809444275128, gradient=0.017021310166603375\n",
      "Gradient Descent (4000/49999): loss=0.5087970721565949, gradient=0.016684051791703677\n",
      "Gradient Descent (4100/49999): loss=0.5085240826582614, gradient=0.016368304052548292\n",
      "Gradient Descent (4200/49999): loss=0.508261113487776, gradient=0.016071253455119023\n",
      "Gradient Descent (4300/49999): loss=0.5080074210359442, gradient=0.015790544615428687\n",
      "Gradient Descent (4400/49999): loss=0.5077623595373169, gradient=0.015524199407388303\n",
      "Gradient Descent (4500/49999): loss=0.5075253642467604, gradient=0.015270550959977007\n",
      "Gradient Descent (4600/49999): loss=0.5072959378914705, gradient=0.015028189709689697\n",
      "Gradient Descent (4700/49999): loss=0.5070736397094495, gradient=0.014795919250121314\n",
      "Gradient Descent (4800/49999): loss=0.5068580765398448, gradient=0.014572720151403965\n",
      "Gradient Descent (4900/49999): loss=0.5066488955481628, gradient=0.014357720269333922\n",
      "Gradient Descent (5000/49999): loss=0.5064457782595592, gradient=0.014150170344111718\n",
      "Gradient Descent (5100/49999): loss=0.5062484356429214, gradient=0.013949423914886485\n",
      "Gradient Descent (5200/49999): loss=0.5060566040423553, gradient=0.013754920759260835\n",
      "Gradient Descent (5300/49999): loss=0.5058700417946503, gradient=0.013566173214985561\n",
      "Gradient Descent (5400/49999): loss=0.5056885264041332, gradient=0.013382754860997798\n",
      "Gradient Descent (5500/49999): loss=0.5055118521721077, gradient=0.013204291132150528\n",
      "Gradient Descent (5600/49999): loss=0.5053398281984222, gradient=0.013030451520809488\n",
      "Gradient Descent (5700/49999): loss=0.5051722766887985, gradient=0.012860943082469354\n",
      "Gradient Descent (5800/49999): loss=0.5050090315143412, gradient=0.012695505014500012\n",
      "Gradient Descent (5900/49999): loss=0.5048499369798275, gradient=0.012533904119363332\n",
      "Gradient Descent (6000/49999): loss=0.50469484676552, gradient=0.01237593099798841\n",
      "Gradient Descent (6100/49999): loss=0.5045436230137559, gradient=0.012221396846951536\n",
      "Gradient Descent (6200/49999): loss=0.5043961355368227, gradient=0.012070130755882666\n",
      "Gradient Descent (6300/49999): loss=0.5042522611268357, gradient=0.011921977420088704\n",
      "Gradient Descent (6400/49999): loss=0.5041118829517659, gradient=0.011776795198535863\n",
      "Gradient Descent (6500/49999): loss=0.5039748900245122, gradient=0.011634454459708206\n",
      "Gradient Descent (6600/49999): loss=0.5038411767341802, gradient=0.011494836167975078\n",
      "Gradient Descent (6700/49999): loss=0.5037106424305409, gradient=0.011357830671377734\n",
      "Gradient Descent (6800/49999): loss=0.5035831910541531, gradient=0.011223336658525127\n",
      "Gradient Descent (6900/49999): loss=0.5034587308058489, gradient=0.011091260257847934\n",
      "Gradient Descent (7000/49999): loss=0.5033371738502969, gradient=0.010961514257022992\n",
      "Gradient Descent (7100/49999): loss=0.5032184360491768, gradient=0.010834017424130446\n",
      "Gradient Descent (7200/49999): loss=0.5031024367201953, gradient=0.010708693915191681\n",
      "Gradient Descent (7300/49999): loss=0.5029890984187307, gradient=0.010585472755278396\n",
      "Gradient Descent (7400/49999): loss=0.502878346739379, gradient=0.01046428738248078\n",
      "Gradient Descent (7500/49999): loss=0.5027701101350509, gradient=0.010345075245756062\n",
      "Gradient Descent (7600/49999): loss=0.5026643197516192, gradient=0.01022777744911285\n",
      "Gradient Descent (7700/49999): loss=0.502560909276374, gradient=0.010112338435775737\n",
      "Gradient Descent (7800/49999): loss=0.5024598147987905, gradient=0.00999870570696184\n",
      "Gradient Descent (7900/49999): loss=0.5023609746823047, gradient=0.0098868295707224\n",
      "Gradient Descent (8000/49999): loss=0.5022643294459581, gradient=0.009776662916986837\n",
      "Gradient Descent (8100/49999): loss=0.502169821654922, gradient=0.009668161015518916\n",
      "Gradient Descent (8200/49999): loss=0.5020773958190267, gradient=0.009561281333972908\n",
      "Gradient Descent (8300/49999): loss=0.5019869982985287, gradient=0.009455983373639431\n",
      "Gradient Descent (8400/49999): loss=0.5018985772164374, gradient=0.009352228520808269\n",
      "Gradient Descent (8500/49999): loss=0.5018120823768012, gradient=0.009249979911960155\n",
      "Gradient Descent (8600/49999): loss=0.5017274651884197, gradient=0.009149202311240277\n",
      "Gradient Descent (8700/49999): loss=0.501644678593507, gradient=0.009049861998869944\n",
      "Gradient Descent (8800/49999): loss=0.5015636770008786, gradient=0.008951926669326551\n",
      "Gradient Descent (8900/49999): loss=0.5014844162232884, gradient=0.008855365338269373\n",
      "Gradient Descent (9000/49999): loss=0.5014068534185663, gradient=0.008760148257315222\n",
      "Gradient Descent (9100/49999): loss=0.5013309470342581, gradient=0.008666246835876173\n",
      "Gradient Descent (9200/49999): loss=0.5012566567554834, gradient=0.008573633569364778\n",
      "Gradient Descent (9300/49999): loss=0.5011839434557679, gradient=0.008482281973152353\n",
      "Gradient Descent (9400/49999): loss=0.5011127691506194, gradient=0.008392166521735576\n",
      "Gradient Descent (9500/49999): loss=0.5010430969536452, gradient=0.008303262592626936\n",
      "Gradient Descent (9600/49999): loss=0.5009748910350238, gradient=0.008215546414537067\n"
     ]
    },
    {
     "name": "stdout",
     "output_type": "stream",
     "text": [
      "Gradient Descent (9700/49999): loss=0.5009081165821615, gradient=0.008128995019462872\n",
      "Gradient Descent (9800/49999): loss=0.5008427397623768, gradient=0.008043586198335563\n",
      "Gradient Descent (9900/49999): loss=0.5007787276874782, gradient=0.007959298459918152\n",
      "Gradient Descent (10000/49999): loss=0.5007160483800986, gradient=0.007876110992672793\n",
      "Gradient Descent (10100/49999): loss=0.5006546707416741, gradient=0.007794003629346178\n",
      "Gradient Descent (10200/49999): loss=0.5005945645219549, gradient=0.007712956814045313\n",
      "Gradient Descent (10300/49999): loss=0.5005357002899539, gradient=0.0076329515715978\n",
      "Gradient Descent (10400/49999): loss=0.500478049406234, gradient=0.007553969479009979\n",
      "Gradient Descent (10500/49999): loss=0.5004215839964606, gradient=0.007475992638853443\n",
      "Gradient Descent (10600/49999): loss=0.5003662769261313, gradient=0.007399003654426027\n",
      "Gradient Descent (10700/49999): loss=0.500312101776418, gradient=0.007322985606546916\n",
      "Gradient Descent (10800/49999): loss=0.5002590328210537, gradient=0.0072479220318582204\n",
      "Gradient Descent (10900/49999): loss=0.5002070450042019, gradient=0.007173796902516289\n",
      "Gradient Descent (11000/49999): loss=0.500156113919254, gradient=0.00710059460716639\n",
      "Gradient Descent (11100/49999): loss=0.5001062157885005, gradient=0.0070282999331032206\n",
      "Gradient Descent (11200/49999): loss=0.5000573274436292, gradient=0.00695689804952812\n",
      "Gradient Descent (11300/49999): loss=0.5000094263070033, gradient=0.006886374491821354\n",
      "Gradient Descent (11400/49999): loss=0.4999624903736785, gradient=0.00681671514675454\n",
      "Gradient Descent (11500/49999): loss=0.49991649819412165, gradient=0.006747906238574475\n",
      "Gradient Descent (11600/49999): loss=0.4998714288575913, gradient=0.00667993431589525\n",
      "Gradient Descent (11700/49999): loss=0.4998272619761482, gradient=0.006612786239340662\n",
      "Gradient Descent (11800/49999): loss=0.49978397766926386, gradient=0.006546449169883575\n",
      "Gradient Descent (11900/49999): loss=0.49974155654899843, gradient=0.006480910557833139\n",
      "Gradient Descent (12000/49999): loss=0.49969997970571717, gradient=0.006416158132424571\n",
      "Gradient Descent (12100/49999): loss=0.4996592286943231, gradient=0.006352179891970015\n",
      "Gradient Descent (12200/49999): loss=0.4996192855209798, gradient=0.006288964094531925\n",
      "Gradient Descent (12300/49999): loss=0.4995801326303011, gradient=0.006226499249083625\n",
      "Gradient Descent (12400/49999): loss=0.4995417528929871, gradient=0.006164774107124257\n",
      "Gradient Descent (12500/49999): loss=0.4995041295938871, gradient=0.006103777654718095\n",
      "Gradient Descent (12600/49999): loss=0.4994672464204668, gradient=0.006043499104930078\n",
      "Gradient Descent (12700/49999): loss=0.49943108745166825, gradient=0.005983927890631958\n",
      "Gradient Descent (12800/49999): loss=0.49939563714713936, gradient=0.005925053657655114\n",
      "Gradient Descent (12900/49999): loss=0.4993608803368196, gradient=0.005866866258267897\n",
      "Gradient Descent (13000/49999): loss=0.4993268022108699, gradient=0.005809355744957194\n",
      "Gradient Descent (13100/49999): loss=0.4992933883099262, gradient=0.005752512364495079\n",
      "Gradient Descent (13200/49999): loss=0.4992606245156695, gradient=0.005696326552273134\n",
      "Gradient Descent (13300/49999): loss=0.49922849704169475, gradient=0.005640788926888023\n",
      "Gradient Descent (13400/49999): loss=0.4991969924246708, gradient=0.005585890284963294\n",
      "Gradient Descent (13500/49999): loss=0.4991660975157769, gradient=0.005531621596193259\n",
      "Gradient Descent (13600/49999): loss=0.49913579947240505, gradient=0.0054779739985960285\n",
      "Gradient Descent (13700/49999): loss=0.49910608575012155, gradient=0.005424938793963464\n",
      "Gradient Descent (13800/49999): loss=0.4990769440948725, gradient=0.005372507443496784\n",
      "Gradient Descent (13900/49999): loss=0.4990483625354279, gradient=0.005320671563617386\n",
      "Gradient Descent (14000/49999): loss=0.4990203293760542, gradient=0.005269422921943017\n",
      "Gradient Descent (14100/49999): loss=0.49899283318940774, gradient=0.00521875343342024\n",
      "Gradient Descent (14200/49999): loss=0.49896586280963884, gradient=0.005168655156604657\n",
      "Gradient Descent (14300/49999): loss=0.4989394073257015, gradient=0.005119120290081055\n",
      "Gradient Descent (14400/49999): loss=0.49891345607485943, gradient=0.005070141169015933\n",
      "Gradient Descent (14500/49999): loss=0.4988879986363829, gradient=0.00502171026183556\n",
      "Gradient Descent (14600/49999): loss=0.49886302482542866, gradient=0.004973820167023206\n",
      "Gradient Descent (14700/49999): loss=0.4988385246870973, gradient=0.004926463610029285\n",
      "Gradient Descent (14800/49999): loss=0.4988144884906609, gradient=0.00487963344028899\n",
      "Gradient Descent (14900/49999): loss=0.49879090672395676, gradient=0.004833322628341928\n",
      "Gradient Descent (15000/49999): loss=0.4987677700879399, gradient=0.00478752426304895\n",
      "Gradient Descent (15100/49999): loss=0.4987450694913906, gradient=0.004742231548901352\n",
      "Gradient Descent (15200/49999): loss=0.49872279604576975, gradient=0.004697437803418258\n",
      "Gradient Descent (15300/49999): loss=0.49870094106021967, gradient=0.00465313645462792\n",
      "Gradient Descent (15400/49999): loss=0.4986794960367034, gradient=0.004609321038629233\n",
      "Gradient Descent (15500/49999): loss=0.4986584526652798, gradient=0.0045659851972297\n",
      "Gradient Descent (15600/49999): loss=0.4986378028195075, gradient=0.00452312267565652\n",
      "Gradient Descent (15700/49999): loss=0.4986175385519772, gradient=0.004480727320337524\n",
      "Gradient Descent (15800/49999): loss=0.498597652089965, gradient=0.0044387930767490515\n",
      "Gradient Descent (15900/49999): loss=0.49857813583120403, gradient=0.0043973139873277525\n",
      "Gradient Descent (16000/49999): loss=0.4985589823397723, gradient=0.004356284189443751\n",
      "Gradient Descent (16100/49999): loss=0.49854018434208913, gradient=0.004315697913432531\n",
      "Gradient Descent (16200/49999): loss=0.4985217347230217, gradient=0.00427554948068325\n",
      "Gradient Descent (16300/49999): loss=0.49850362652209457, gradient=0.004235833301781033\n",
      "Gradient Descent (16400/49999): loss=0.49848585292980063, gradient=0.00419654387470134\n",
      "Gradient Descent (16500/49999): loss=0.4984684072840111, gradient=0.004157675783054146\n",
      "Gradient Descent (16600/49999): loss=0.49845128306647746, gradient=0.0041192236943761165\n",
      "Gradient Descent (16700/49999): loss=0.4984344738994304, gradient=0.004081182358468915\n",
      "Gradient Descent (16800/49999): loss=0.4984179735422641, gradient=0.004043546605781944\n",
      "Gradient Descent (16900/49999): loss=0.4984017758883093, gradient=0.004006311345837796\n",
      "Gradient Descent (17000/49999): loss=0.49838587496168996, gradient=0.003969471565698952\n",
      "Gradient Descent (17100/49999): loss=0.49837026491426223, gradient=0.00393302232847413\n",
      "Gradient Descent (17200/49999): loss=0.4983549400226317, gradient=0.0038969587718629475\n",
      "Gradient Descent (17300/49999): loss=0.49833989468524875, gradient=0.003861276106737479\n",
      "Gradient Descent (17400/49999): loss=0.4983251234195782, gradient=0.0038259696157595256\n",
      "Gradient Descent (17500/49999): loss=0.498310620859341, gradient=0.003791034652032239\n",
      "Gradient Descent (17600/49999): loss=0.49829638175182756, gradient=0.0037564666377850595\n",
      "Gradient Descent (17700/49999): loss=0.49828240095527865, gradient=0.003722261063090746\n",
      "Gradient Descent (17800/49999): loss=0.4982686734363335, gradient=0.0036884134846134984\n",
      "Gradient Descent (17900/49999): loss=0.49825519426754195, gradient=0.003654919524387167\n",
      "Gradient Descent (18000/49999): loss=0.4982419586249391, gradient=0.00362177486862248\n",
      "Gradient Descent (18100/49999): loss=0.4982289617856828, gradient=0.0035889752665424924\n",
      "Gradient Descent (18200/49999): loss=0.4982161991257479, gradient=0.0035565165292452496\n",
      "Gradient Descent (18300/49999): loss=0.49820366611768047, gradient=0.0035243945285929066\n",
      "Gradient Descent (18400/49999): loss=0.4981913583284066, gradient=0.003492605196126372\n",
      "Gradient Descent (18500/49999): loss=0.4981792714170956, gradient=0.003461144522004817\n",
      "Gradient Descent (18600/49999): loss=0.4981674011330779, gradient=0.0034300085539692646\n",
      "Gradient Descent (18700/49999): loss=0.49815574331381285, gradient=0.003399193396329416\n",
      "Gradient Descent (18800/49999): loss=0.4981442938829064, gradient=0.0033686952089731917\n",
      "Gradient Descent (18900/49999): loss=0.49813304884817944, gradient=0.0033385102063982703\n",
      "Gradient Descent (19000/49999): loss=0.4981220042997818, gradient=0.0033086346567648816\n"
     ]
    },
    {
     "name": "stdout",
     "output_type": "stream",
     "text": [
      "Gradient Descent (19100/49999): loss=0.4981111564083525, gradient=0.0032790648809694067\n",
      "Gradient Descent (19200/49999): loss=0.4981005014232264, gradient=0.003249797251738068\n",
      "Gradient Descent (19300/49999): loss=0.4980900356706822, gradient=0.0032208281927401656\n",
      "Gradient Descent (19400/49999): loss=0.4980797555522351, gradient=0.003192154177720366\n",
      "Gradient Descent (19500/49999): loss=0.49806965754297006, gradient=0.0031637717296494543\n",
      "Loss convergence:Terminate because loss did not change by more than threshold.\n",
      "Training loss: 0.4980690573777227\n",
      "Training accuracy: 0.726608\n"
     ]
    }
   ],
   "source": [
    "max_iters = 50000\n",
    "w_initial = np.ones(tx.shape[1])\n",
    "\n",
    "# Run gradient descent \n",
    "w, loss = logistic_regression_mean(y, tx, w_initial, max_iters, gamma_opt_lr, \n",
    "                                    threshold=1e-7, verbose=True)\n",
    "print(f'Training loss: {loss}')\n",
    "\n",
    "acc = eval_model(y, tx, w, thresh=0.5)\n",
    "print(f'Training accuracy: {acc}')"
   ]
  },
  {
   "cell_type": "code",
   "execution_count": 197,
   "metadata": {},
   "outputs": [],
   "source": [
    " # Load train data\n",
    "y_test, x_test, ids_test = load_csv_data(path.join(DATA_PATH, 'test.csv'))\n",
    "fx_test = feature_transform(x_test)\n",
    "tx_test = np.c_[np.ones(fx_test.shape[0]), fx_test]"
   ]
  },
  {
   "cell_type": "code",
   "execution_count": 199,
   "metadata": {},
   "outputs": [],
   "source": [
    "# Get predictions on test set\n",
    "y_pred = predict_labels(w, tx_test, thresh=0.5)\n",
    "create_csv_submission(ids_test, y_pred, '../data/final_submission.csv')"
   ]
  }
 ],
 "metadata": {
  "kernelspec": {
   "display_name": "Python 3",
   "language": "python",
   "name": "python3"
  },
  "language_info": {
   "codemirror_mode": {
    "name": "ipython",
    "version": 3
   },
   "file_extension": ".py",
   "mimetype": "text/x-python",
   "name": "python",
   "nbconvert_exporter": "python",
   "pygments_lexer": "ipython3",
   "version": "3.6.8"
  }
 },
 "nbformat": 4,
 "nbformat_minor": 4
}
