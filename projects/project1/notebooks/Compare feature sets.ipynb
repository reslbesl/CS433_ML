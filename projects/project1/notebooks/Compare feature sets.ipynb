{
 "cells": [
  {
   "cell_type": "code",
   "execution_count": 1,
   "metadata": {},
   "outputs": [],
   "source": [
    "%matplotlib inline\n",
    "%load_ext autoreload\n",
    "%autoreload 2"
   ]
  },
  {
   "cell_type": "code",
   "execution_count": 151,
   "metadata": {},
   "outputs": [],
   "source": [
    "import numpy as np\n",
    "import pandas as pd\n",
    "\n",
    "import sys\n",
    "sys.path.append('../scripts/')\n",
    "\n",
    "from proj1_helpers import *\n",
    "from implementations import *\n",
    "from implementation_variants import *\n",
    "from plots import *\n",
    "\n",
    "SEED = 42\n",
    "DATA_PATH = '../data/'"
   ]
  },
  {
   "cell_type": "markdown",
   "metadata": {},
   "source": [
    "# 0 Load data"
   ]
  },
  {
   "cell_type": "code",
   "execution_count": 3,
   "metadata": {},
   "outputs": [],
   "source": [
    "df_train = pd.read_csv('../data/train.csv')\n",
    "df_train = df_train.set_index('Id')\n",
    "df_train_x = df_train[list(filter(lambda c: c != 'Prediction', list(df_train)))]\n",
    "\n",
    "FEATURE_NAMES = list(df_train_x)"
   ]
  },
  {
   "cell_type": "code",
   "execution_count": 115,
   "metadata": {},
   "outputs": [
    {
     "name": "stdout",
     "output_type": "stream",
     "text": [
      " # train samples: 175000\n",
      " # eval samples: 75000\n"
     ]
    }
   ],
   "source": [
    " # Load train data\n",
    "y, x, ids = load_csv_data(path.join(DATA_PATH, 'train.csv'))\n",
    "\n",
    "# Split into train and evaluation set\n",
    "(x_train, y_train), (x_eval, y_eval) = train_eval_split(y, x, split_ratio=.7, seed=1)\n",
    "\n",
    "print(f' # train samples: {len(y_train)}\\n # eval samples: {len(y_eval)}')\n",
    "\n",
    "num_dim = x_train.shape[1]"
   ]
  },
  {
   "cell_type": "code",
   "execution_count": 6,
   "metadata": {},
   "outputs": [],
   "source": [
    "def generate_mask(features_to_remove):\n",
    "    feat_idx = [FEATURE_NAMES.index(f) for f in features_to_remove]\n",
    "    mask = np.ones(len(FEATURE_NAMES)).astype(bool)\n",
    "    mask[feat_idx] = False\n",
    "    \n",
    "    return mask"
   ]
  },
  {
   "cell_type": "code",
   "execution_count": 132,
   "metadata": {},
   "outputs": [],
   "source": [
    "LEAST_INFO = ['DER_mass_vis', 'DER_deltar_tau_lep','DER_pt_tot','PRI_tau_eta','PRI_tau_phi',\n",
    "              'PRI_lep_pt','PRI_lep_eta','PRI_lep_phi','PRI_met','PRI_met_phi']\n",
    "\n",
    "JET_NOT_DEFINED = ['DER_lep_eta_centrality', 'DER_prodeta_jet_jet', 'DER_mass_jet_jet', 'DER_deltaeta_jet_jet', \n",
    "                      'PRI_jet_subleading_eta', 'PRI_jet_subleading_phi', 'PRI_jet_subleading_pt']\n",
    "\n",
    "DER_FEATURES = list(filter(lambda c: 'DER' in c, list(FEATURE_NAMES)))\n",
    "\n",
    "feature_masks = [generate_mask([]), generate_mask(LEAST_INFO), generate_mask(JET_NOT_DEFINED)]\n",
    "\n",
    "labels = ['Raw', 'MostInfo', 'Jet', 'Impute', 'Indicator']"
   ]
  },
  {
   "cell_type": "code",
   "execution_count": 14,
   "metadata": {},
   "outputs": [],
   "source": [
    "def compare_features_visualisation(acc_train, acc_test, labels, model):\n",
    "    arr_train = acc_train.flatten()\n",
    "    arr_test = acc_test.flatten()\n",
    "\n",
    "    arr_features = np.concatenate([np.repeat(labels, acc_train.shape[1]), np.repeat(labels, acc_train.shape[1])])\n",
    "    arr_labels = np.concatenate([np.repeat('Train', len(arr_train)), np.repeat('Test', len(arr_test))])\n",
    "    arr_acc = np.concatenate([arr_train, arr_test])\n",
    "\n",
    "    plt_data = pd.DataFrame({'Feature Set':arr_features, 'Accuracy':arr_acc, 'Set':arr_labels})\n",
    "\n",
    "    fig, ax = plt.subplots(figsize=(10,6))\n",
    "    ax = sns.boxplot(x='Feature Set', y='Accuracy', hue='Set', data=plt_data)\n",
    "    ax.set(ylabel='$\\mathtt{Accuracy}$', title=f'{model}');\n",
    "    \n",
    "    return fig"
   ]
  },
  {
   "cell_type": "markdown",
   "metadata": {},
   "source": [
    "# 1 Least-Squares"
   ]
  },
  {
   "cell_type": "code",
   "execution_count": 95,
   "metadata": {},
   "outputs": [],
   "source": [
    "def run_least_squares(y_train, x_train, y_eval, x_eval, feature_mask):\n",
    "    # Remove unwanted features\n",
    "    x_train = x_train[:, feature_mask]\n",
    "    x_eval = x_eval[:, feature_mask]\n",
    "    \n",
    "    # Standardise to training mean and s.d.\n",
    "    x_train, mean_x, std_x = standardise(x_train)\n",
    "    x_eval = standardise_to_fixed(x_eval, mean_x, std_x)\n",
    "    \n",
    "    # Run training\n",
    "    w, loss = least_squares(y_train, x_train)\n",
    "#     print(f'Training loss: {loss}')\n",
    "\n",
    "    # Get training accuracy\n",
    "    acc_tr  = eval_model(y_train, x_train, w, thresh=0)\n",
    "#     print(f'Training accuracy: {acc_tr}')\n",
    "\n",
    "    # Get accuracy on evaluation set\n",
    "    acc_te = eval_model(y_eval, x_eval, w, thresh=0)\n",
    "    print(f'Test Accuracy: {acc_te}')\n",
    "    \n",
    "    return w, loss, acc_tr, acc_te"
   ]
  },
  {
   "cell_type": "code",
   "execution_count": 143,
   "metadata": {},
   "outputs": [
    {
     "name": "stdout",
     "output_type": "stream",
     "text": [
      "Feature Set:  Raw\n",
      "Test Accuracy: 0.7192457142857143\n",
      "Test Accuracy: 0.7175542857142857\n",
      "Test Accuracy: 0.7191314285714285\n",
      "Test Accuracy: 0.7180342857142857\n",
      "Feature Set:  MostInfo\n",
      "Test Accuracy: 0.7092114285714286\n",
      "Test Accuracy: 0.7069485714285715\n",
      "Test Accuracy: 0.7116114285714286\n",
      "Test Accuracy: 0.7067885714285714\n",
      "Feature Set:  Jet\n",
      "Test Accuracy: 0.7086628571428571\n",
      "Test Accuracy: 0.7079771428571429\n",
      "Test Accuracy: 0.7071085714285714\n",
      "Test Accuracy: 0.7056685714285714\n",
      "Feature Set: Impute\n",
      "Test Accuracy: 0.71952\n",
      "Test Accuracy: 0.7175542857142857\n",
      "Test Accuracy: 0.7188571428571429\n",
      "Test Accuracy: 0.7179428571428571\n",
      "Feature Set: Indicator\n",
      "Test Accuracy: 0.7205714285714285\n",
      "Test Accuracy: 0.7192685714285715\n",
      "Test Accuracy: 0.7202514285714285\n",
      "Test Accuracy: 0.7194514285714285\n"
     ]
    },
    {
     "data": {
      "image/png": "[encoded data removed]",
      "text/plain": [
       "<Figure size 720x432 with 1 Axes>"
      ]
     },
     "metadata": {},
     "output_type": "display_data"
    }
   ],
   "source": [
    "k_fold = 4\n",
    "\n",
    "# Hyperparameter optimisation\n",
    "acc_train = np.empty((len(feature_masks)+2, k_fold), float)\n",
    "acc_test = np.empty((len(feature_masks)+2, k_fold), float)\n",
    "    \n",
    "for i, features in enumerate(feature_masks):\n",
    "    print('Feature Set: ', labels[i])\n",
    "    k = 0\n",
    "    for train_split, test_split in k_fold_iter(y_train, x_train, k_fold):\n",
    "            # Run evaluation\n",
    "            w, loss, acc_tr, acc_te = run_least_squares(train_split[1], train_split[0], \n",
    "                                                        test_split[1], test_split[0], features)\n",
    "            acc_train[i, k] = acc_tr\n",
    "            acc_test[i, k] = acc_te\n",
    "            \n",
    "            k+=1\n",
    "            \n",
    "print('Feature Set: Impute')\n",
    "col_index = [FEATURE_NAMES.index(i) for i in JET_NOT_DEFINED]\n",
    "x_train_imp = x_train.copy()\n",
    "x_train_imp[x_train_imp == -999] = -100\n",
    "\n",
    "x_eval_imp = x_eval.copy()\n",
    "x_eval_imp[x_eval_imp == -999] = -100\n",
    "\n",
    "features = generate_mask([])\n",
    "\n",
    "k = 0\n",
    "for train_split, test_split in k_fold_iter(y_train, x_train_imp, k_fold):\n",
    "        # Run evaluation\n",
    "        w, loss, acc_tr, acc_te = run_least_squares(train_split[1], train_split[0], \n",
    "                                                    test_split[1], test_split[0], features)\n",
    "        acc_train[-2, k] = acc_tr\n",
    "        acc_test[-2, k] = acc_te\n",
    "\n",
    "        k+=1\n",
    "        \n",
    "print('Feature Set: Indicator')\n",
    "JET_NUM_IDX = FEATURE_NAMES.index('PRI_jet_num')\n",
    "\n",
    "x_ind = (x_train[:, JET_NUM_IDX] > 1).astype(int)\n",
    "# x_train_imp = np.delete(x_train, JET_NUM_IDX, axis=1)\n",
    "x_train_imp = np.concatenate([x_train, np.expand_dims(x_ind, axis=1)], axis=1)\n",
    "\n",
    "features = generate_mask(['DER_deltaeta_jet_jet', 'DER_prodeta_jet_jet'])\n",
    "features = np.concatenate([features, [True]])\n",
    "\n",
    "k = 0\n",
    "for train_split, test_split in k_fold_iter(y_train, x_train_imp, k_fold):\n",
    "        # Run evaluation\n",
    "        w, loss, acc_tr, acc_te = run_least_squares(train_split[1], train_split[0], \n",
    "                                                    test_split[1], test_split[0], features)\n",
    "        acc_train[-1, k] = acc_tr\n",
    "        acc_test[-1, k] = acc_te\n",
    "\n",
    "        k+=1\n",
    "            \n",
    "fig = compare_features_visualisation(acc_train, acc_test, labels, '$\\mathtt{LeastSquares}$')\n",
    "fig.savefig('../report/compare_features_ls.pdf', bbox_inches='tight')"
   ]
  },
  {
   "cell_type": "markdown",
   "metadata": {},
   "source": [
    "# 2 Ridge Regresion"
   ]
  },
  {
   "cell_type": "code",
   "execution_count": 146,
   "metadata": {},
   "outputs": [],
   "source": [
    "def run_ridge(y_train, x_train, y_eval, x_eval, feature_mask):\n",
    "    # Remove unwanted features\n",
    "    x_train = x_train[:, feature_mask]\n",
    "    x_eval = x_eval[:, feature_mask]\n",
    "    \n",
    "    # Standardise to training mean and s.d.\n",
    "    x_train, mean_x, std_x = standardise(x_train)\n",
    "    x_eval = standardise_to_fixed(x_eval, mean_x, std_x)\n",
    "    \n",
    "    lambdas = np.logspace(-8, -1, 10)\n",
    "    k_fold = 4\n",
    "\n",
    "    # Hyperparameter optimisation\n",
    "    acc_train = np.empty((len(lambdas), k_fold), float)\n",
    "    acc_test = np.empty((len(lambdas), k_fold), float)\n",
    "\n",
    "    for l, lambda_ in enumerate(lambdas):\n",
    "        k = 0\n",
    "        for train_split, test_split in k_fold_iter(y_train, x_train, k_fold):\n",
    "            # Train\n",
    "            w, loss = ridge_regression(train_split[1], train_split[0], lambda_)\n",
    "            acc_tr = eval_model(train_split[1], train_split[0], w)\n",
    "            acc_train[l, k] = acc_tr\n",
    "\n",
    "            # Test\n",
    "            acc_te = eval_model(test_split[1], test_split[0], w)\n",
    "            acc_test[l, k] = acc_te\n",
    "\n",
    "            k += 1\n",
    "#     fig = cross_validation_visualization(lambdas, 1-acc_train, 1-acc_test)\n",
    "\n",
    "    avg_acc_test = np.mean(acc_test, axis=1)\n",
    "    lambda_opt_ridge = lambdas[np.argmax(avg_acc_test)]\n",
    "\n",
    "    print('Maximum test accuracy {} with lambda {}'.format(np.max(avg_acc_test), lambda_opt_ridge))\n",
    "    \n",
    "    # Run training\n",
    "    w, loss = ridge_regression(y_train, x_train, lambda_opt_ridge)\n",
    "#     print(f'Training loss: {loss_ridge}')\n",
    "\n",
    "    acc_tr = eval_model(y_train, x_train, w)\n",
    "#     print(f'Training accuracy: {acc}')\n",
    "\n",
    "    acc_te = eval_model(y_eval, x_eval, w)\n",
    "    print(f'Test accuracy: {acc_te}')\n",
    "    \n",
    "    \n",
    "    return w, loss, acc_tr, acc_te\n",
    "    "
   ]
  },
  {
   "cell_type": "code",
   "execution_count": 147,
   "metadata": {
    "scrolled": false
   },
   "outputs": [
    {
     "name": "stdout",
     "output_type": "stream",
     "text": [
      "Feature Set Raw\n",
      "Maximum test accuracy 0.7186928562720956 with lambda 5.99484250318941e-08\n",
      "Test accuracy: 0.7196342857142857\n",
      "Maximum test accuracy 0.7184947580153602 with lambda 1e-08\n",
      "Test accuracy: 0.7175314285714286\n",
      "Maximum test accuracy 0.7182966597586249 with lambda 1e-08\n",
      "Test accuracy: 0.7194742857142857\n",
      "Maximum test accuracy 0.7182357064488601 with lambda 3.5938136638046254e-07\n",
      "Test accuracy: 0.71792\n",
      "Feature Set MostInfo\n",
      "Maximum test accuracy 0.7093212848957698 with lambda 5.99484250318941e-08\n",
      "Test accuracy: 0.7092114285714286\n",
      "Maximum test accuracy 0.7091612824576374 with lambda 5.99484250318941e-08\n",
      "Test accuracy: 0.7069257142857143\n",
      "Maximum test accuracy 0.7077898329879312 with lambda 1e-08\n",
      "Test accuracy: 0.71168\n",
      "Maximum test accuracy 0.7090850908204315 with lambda 1e-08\n",
      "Test accuracy: 0.7068342857142857\n",
      "Feature Set Jet\n",
      "Maximum test accuracy 0.7073936364744604 with lambda 1e-08\n",
      "Test accuracy: 0.7084114285714286\n",
      "Maximum test accuracy 0.7066164817749604 with lambda 7.742636826811278e-05\n",
      "Test accuracy: 0.7079542857142858\n",
      "Maximum test accuracy 0.7071117274167987 with lambda 0.0004641588833612782\n",
      "Test accuracy: 0.7069942857142857\n",
      "Maximum test accuracy 0.7069441058149458 with lambda 7.742636826811278e-05\n",
      "Test accuracy: 0.7056914285714285\n",
      "Feature Set: Impute\n",
      "Maximum test accuracy 0.7187995245641838 with lambda 2.1544346900318865e-06\n",
      "Test accuracy: 0.7196342857142857\n",
      "Maximum test accuracy 0.7186776179446545 with lambda 1.2915496650148827e-05\n",
      "Test accuracy: 0.7177371428571429\n",
      "Maximum test accuracy 0.7185023771790808 with lambda 2.1544346900318865e-06\n",
      "Test accuracy: 0.71936\n",
      "Maximum test accuracy 0.7183728513958308 with lambda 1.2915496650148827e-05\n",
      "Test accuracy: 0.7179428571428571\n",
      "Feature Set: Indicator\n",
      "Maximum test accuracy 0.7200795440692429 with lambda 1e-08\n",
      "Test accuracy: 0.7208\n",
      "Maximum test accuracy 0.7195157259539193 with lambda 1e-08\n",
      "Test accuracy: 0.7191542857142857\n",
      "Maximum test accuracy 0.7191804827502134 with lambda 1e-08\n",
      "Test accuracy: 0.7201828571428571\n",
      "Maximum test accuracy 0.7196528709008899 with lambda 1e-08\n",
      "Test accuracy: 0.7189257142857143\n"
     ]
    },
    {
     "data": {
      "image/png": "[encoded data removed]",
      "text/plain": [
       "<Figure size 720x432 with 1 Axes>"
      ]
     },
     "metadata": {},
     "output_type": "display_data"
    }
   ],
   "source": [
    "k_fold = 4\n",
    "\n",
    "# Hyperparameter optimisation\n",
    "acc_train = np.empty((len(labels), k_fold), float)\n",
    "acc_test = np.empty((len(labels), k_fold), float)\n",
    "    \n",
    "for i, features in enumerate(feature_masks):\n",
    "    print('\\nFeature Set', labels[i])\n",
    "    k = 0\n",
    "    for train_split, test_split in k_fold_iter(y_train, x_train, k_fold):\n",
    "            # Run evaluation\n",
    "            w, loss, acc_tr, acc_te = run_ridge(train_split[1], train_split[0], \n",
    "                                                        test_split[1], test_split[0], features)\n",
    "            acc_train[i, k] = acc_tr\n",
    "            acc_test[i, k] = acc_te\n",
    "            \n",
    "            k+=1\n",
    "            \n",
    "print('\\nFeature Set: Impute')\n",
    "col_index = [FEATURE_NAMES.index(i) for i in JET_NOT_DEFINED]\n",
    "x_train_imp = x_train.copy()\n",
    "x_train_imp[x_train_imp == -999] = -100\n",
    "\n",
    "x_eval_imp = x_eval.copy()\n",
    "x_eval_imp[x_eval_imp == -999] = -100\n",
    "\n",
    "features = generate_mask([])\n",
    "\n",
    "k = 0\n",
    "for train_split, test_split in k_fold_iter(y_train, x_train_imp, k_fold):\n",
    "        # Run evaluation\n",
    "        w, loss, acc_tr, acc_te = run_ridge(train_split[1], train_split[0], \n",
    "                                                    test_split[1], test_split[0], features)\n",
    "        acc_train[-2, k] = acc_tr\n",
    "        acc_test[-2, k] = acc_te\n",
    "\n",
    "        k+=1\n",
    "        \n",
    "print('\\nFeature Set: Indicator')\n",
    "JET_NUM_IDX = FEATURE_NAMES.index('PRI_jet_num')\n",
    "\n",
    "x_ind = (x_train[:, JET_NUM_IDX] > 1).astype(int)\n",
    "# x_train_imp = np.delete(x_train, JET_NUM_IDX, axis=1)\n",
    "x_train_imp = np.concatenate([x_train, np.expand_dims(x_ind, axis=1)], axis=1)\n",
    "\n",
    "features = generate_mask(['DER_deltaeta_jet_jet', 'DER_prodeta_jet_jet'])\n",
    "features = np.concatenate([features, [True]])\n",
    "\n",
    "k = 0\n",
    "for train_split, test_split in k_fold_iter(y_train, x_train_imp, k_fold):\n",
    "        # Run evaluation\n",
    "        w, loss, acc_tr, acc_te = run_ridge(train_split[1], train_split[0], \n",
    "                                                    test_split[1], test_split[0], features)\n",
    "        acc_train[-1, k] = acc_tr\n",
    "        acc_test[-1, k] = acc_te\n",
    "\n",
    "        k+=1\n",
    "            \n",
    "fig = compare_features_visualisation(acc_train, acc_test, labels, '$\\mathtt{Ridge}$')\n",
    "fig.savefig('../report/compare_features_ridge.pdf', bbox_inches='tight')"
   ]
  },
  {
   "cell_type": "markdown",
   "metadata": {},
   "source": [
    "# 3 Logistic Regression"
   ]
  },
  {
   "cell_type": "code",
   "execution_count": 162,
   "metadata": {},
   "outputs": [],
   "source": [
    "def run_logistic(y_train, x_train, y_eval, x_eval, feature_mask):\n",
    "    # Remove unwanted features\n",
    "    x_train = x_train[:, feature_mask]\n",
    "    x_eval = x_eval[:, feature_mask]\n",
    "    \n",
    "    # Standardise to training mean and s.d.\n",
    "    x_train, mean_x, std_x = standardise(x_train)\n",
    "    x_eval = standardise_to_fixed(x_eval, mean_x, std_x)\n",
    "\n",
    "    tx_train = np.c_[np.ones(x_train.shape[0]), x_train]\n",
    "    tx_eval = np.c_[np.ones(x_eval.shape[0]), x_eval]\n",
    "    \n",
    "    gamma = 2e-5\n",
    "    max_iters = 10000\n",
    "    w_initial = np.zeros(tx_train.shape[1])\n",
    "\n",
    "    # Run gradient descent \n",
    "    w, loss = logistic_regression_mean(y_train, tx_train, w_initial, max_iters, gamma, threshold=1e-6)\n",
    "#     print(f'Training loss: {loss_lr}')\n",
    "\n",
    "    acc_tr = eval_model(y_train, tx_train, w, thresh=0.5)\n",
    "#     print(f'Training accuracy: {acc}')\n",
    "\n",
    "    acc_te = eval_model(y_eval, tx_eval, w, thresh=0.5)\n",
    "    print(f'Testing accuracy: {acc_te}')\n",
    "    \n",
    "    return w, loss, acc_tr, acc_te"
   ]
  },
  {
   "cell_type": "code",
   "execution_count": 163,
   "metadata": {},
   "outputs": [
    {
     "name": "stdout",
     "output_type": "stream",
     "text": [
      "Feature Set:  Raw\n",
      "Testing accuracy: 0.6612114285714286\n",
      "Testing accuracy: 0.6580114285714286\n",
      "Testing accuracy: 0.6564342857142857\n",
      "Testing accuracy: 0.6564342857142857\n",
      "Feature Set:  MostInfo\n",
      "Testing accuracy: 0.6612342857142857\n",
      "Testing accuracy: 0.6580571428571429\n",
      "Testing accuracy: 0.6565942857142857\n",
      "Testing accuracy: 0.6565028571428572\n",
      "Feature Set:  Jet\n",
      "Testing accuracy: 0.66112\n",
      "Testing accuracy: 0.6581257142857143\n",
      "Testing accuracy: 0.65632\n",
      "Testing accuracy: 0.6560228571428571\n",
      "Feature Set: Impute\n",
      "Testing accuracy: 0.6616685714285714\n",
      "Testing accuracy: 0.6584685714285714\n",
      "Testing accuracy: 0.65664\n",
      "Testing accuracy: 0.6569142857142857\n",
      "Feature Set: Indicator\n",
      "Testing accuracy: 0.6611885714285715\n",
      "Testing accuracy: 0.6580342857142857\n",
      "Testing accuracy: 0.6564342857142857\n",
      "Testing accuracy: 0.6563885714285714\n"
     ]
    },
    {
     "data": {
      "image/png": "[encoded data removed]",
      "text/plain": [
       "<Figure size 720x432 with 1 Axes>"
      ]
     },
     "metadata": {},
     "output_type": "display_data"
    }
   ],
   "source": [
    "k_fold = 4\n",
    "\n",
    "# Hyperparameter optimisation\n",
    "acc_train = np.empty((len(feature_masks)+2, k_fold), float)\n",
    "acc_test = np.empty((len(feature_masks)+2, k_fold), float)\n",
    "    \n",
    "for i, features in enumerate(feature_masks):\n",
    "    print('Feature Set: ', labels[i])\n",
    "    k = 0\n",
    "    for train_split, test_split in k_fold_iter(y_train, x_train, k_fold):\n",
    "            # Run evaluation\n",
    "            w, loss, acc_tr, acc_te = run_logistic(train_split[1], train_split[0], \n",
    "                                                        test_split[1], test_split[0], features)\n",
    "            acc_train[i, k] = acc_tr\n",
    "            acc_test[i, k] = acc_te\n",
    "            \n",
    "            k+=1\n",
    "            \n",
    "print('Feature Set: Impute')\n",
    "col_index = [FEATURE_NAMES.index(i) for i in JET_NOT_DEFINED]\n",
    "x_train_imp = x_train.copy()\n",
    "x_train_imp[x_train_imp == -999] = -100\n",
    "\n",
    "x_eval_imp = x_eval.copy()\n",
    "x_eval_imp[x_eval_imp == -999] = -100\n",
    "\n",
    "features = generate_mask([])\n",
    "\n",
    "k = 0\n",
    "for train_split, test_split in k_fold_iter(y_train, x_train_imp, k_fold):\n",
    "        # Run evaluation\n",
    "        w, loss, acc_tr, acc_te = run_logistic(train_split[1], train_split[0], \n",
    "                                                    test_split[1], test_split[0], features)\n",
    "        acc_train[-2, k] = acc_tr\n",
    "        acc_test[-2, k] = acc_te\n",
    "\n",
    "        k+=1\n",
    "        \n",
    "print('Feature Set: Indicator')\n",
    "JET_NUM_IDX = FEATURE_NAMES.index('PRI_jet_num')\n",
    "\n",
    "x_ind = (x_train[:, JET_NUM_IDX] > 1).astype(int)\n",
    "# x_train_imp = np.delete(x_train, JET_NUM_IDX, axis=1)\n",
    "x_train_imp = np.concatenate([x_train, np.expand_dims(x_ind, axis=1)], axis=1)\n",
    "\n",
    "features = generate_mask(['DER_deltaeta_jet_jet', 'DER_prodeta_jet_jet'])\n",
    "features = np.concatenate([features, [True]])\n",
    "\n",
    "k = 0\n",
    "for train_split, test_split in k_fold_iter(y_train, x_train_imp, k_fold):\n",
    "        # Run evaluation\n",
    "        w, loss, acc_tr, acc_te = run_logistic(train_split[1], train_split[0], \n",
    "                                                    test_split[1], test_split[0], features)\n",
    "        acc_train[-1, k] = acc_tr\n",
    "        acc_test[-1, k] = acc_te\n",
    "\n",
    "        k+=1\n",
    "            \n",
    "fig = compare_features_visualisation(acc_train, acc_test, labels, '$\\mathtt{LogReg}$')\n",
    "fig.savefig('../report/compare_features_logreg.pdf', bbox_inches='tight')"
   ]
  },
  {
   "cell_type": "markdown",
   "metadata": {},
   "source": [
    "# -------------"
   ]
  },
  {
   "cell_type": "markdown",
   "metadata": {},
   "source": [
    "# Compare model performance on best performing feature set "
   ]
  },
  {
   "cell_type": "markdown",
   "metadata": {},
   "source": [
    "##### Data Processing"
   ]
  },
  {
   "cell_type": "code",
   "execution_count": 172,
   "metadata": {},
   "outputs": [],
   "source": [
    "JET_NUM_IDX = FEATURE_NAMES.index('PRI_jet_num')\n",
    "\n",
    "def feature_transform(x):\n",
    "    x_ind = (x[:, JET_NUM_IDX] > 1).astype(int)\n",
    "    x = np.concatenate([x, np.expand_dims(x_ind, axis=1)], axis=1)\n",
    "\n",
    "    features = generate_mask(['DER_deltaeta_jet_jet', 'DER_prodeta_jet_jet'])\n",
    "    features = np.concatenate([features, [True]])\n",
    "\n",
    "    x = x[:, features]\n",
    "    \n",
    "    return x\n",
    "\n",
    "fx_train = feature_transform(x_train)\n",
    "fx_eval = feature_transform(x_eval)\n",
    "\n",
    "fx_train, mu_x, sigma_x = standardise(fx_train)\n",
    "fx_eval = standardise_to_fixed(fx_eval, mu_x, sigma_x)\n",
    "\n",
    "tx_train = np.c_[np.ones(fx_train.shape[0]), fx_train]\n",
    "tx_eval = np.c_[np.ones(fx_eval.shape[0]), fx_eval]"
   ]
  },
  {
   "cell_type": "markdown",
   "metadata": {},
   "source": [
    "##### Train LogReg"
   ]
  },
  {
   "cell_type": "code",
   "execution_count": null,
   "metadata": {},
   "outputs": [
    {
     "name": "stdout",
     "output_type": "stream",
     "text": [
      "Loss convergence:Terminate because loss did not change by more than threshold.\n",
      "Loss convergence:Terminate because loss did not change by more than threshold.\n",
      "Loss convergence:Terminate because loss did not change by more than threshold.\n",
      "Loss convergence:Terminate because loss did not change by more than threshold.\n"
     ]
    }
   ],
   "source": [
    "# Run cross-validation to find optimal step-size\n",
    "gammas = np.logspace(-7, -2, 5)\n",
    "k_fold = 4\n",
    "\n",
    "max_iters = 5000\n",
    "w_initial = np.ones(tx_train.shape[1])\n",
    "\n",
    "# Hyperparameter optimisation\n",
    "acc_train = np.empty((len(gammas), k_fold), float)\n",
    "acc_test = np.empty((len(gammas), k_fold), float)\n",
    "\n",
    "for g, gamma in enumerate(gammas):\n",
    "    k = 0\n",
    "    for train_split, test_split in k_fold_iter(y_train, tx_train, k_fold):\n",
    "        # Train\n",
    "        w, loss = logistic_regression_mean(train_split[1], train_split[0], w_initial, \n",
    "                                           max_iters, gamma, threshold=1e-6, verbose=False)\n",
    "        \n",
    "        acc_tr = eval_model(train_split[1], train_split[0], w, thresh=0.5)\n",
    "        acc_train[g, k] = acc_tr\n",
    "\n",
    "        # Test\n",
    "        acc_te = eval_model(test_split[1], test_split[0], w, thresh=0.5)\n",
    "        acc_test[g, k] = acc_te\n",
    "\n",
    "        k += 1"
   ]
  },
  {
   "cell_type": "code",
   "execution_count": null,
   "metadata": {},
   "outputs": [],
   "source": [
    "fig = cross_validation_visualization(gammas, 1-acc_train, 1-acc_test)\n",
    "\n",
    "avg_acc_test = np.mean(acc_test, axis=1)\n",
    "gamma_opt_lr = gammas[np.argmax(avg_acc_test)]\n",
    "\n",
    "print('Maximum test accuracy {} with gamma {}'.format(np.max(avg_acc_test), gamma_opt_lr))"
   ]
  },
  {
   "cell_type": "markdown",
   "metadata": {},
   "source": [
    "# 3 Add indicator"
   ]
  },
  {
   "cell_type": "code",
   "execution_count": 221,
   "metadata": {},
   "outputs": [],
   "source": [
    "JET_NUM_IDX = FEATURE_NAMES.index('PRI_jet_num')\n",
    "\n",
    "def add_jet_indicator(y_train, x_train, y_eval, x_eval):\n",
    "    x_ind = (x_train[:, JET_NUM_IDX] > 1).astype(int)\n",
    "    x_train = np.delete(x_train, JET_NUM_IDX, axis=1)\n",
    "    x_train = np.concatenate([x_train, np.expand_dims(x_ind, axis=1)], axis=1)\n",
    "    \n",
    "    x_ind = (x_eval[:, JET_NUM_IDX] > 1).astype(int)\n",
    "    x_eval = np.delete(x_eval, JET_NUM_IDX, axis=1)\n",
    "    x_eval = np.concatenate([x_eval, np.expand_dims(x_ind, axis=1)], axis=1)\n",
    "    \n",
    "    # Standardise\n",
    "    x_train, mean_x, std_x = standardise(x_train)\n",
    "    x_eval = standardise_to_fixed(x_eval, mean_x, std_x)\n",
    "    \n",
    "    print('--Least Squares--')\n",
    "    w_mi, acc_mi = run_least_squares(y_train, x_train, y_eval, x_eval)\n",
    "    \n",
    "    print('\\n--Ridge--')\n",
    "    w_mi, acc_mi, lambda_mi = run_ridge(y_train, x_train, y_eval, x_eval)"
   ]
  },
  {
   "cell_type": "code",
   "execution_count": 222,
   "metadata": {},
   "outputs": [
    {
     "name": "stdout",
     "output_type": "stream",
     "text": [
      "--Least Squares--\n",
      "Training loss: 0.14292444720539205\n",
      "Training accuracy: 0.7184\n",
      "Test Accuracy: 0.7198933333333334\n",
      "\n",
      "--Ridge--\n",
      "lambda: 1e-09\n",
      "lambda: 4.393970560760786e-09\n",
      "lambda: 1.9306977288832496e-08\n",
      "lambda: 8.483428982440726e-08\n",
      "lambda: 3.727593720314938e-07\n",
      "lambda: 1.6378937069540647e-06\n",
      "lambda: 7.196856730011529e-06\n",
      "lambda: 3.1622776601683795e-05\n",
      "lambda: 0.0001389495494373139\n",
      "lambda: 0.0006105402296585339\n",
      "lambda: 0.002682695795279727\n",
      "lambda: 0.01178768634793589\n",
      "lambda: 0.05179474679231223\n",
      "lambda: 0.2275845926074791\n",
      "lambda: 1.0\n",
      "Maximum test accuracy 0.7182857142857143 with lambda 4.393970560760786e-09\n",
      "Training loss: 0.1429301352985215\n",
      "Training accuracy: 0.71832\n",
      "Test accuracy: 0.7198\n"
     ]
    },
    {
     "data": {
      "image/png": "[encoded data removed]",
      "text/plain": [
       "<Figure size 720x432 with 1 Axes>"
      ]
     },
     "metadata": {},
     "output_type": "display_data"
    }
   ],
   "source": [
    "add_jet_indicator(y_train, x_train, y_eval, x_eval)"
   ]
  }
 ],
 "metadata": {
  "kernelspec": {
   "display_name": "Python 3",
   "language": "python",
   "name": "python3"
  },
  "language_info": {
   "codemirror_mode": {
    "name": "ipython",
    "version": 3
   },
   "file_extension": ".py",
   "mimetype": "text/x-python",
   "name": "python",
   "nbconvert_exporter": "python",
   "pygments_lexer": "ipython3",
   "version": "3.6.8"
  }
 },
 "nbformat": 4,
 "nbformat_minor": 4
}
